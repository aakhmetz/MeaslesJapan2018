{
 "cells": [
  {
   "cell_type": "markdown",
   "metadata": {},
   "source": [
    "# Preamble"
   ]
  },
  {
   "cell_type": "code",
   "execution_count": 370,
   "metadata": {},
   "outputs": [],
   "source": [
    "libraries = c(\"dplyr\",\"magrittr\",\"tidyr\",\"ggplot2\",\"readxl\",\"glue\",\n",
    "              \"grid\",\"gridExtra\",\"zoo\",\"RColorBrewer\",\"scales\",\"gganimate\",\n",
    "              \"kableExtra\",\"formattable\",\"IRdisplay\",\"foreach\")\n",
    "for(x in libraries) { library(x,character.only=TRUE,warn.conflicts=FALSE) }\n",
    "\n",
    "# to show the plots as svg-graphics in Jupyter\n",
    "# options(jupyter.plot_mimetypes = \"image/svg+xml\")\n",
    "options(jupyter.plot_mimetypes = \"image/png\") \n",
    "\n",
    "if (Sys.info()[['sysname']]=='Windows') {\n",
    "    windowsFonts(Times = windowsFont(\"Times New Roman\"))\n",
    "    theme_set(theme_bw(base_size=11,base_family='Times')) \n",
    "} else { theme_set(theme_bw(base_size=11)) }\n",
    "\n",
    "'%&%' = function(x,y)paste0(x,y)\n",
    "\n",
    "# registering cluster\n",
    "cl = parallel::makeCluster(4)\n",
    "doParallel::registerDoParallel(cl)"
   ]
  },
  {
   "cell_type": "markdown",
   "metadata": {},
   "source": [
    "# (Fig 1) Epicurve"
   ]
  },
  {
   "cell_type": "code",
   "execution_count": 371,
   "metadata": {},
   "outputs": [
    {
     "data": {
      "text/html": [
       "<table>\n",
       "<thead><tr><th scope=col>onset</th><th scope=col>confirmed</th><th scope=col>prefecture</th></tr></thead>\n",
       "<tbody>\n",
       "\t<tr><td>2018-04-29</td><td>2018-05-12</td><td>Aichi     </td></tr>\n",
       "\t<tr><td>2018-05-09</td><td>2018-05-12</td><td>Aichi     </td></tr>\n",
       "\t<tr><td>2018-05-12</td><td>2018-05-13</td><td>Aichi     </td></tr>\n",
       "\t<tr><td>2018-05-12</td><td>2018-05-18</td><td>Aichi     </td></tr>\n",
       "\t<tr><td>2018-05-06</td><td>2018-05-08</td><td>Tokyo     </td></tr>\n",
       "\t<tr><td>2018-04-19</td><td>2018-05-02</td><td>Kanagawa  </td></tr>\n",
       "</tbody>\n",
       "</table>\n"
      ],
      "text/latex": [
       "\\begin{tabular}{r|lll}\n",
       " onset & confirmed & prefecture\\\\\n",
       "\\hline\n",
       "\t 2018-04-29 & 2018-05-12 & Aichi     \\\\\n",
       "\t 2018-05-09 & 2018-05-12 & Aichi     \\\\\n",
       "\t 2018-05-12 & 2018-05-13 & Aichi     \\\\\n",
       "\t 2018-05-12 & 2018-05-18 & Aichi     \\\\\n",
       "\t 2018-05-06 & 2018-05-08 & Tokyo     \\\\\n",
       "\t 2018-04-19 & 2018-05-02 & Kanagawa  \\\\\n",
       "\\end{tabular}\n"
      ],
      "text/markdown": [
       "\n",
       "onset | confirmed | prefecture | \n",
       "|---|---|---|---|---|---|\n",
       "| 2018-04-29 | 2018-05-12 | Aichi      | \n",
       "| 2018-05-09 | 2018-05-12 | Aichi      | \n",
       "| 2018-05-12 | 2018-05-13 | Aichi      | \n",
       "| 2018-05-12 | 2018-05-18 | Aichi      | \n",
       "| 2018-05-06 | 2018-05-08 | Tokyo      | \n",
       "| 2018-04-19 | 2018-05-02 | Kanagawa   | \n",
       "\n",
       "\n"
      ],
      "text/plain": [
       "  onset      confirmed  prefecture\n",
       "1 2018-04-29 2018-05-12 Aichi     \n",
       "2 2018-05-09 2018-05-12 Aichi     \n",
       "3 2018-05-12 2018-05-13 Aichi     \n",
       "4 2018-05-12 2018-05-18 Aichi     \n",
       "5 2018-05-06 2018-05-08 Tokyo     \n",
       "6 2018-04-19 2018-05-02 Kanagawa  "
      ]
     },
     "metadata": {},
     "output_type": "display_data"
    }
   ],
   "source": [
    "filename = \"data.xlsx\"\n",
    "\n",
    "read_excel(filename, sheet = \"Okinawa\", range = cell_cols(\"G:H\"), col_types = rep(\"date\",2), col_names = TRUE) -> df_epicurve\n",
    "colnames(df_epicurve) = c(\"onset\",\"confirmed\")\n",
    "df_epicurve %<>% mutate(prefecture=\"Okinawa\")\n",
    "\n",
    "read_excel(filename, sheet = \"Aichi\", range = cell_cols(\"G:H\"), col_types = rep(\"date\",2), col_names = TRUE) -> df_epicurve_\n",
    "colnames(df_epicurve_) = c(\"onset\",\"confirmed\")\n",
    "df_epicurve_ %<>% mutate(prefecture=\"Aichi\")\n",
    "df_epicurve %<>% rbind(df_epicurve_)\n",
    "\n",
    "read_excel(filename, sheet = \"Tokyo\", range = cell_cols(\"G:H\"), col_types = rep(\"date\",2), col_names = TRUE) -> df_epicurve_\n",
    "colnames(df_epicurve_) = c(\"onset\",\"confirmed\")\n",
    "df_epicurve_ %<>% mutate(prefecture=\"Tokyo\")\n",
    "df_epicurve %<>% rbind(df_epicurve_)\n",
    "\n",
    "read_excel(filename, sheet = \"Kanagawa\", range = cell_cols(\"G:H\"), col_types = rep(\"date\",2), col_names = TRUE) -> df_epicurve_\n",
    "colnames(df_epicurve_) = c(\"onset\",\"confirmed\")\n",
    "df_epicurve_ %<>% mutate(prefecture=\"Kanagawa\")\n",
    "df_epicurve %<>% rbind(df_epicurve_)\n",
    "\n",
    "df_epicurve %<>% \n",
    "    mutate(onset=as.Date(onset), confirmed=as.Date(confirmed))\n",
    "\n",
    "df_epicurve %>% tail"
   ]
  },
  {
   "cell_type": "code",
   "execution_count": 372,
   "metadata": {},
   "outputs": [
    {
     "data": {
      "text/html": [
       "<table>\n",
       "<thead><tr><th scope=col>date</th><th scope=col>Aichi</th><th scope=col>Kanagawa</th><th scope=col>Okinawa</th><th scope=col>Tokyo</th></tr></thead>\n",
       "<tbody>\n",
       "\t<tr><td>2018-03-14</td><td>0         </td><td>0         </td><td>0         </td><td>0         </td></tr>\n",
       "\t<tr><td>2018-03-15</td><td>0         </td><td>0         </td><td>0         </td><td>0         </td></tr>\n",
       "\t<tr><td>2018-03-16</td><td>0         </td><td>0         </td><td>0         </td><td>0         </td></tr>\n",
       "\t<tr><td>2018-03-17</td><td>0         </td><td>0         </td><td>0         </td><td>0         </td></tr>\n",
       "\t<tr><td>2018-03-18</td><td>0         </td><td>0         </td><td>0         </td><td>0         </td></tr>\n",
       "\t<tr><td>2018-03-19</td><td>0         </td><td>0         </td><td>0         </td><td>0         </td></tr>\n",
       "\t<tr><td>2018-03-20</td><td>0         </td><td>0         </td><td>1         </td><td>0         </td></tr>\n",
       "\t<tr><td>2018-03-21</td><td>0         </td><td>0         </td><td>0         </td><td>0         </td></tr>\n",
       "\t<tr><td>2018-03-22</td><td>0         </td><td>0         </td><td>0         </td><td>0         </td></tr>\n",
       "\t<tr><td>2018-03-23</td><td>0         </td><td>0         </td><td>0         </td><td>0         </td></tr>\n",
       "</tbody>\n",
       "</table>\n"
      ],
      "text/latex": [
       "\\begin{tabular}{r|lllll}\n",
       " date & Aichi & Kanagawa & Okinawa & Tokyo\\\\\n",
       "\\hline\n",
       "\t 2018-03-14 & 0          & 0          & 0          & 0         \\\\\n",
       "\t 2018-03-15 & 0          & 0          & 0          & 0         \\\\\n",
       "\t 2018-03-16 & 0          & 0          & 0          & 0         \\\\\n",
       "\t 2018-03-17 & 0          & 0          & 0          & 0         \\\\\n",
       "\t 2018-03-18 & 0          & 0          & 0          & 0         \\\\\n",
       "\t 2018-03-19 & 0          & 0          & 0          & 0         \\\\\n",
       "\t 2018-03-20 & 0          & 0          & 1          & 0         \\\\\n",
       "\t 2018-03-21 & 0          & 0          & 0          & 0         \\\\\n",
       "\t 2018-03-22 & 0          & 0          & 0          & 0         \\\\\n",
       "\t 2018-03-23 & 0          & 0          & 0          & 0         \\\\\n",
       "\\end{tabular}\n"
      ],
      "text/markdown": [
       "\n",
       "date | Aichi | Kanagawa | Okinawa | Tokyo | \n",
       "|---|---|---|---|---|---|---|---|---|---|\n",
       "| 2018-03-14 | 0          | 0          | 0          | 0          | \n",
       "| 2018-03-15 | 0          | 0          | 0          | 0          | \n",
       "| 2018-03-16 | 0          | 0          | 0          | 0          | \n",
       "| 2018-03-17 | 0          | 0          | 0          | 0          | \n",
       "| 2018-03-18 | 0          | 0          | 0          | 0          | \n",
       "| 2018-03-19 | 0          | 0          | 0          | 0          | \n",
       "| 2018-03-20 | 0          | 0          | 1          | 0          | \n",
       "| 2018-03-21 | 0          | 0          | 0          | 0          | \n",
       "| 2018-03-22 | 0          | 0          | 0          | 0          | \n",
       "| 2018-03-23 | 0          | 0          | 0          | 0          | \n",
       "\n",
       "\n"
      ],
      "text/plain": [
       "   date       Aichi Kanagawa Okinawa Tokyo\n",
       "1  2018-03-14 0     0        0       0    \n",
       "2  2018-03-15 0     0        0       0    \n",
       "3  2018-03-16 0     0        0       0    \n",
       "4  2018-03-17 0     0        0       0    \n",
       "5  2018-03-18 0     0        0       0    \n",
       "6  2018-03-19 0     0        0       0    \n",
       "7  2018-03-20 0     0        1       0    \n",
       "8  2018-03-21 0     0        0       0    \n",
       "9  2018-03-22 0     0        0       0    \n",
       "10 2018-03-23 0     0        0       0    "
      ]
     },
     "metadata": {},
     "output_type": "display_data"
    }
   ],
   "source": [
    "Df_epicurve = data.frame(date=seq(as.Date('2018-03-14'),as.Date('2018-05-27'),by='1 day'))\n",
    "\n",
    "df_epicurve %>% \n",
    "    group_by(prefecture,onset) %>%\n",
    "    count %>%\n",
    "    rename(i=n,date=onset) %>%\n",
    "    ungroup %>%\n",
    "    mutate(date=as.Date(date)) %>%\n",
    "    spread(prefecture,i) %>%\n",
    "    right_join(Df_epicurve,by=\"date\") %>%\n",
    "    mutate_if(is.numeric, funs(ifelse(is.na(.), 0, .))) -> df_onset\n",
    "\n",
    "df_epicurve %>% \n",
    "    group_by(prefecture,confirmed) %>%\n",
    "    count %>%\n",
    "    rename(i=n,date=confirmed) %>%\n",
    "    ungroup %>%\n",
    "    mutate(date=as.Date(date)) %>%\n",
    "    spread(prefecture,i) %>%\n",
    "    right_join(Df_epicurve,by=\"date\") %>%\n",
    "    mutate_if(is.numeric, funs(ifelse(is.na(.), 0, .))) -> df_confirmed\n",
    "\n",
    "df_confirmed %>% head(10)"
   ]
  },
  {
   "cell_type": "code",
   "execution_count": 373,
   "metadata": {},
   "outputs": [
    {
     "data": {
      "image/png": "[encoded data removed]"
     },
     "metadata": {},
     "output_type": "display_data"
    }
   ],
   "source": [
    "options(repr.plot.width=7,repr.plot.height=7)\n",
    "\n",
    "cols <- c(\"Okinawa\" = \"#377eb8\", \"Aichi\" = \"#e41a1c\", \"Kanagawa\" = \"#4daf4a\", \"Tokyo\" = \"#984ea3\")\n",
    "\n",
    "df_confirmed %>%\n",
    "    gather(Prefecture,c,-date) %>%\n",
    "    mutate(Prefecture=factor(Prefecture, levels=c(\"Okinawa\", \"Aichi\", \"Kanagawa\", \"Tokyo\") %>% rev)) %>%\n",
    "    filter(c>0) %>%\n",
    "    ggplot(aes(date,c,fill=Prefecture)) +\n",
    "        geom_bar(stat = \"identity\",color=\"white\",size=.25) +\n",
    "        scale_fill_manual(values = cols) +\n",
    "        coord_cartesian(xlim=c(as.Date(\"2018-03-14\"),as.Date(\"2018-05-18\"))) +\n",
    "        scale_x_date(labels = date_format(\"%d-%b\")) +\n",
    "        labs(x=\"Date of laboratory confirmation (day-month)\",y=\"Number of cases\") +\n",
    "        guides(fill = guide_legend(reverse=T)) +\n",
    "        theme(legend.key.size = unit(.5, \"cm\"),\n",
    "              axis.text.x = element_text(angle = 45, hjust = .5, vjust=0.5),\n",
    "              strip.text.x = element_blank(),\n",
    "              panel.grid.minor.x = element_blank(),\n",
    "              plot.title = element_text(size=11, hjust = 0.5, face=\"bold\"),\n",
    "              strip.background = element_rect(colour=\"white\", fill=\"white\"),\n",
    "              plot.margin = unit(c(.5,1,1,.5),\"lines\")) -> p_confirmed\n",
    "\n",
    "p_confirmed = arrangeGrob(p_confirmed, top = textGrob(\"B\", x = unit(0, \"npc\"), y = unit(.5, \"npc\"), just=c(\"left\",\"top\"),\n",
    "         gp=gpar(col=\"black\", fontsize=16, fontface=\"bold\", fontfamily=\"Times\")))\n",
    "\n",
    "df_onset %>%\n",
    "    gather(Prefecture,i,-date) %>%\n",
    "    mutate(Prefecture=factor(Prefecture, levels=c(\"Okinawa\", \"Aichi\", \"Kanagawa\", \"Tokyo\")%>% rev)) %>%\n",
    "    filter(i>0) %>%\n",
    "    ggplot(aes(date,i,fill=Prefecture)) +\n",
    "        geom_bar(stat = \"identity\",color=\"white\",size=.25) +\n",
    "        scale_fill_manual(values = cols) +\n",
    "        coord_cartesian(xlim=c(as.Date(\"2018-03-14\"),as.Date(\"2018-05-18\"))) +\n",
    "        scale_x_date(labels = date_format(\"%d-%b\")) +\n",
    "        labs(x=\"Date of illness onset (day-month)\",y=\"Number of cases\") +\n",
    "        guides(fill = guide_legend(reverse=T)) +\n",
    "        theme(legend.key.size = unit(.5, \"cm\"),\n",
    "              axis.text.x = element_text(angle = 45, hjust = .5, vjust=0.5),\n",
    "              strip.text.x = element_blank(),\n",
    "              panel.grid.minor.x = element_blank(),\n",
    "              plot.title = element_text(size=11, hjust = 0.5, face=\"bold\"),\n",
    "              strip.background = element_rect(colour=\"white\", fill=\"white\"),\n",
    "              plot.margin = unit(c(1,1,.5,.5),\"lines\")) -> p_onset\n",
    "\n",
    "p_onset = arrangeGrob(p_onset, top = textGrob(\"A\", x = unit(0, \"npc\"), y = unit(.25, \"npc\"), just=c(\"left\",\"top\"),\n",
    "         gp=gpar(col=\"black\", fontsize=16, fontface=\"bold\", fontfamily=\"Times\")))\n",
    "\n",
    "grid.arrange(p_onset, p_confirmed, widths=c(1), heights=c(1,1), nrow=2, ncol=1)"
   ]
  },
  {
   "cell_type": "markdown",
   "metadata": {},
   "source": [
    "# Delay function (constant *vs* varied in time)"
   ]
  },
  {
   "cell_type": "code",
   "execution_count": 374,
   "metadata": {},
   "outputs": [
    {
     "data": {
      "text/html": [
       "<table>\n",
       "<thead><tr><th scope=col>onset</th><th scope=col>confirmed</th></tr></thead>\n",
       "<tbody>\n",
       "\t<tr><td>2018-03-14</td><td>2018-03-20</td></tr>\n",
       "\t<tr><td>2018-03-27</td><td>2018-03-29</td></tr>\n",
       "\t<tr><td>2018-03-27</td><td>2018-03-29</td></tr>\n",
       "\t<tr><td>2018-03-26</td><td>2018-03-31</td></tr>\n",
       "\t<tr><td>2018-03-25</td><td>2018-03-31</td></tr>\n",
       "\t<tr><td>2018-03-27</td><td>2018-03-31</td></tr>\n",
       "</tbody>\n",
       "</table>\n"
      ],
      "text/latex": [
       "\\begin{tabular}{r|ll}\n",
       " onset & confirmed\\\\\n",
       "\\hline\n",
       "\t 2018-03-14 & 2018-03-20\\\\\n",
       "\t 2018-03-27 & 2018-03-29\\\\\n",
       "\t 2018-03-27 & 2018-03-29\\\\\n",
       "\t 2018-03-26 & 2018-03-31\\\\\n",
       "\t 2018-03-25 & 2018-03-31\\\\\n",
       "\t 2018-03-27 & 2018-03-31\\\\\n",
       "\\end{tabular}\n"
      ],
      "text/markdown": [
       "\n",
       "onset | confirmed | \n",
       "|---|---|---|---|---|---|\n",
       "| 2018-03-14 | 2018-03-20 | \n",
       "| 2018-03-27 | 2018-03-29 | \n",
       "| 2018-03-27 | 2018-03-29 | \n",
       "| 2018-03-26 | 2018-03-31 | \n",
       "| 2018-03-25 | 2018-03-31 | \n",
       "| 2018-03-27 | 2018-03-31 | \n",
       "\n",
       "\n"
      ],
      "text/plain": [
       "  onset      confirmed \n",
       "1 2018-03-14 2018-03-20\n",
       "2 2018-03-27 2018-03-29\n",
       "3 2018-03-27 2018-03-29\n",
       "4 2018-03-26 2018-03-31\n",
       "5 2018-03-25 2018-03-31\n",
       "6 2018-03-27 2018-03-31"
      ]
     },
     "metadata": {},
     "output_type": "display_data"
    }
   ],
   "source": [
    "df_epicurve %>% \n",
    "    select(-prefecture) -> df_delay\n",
    "\n",
    "df_delay %>% head"
   ]
  },
  {
   "cell_type": "code",
   "execution_count": 375,
   "metadata": {},
   "outputs": [
    {
     "data": {
      "text/html": [
       "<table>\n",
       "<thead><tr><th scope=col>onset</th><th scope=col>confirmed</th><th scope=col>difference</th></tr></thead>\n",
       "<tbody>\n",
       "\t<tr><td>2018-03-17</td><td>2018-03-20</td><td>3         </td></tr>\n",
       "\t<tr><td>2018-03-27</td><td>2018-03-29</td><td>2         </td></tr>\n",
       "\t<tr><td>2018-03-27</td><td>2018-03-29</td><td>2         </td></tr>\n",
       "\t<tr><td>2018-03-26</td><td>2018-03-31</td><td>5         </td></tr>\n",
       "\t<tr><td>2018-03-25</td><td>2018-03-31</td><td>6         </td></tr>\n",
       "\t<tr><td>2018-03-27</td><td>2018-03-31</td><td>4         </td></tr>\n",
       "</tbody>\n",
       "</table>\n"
      ],
      "text/latex": [
       "\\begin{tabular}{r|lll}\n",
       " onset & confirmed & difference\\\\\n",
       "\\hline\n",
       "\t 2018-03-17 & 2018-03-20 & 3         \\\\\n",
       "\t 2018-03-27 & 2018-03-29 & 2         \\\\\n",
       "\t 2018-03-27 & 2018-03-29 & 2         \\\\\n",
       "\t 2018-03-26 & 2018-03-31 & 5         \\\\\n",
       "\t 2018-03-25 & 2018-03-31 & 6         \\\\\n",
       "\t 2018-03-27 & 2018-03-31 & 4         \\\\\n",
       "\\end{tabular}\n"
      ],
      "text/markdown": [
       "\n",
       "onset | confirmed | difference | \n",
       "|---|---|---|---|---|---|\n",
       "| 2018-03-17 | 2018-03-20 | 3          | \n",
       "| 2018-03-27 | 2018-03-29 | 2          | \n",
       "| 2018-03-27 | 2018-03-29 | 2          | \n",
       "| 2018-03-26 | 2018-03-31 | 5          | \n",
       "| 2018-03-25 | 2018-03-31 | 6          | \n",
       "| 2018-03-27 | 2018-03-31 | 4          | \n",
       "\n",
       "\n"
      ],
      "text/plain": [
       "  onset      confirmed  difference\n",
       "1 2018-03-17 2018-03-20 3         \n",
       "2 2018-03-27 2018-03-29 2         \n",
       "3 2018-03-27 2018-03-29 2         \n",
       "4 2018-03-26 2018-03-31 5         \n",
       "5 2018-03-25 2018-03-31 6         \n",
       "6 2018-03-27 2018-03-31 4         "
      ]
     },
     "metadata": {},
     "output_type": "display_data"
    }
   ],
   "source": [
    "# we shift the onset data of the index case to the date of first exposure \n",
    "dayZero = as.Date('2018-03-17')\n",
    "df_delay[which(df_delay$onset=='2018-03-14'),'onset'] = dayZero\n",
    "\n",
    "df_delay %<>%\n",
    "    mutate(difference=confirmed-onset,\n",
    "           # if the onset date is unknown, it is assummed to be 5 days prior the confirmation\n",
    "           difference=ifelse(is.na(onset),5,difference), \n",
    "           onset=if_else(is.na(as.numeric(onset)),confirmed-difference,onset)) %>%\n",
    "    mutate(onset = as.Date(onset)) %>%\n",
    "    na.omit\n",
    "\n",
    "df_delay %>% head"
   ]
  },
  {
   "cell_type": "markdown",
   "metadata": {},
   "source": [
    "# Delay distribution function"
   ]
  },
  {
   "cell_type": "code",
   "execution_count": 376,
   "metadata": {},
   "outputs": [],
   "source": [
    "h = function(t,parms) {\n",
    "    pweibull(t,parms[1],parms[2])-pweibull(t-1,parms[1],parms[2]) }\n",
    "\n",
    "# Cumulative distribution function for delay distribution\n",
    "H = function(t,parms) { pweibull(t,parms[1],parms[2]) }"
   ]
  },
  {
   "cell_type": "markdown",
   "metadata": {},
   "source": [
    "## Constant distribution for the delay"
   ]
  },
  {
   "cell_type": "code",
   "execution_count": 378,
   "metadata": {},
   "outputs": [],
   "source": [
    "calculate_constant_delay = function(prms) {   \n",
    "    df_delay %>% \n",
    "        group_by(difference) %>%\n",
    "        count %>%\n",
    "        ungroup %>%\n",
    "        summarize(loglk = sum(n*log(h(difference,prms[1:2])))) %>% \n",
    "        .$loglk \n",
    "}"
   ]
  },
  {
   "cell_type": "code",
   "execution_count": 379,
   "metadata": {},
   "outputs": [
    {
     "data": {
      "text/html": [
       "-298.47783781515"
      ],
      "text/latex": [
       "-298.47783781515"
      ],
      "text/markdown": [
       "-298.47783781515"
      ],
      "text/plain": [
       "[1] -298.4778"
      ]
     },
     "metadata": {},
     "output_type": "display_data"
    }
   ],
   "source": [
    "# test\n",
    "init = c(2,4)\n",
    "calculate_constant_delay(init)"
   ]
  },
  {
   "cell_type": "code",
   "execution_count": 380,
   "metadata": {
    "scrolled": false
   },
   "outputs": [
    {
     "data": {
      "text/html": [
       "<dl>\n",
       "\t<dt>$par</dt>\n",
       "\t\t<dd><ol class=list-inline>\n",
       "\t<li>1.88393225205278</li>\n",
       "\t<li>5.05014351109591</li>\n",
       "</ol>\n",
       "</dd>\n",
       "\t<dt>$value</dt>\n",
       "\t\t<dd>-280.42513510199</dd>\n",
       "\t<dt>$counts</dt>\n",
       "\t\t<dd><dl class=dl-horizontal>\n",
       "\t<dt>function</dt>\n",
       "\t\t<dd>7</dd>\n",
       "\t<dt>gradient</dt>\n",
       "\t\t<dd>7</dd>\n",
       "</dl>\n",
       "</dd>\n",
       "\t<dt>$convergence</dt>\n",
       "\t\t<dd>0</dd>\n",
       "\t<dt>$message</dt>\n",
       "\t\t<dd>'CONVERGENCE: REL_REDUCTION_OF_F &lt;= FACTR*EPSMCH'</dd>\n",
       "</dl>\n"
      ],
      "text/latex": [
       "\\begin{description}\n",
       "\\item[\\$par] \\begin{enumerate*}\n",
       "\\item 1.88393225205278\n",
       "\\item 5.05014351109591\n",
       "\\end{enumerate*}\n",
       "\n",
       "\\item[\\$value] -280.42513510199\n",
       "\\item[\\$counts] \\begin{description*}\n",
       "\\item[function] 7\n",
       "\\item[gradient] 7\n",
       "\\end{description*}\n",
       "\n",
       "\\item[\\$convergence] 0\n",
       "\\item[\\$message] 'CONVERGENCE: REL\\_REDUCTION\\_OF\\_F <= FACTR*EPSMCH'\n",
       "\\end{description}\n"
      ],
      "text/markdown": [
       "$par\n",
       ":   1. 1.88393225205278\n",
       "2. 5.05014351109591\n",
       "\n",
       "\n",
       "\n",
       "$value\n",
       ":   -280.42513510199\n",
       "$counts\n",
       ":   function\n",
       ":   7gradient\n",
       ":   7\n",
       "\n",
       "\n",
       "$convergence\n",
       ":   0\n",
       "$message\n",
       ":   'CONVERGENCE: REL_REDUCTION_OF_F &lt;= FACTR*EPSMCH'\n",
       "\n",
       "\n"
      ],
      "text/plain": [
       "$par\n",
       "[1] 1.883932 5.050144\n",
       "\n",
       "$value\n",
       "[1] -280.4251\n",
       "\n",
       "$counts\n",
       "function gradient \n",
       "       7        7 \n",
       "\n",
       "$convergence\n",
       "[1] 0\n",
       "\n",
       "$message\n",
       "[1] \"CONVERGENCE: REL_REDUCTION_OF_F <= FACTR*EPSMCH\"\n"
      ]
     },
     "metadata": {},
     "output_type": "display_data"
    }
   ],
   "source": [
    "options(warn=-1)\n",
    "sol = optim(init,calculate_constant_delay,\n",
    "            method=\"L-BFGS-B\",control=list(fnscale=-1),lower=rep(0,2),\n",
    "            hessian=FALSE)\n",
    "options(warn=0)\n",
    "pars = sol$par \n",
    "\n",
    "sol"
   ]
  },
  {
   "cell_type": "code",
   "execution_count": 381,
   "metadata": {},
   "outputs": [
    {
     "data": {
      "text/html": [
       "564.850270203979"
      ],
      "text/latex": [
       "564.850270203979"
      ],
      "text/markdown": [
       "564.850270203979"
      ],
      "text/plain": [
       "[1] 564.8503"
      ]
     },
     "metadata": {},
     "output_type": "display_data"
    }
   ],
   "source": [
    "# AIC\n",
    "2*(2-sol$value)"
   ]
  },
  {
   "cell_type": "markdown",
   "metadata": {},
   "source": [
    "## *h* consists of two distributions"
   ]
  },
  {
   "cell_type": "code",
   "execution_count": 382,
   "metadata": {},
   "outputs": [],
   "source": [
    "calculate_delay_consistent_of_two_distributions = function(prms,tau) {   \n",
    "    df_delay %>% \n",
    "        mutate(hNum = ifelse(onset<tau,1,2)) %>%\n",
    "        group_by(hNum,difference) %>%\n",
    "        count %>%\n",
    "        ungroup %>%\n",
    "        rowwise %>%\n",
    "        mutate(loglk = n*log(h(difference,prms[(2*hNum-1):(2*hNum)]))) %>%\n",
    "        ungroup %>%\n",
    "        summarize(totalloglk = sum(loglk)) %>% \n",
    "        .$totalloglk \n",
    "}"
   ]
  },
  {
   "cell_type": "code",
   "execution_count": 383,
   "metadata": {},
   "outputs": [
    {
     "data": {
      "text/html": [
       "-291.946913756662"
      ],
      "text/latex": [
       "-291.946913756662"
      ],
      "text/markdown": [
       "-291.946913756662"
      ],
      "text/plain": [
       "[1] -291.9469"
      ]
     },
     "metadata": {},
     "output_type": "display_data"
    }
   ],
   "source": [
    "# test\n",
    "init = c(2,4,1,5)\n",
    "calculate_delay_consistent_of_two_distributions(init,as.Date(\"2018-04-10\"))"
   ]
  },
  {
   "cell_type": "code",
   "execution_count": 384,
   "metadata": {},
   "outputs": [
    {
     "data": {
      "text/html": [
       "<dl>\n",
       "\t<dt>$par</dt>\n",
       "\t\t<dd><ol class=list-inline>\n",
       "\t<li>2.43885985234617</li>\n",
       "\t<li>4.5943290181038</li>\n",
       "\t<li>1.75023784234774</li>\n",
       "\t<li>5.36600653013102</li>\n",
       "</ol>\n",
       "</dd>\n",
       "\t<dt>$value</dt>\n",
       "\t\t<dd>-275.586037868449</dd>\n",
       "\t<dt>$counts</dt>\n",
       "\t\t<dd><dl class=dl-horizontal>\n",
       "\t<dt>function</dt>\n",
       "\t\t<dd>11</dd>\n",
       "\t<dt>gradient</dt>\n",
       "\t\t<dd>11</dd>\n",
       "</dl>\n",
       "</dd>\n",
       "\t<dt>$convergence</dt>\n",
       "\t\t<dd>0</dd>\n",
       "\t<dt>$message</dt>\n",
       "\t\t<dd>'CONVERGENCE: REL_REDUCTION_OF_F &lt;= FACTR*EPSMCH'</dd>\n",
       "</dl>\n"
      ],
      "text/latex": [
       "\\begin{description}\n",
       "\\item[\\$par] \\begin{enumerate*}\n",
       "\\item 2.43885985234617\n",
       "\\item 4.5943290181038\n",
       "\\item 1.75023784234774\n",
       "\\item 5.36600653013102\n",
       "\\end{enumerate*}\n",
       "\n",
       "\\item[\\$value] -275.586037868449\n",
       "\\item[\\$counts] \\begin{description*}\n",
       "\\item[function] 11\n",
       "\\item[gradient] 11\n",
       "\\end{description*}\n",
       "\n",
       "\\item[\\$convergence] 0\n",
       "\\item[\\$message] 'CONVERGENCE: REL\\_REDUCTION\\_OF\\_F <= FACTR*EPSMCH'\n",
       "\\end{description}\n"
      ],
      "text/markdown": [
       "$par\n",
       ":   1. 2.43885985234617\n",
       "2. 4.5943290181038\n",
       "3. 1.75023784234774\n",
       "4. 5.36600653013102\n",
       "\n",
       "\n",
       "\n",
       "$value\n",
       ":   -275.586037868449\n",
       "$counts\n",
       ":   function\n",
       ":   11gradient\n",
       ":   11\n",
       "\n",
       "\n",
       "$convergence\n",
       ":   0\n",
       "$message\n",
       ":   'CONVERGENCE: REL_REDUCTION_OF_F &lt;= FACTR*EPSMCH'\n",
       "\n",
       "\n"
      ],
      "text/plain": [
       "$par\n",
       "[1] 2.438860 4.594329 1.750238 5.366007\n",
       "\n",
       "$value\n",
       "[1] -275.586\n",
       "\n",
       "$counts\n",
       "function gradient \n",
       "      11       11 \n",
       "\n",
       "$convergence\n",
       "[1] 0\n",
       "\n",
       "$message\n",
       "[1] \"CONVERGENCE: REL_REDUCTION_OF_F <= FACTR*EPSMCH\"\n"
      ]
     },
     "metadata": {},
     "output_type": "display_data"
    }
   ],
   "source": [
    "options(warn=-1)\n",
    "sol = optim(init,function(x) calculate_delay_consistent_of_two_distributions(x,as.Date(\"2018-04-10\")),\n",
    "            method=\"L-BFGS-B\",control=list(fnscale=-1),lower=rep(0,2),\n",
    "            hessian=FALSE)\n",
    "options(warn=0)\n",
    "pars = sol$par \n",
    "\n",
    "sol"
   ]
  },
  {
   "cell_type": "code",
   "execution_count": 385,
   "metadata": {},
   "outputs": [
    {
     "name": "stderr",
     "output_type": "stream",
     "text": [
      "2018-03-14\n",
      "2018-03-15\n",
      "2018-03-16\n",
      "2018-03-17\n",
      "2018-03-18\n",
      "2018-03-19\n",
      "2018-03-20\n",
      "2018-03-21\n",
      "2018-03-22\n",
      "2018-03-23\n",
      "2018-03-24\n",
      "2018-03-25\n",
      "2018-03-26\n",
      "2018-03-27\n",
      "2018-03-28\n",
      "2018-03-29\n",
      "2018-03-30\n",
      "2018-03-31\n",
      "2018-04-01\n",
      "2018-04-02\n",
      "2018-04-03\n",
      "2018-04-04\n",
      "2018-04-05\n",
      "2018-04-06\n",
      "2018-04-07\n",
      "2018-04-08\n",
      "2018-04-09\n",
      "2018-04-10\n",
      "2018-04-11\n",
      "2018-04-12\n",
      "2018-04-13\n",
      "2018-04-14\n",
      "2018-04-15\n",
      "2018-04-16\n",
      "2018-04-17\n",
      "2018-04-18\n",
      "2018-04-19\n",
      "2018-04-20\n",
      "2018-04-21\n",
      "2018-04-22\n",
      "2018-04-23\n",
      "2018-04-24\n",
      "2018-04-25\n",
      "2018-04-26\n",
      "2018-04-27\n",
      "2018-04-28\n",
      "2018-04-29\n",
      "2018-04-30\n",
      "2018-05-01\n",
      "2018-05-02\n",
      "2018-05-03\n",
      "2018-05-04\n",
      "2018-05-05\n",
      "2018-05-06\n",
      "2018-05-07\n",
      "2018-05-08\n",
      "2018-05-09\n",
      "2018-05-10\n",
      "2018-05-11\n",
      "2018-05-12\n",
      "2018-05-13\n",
      "2018-05-14\n",
      "2018-05-15\n",
      "2018-05-16\n",
      "2018-05-17\n",
      "2018-05-18\n"
     ]
    },
    {
     "data": {
      "text/html": [
       "<time datetime=\"2018-04-17\">2018-04-17</time>"
      ],
      "text/latex": [
       "2018-04-17"
      ],
      "text/markdown": [
       "2018-04-17"
      ],
      "text/plain": [
       "[1] \"2018-04-17\""
      ]
     },
     "metadata": {},
     "output_type": "display_data"
    },
    {
     "data": {
      "text/html": [
       "<dl>\n",
       "\t<dt>$par</dt>\n",
       "\t\t<dd><ol class=list-inline>\n",
       "\t<li>2.52406986711692</li>\n",
       "\t<li>4.60895626709925</li>\n",
       "\t<li>1.6547122503035</li>\n",
       "\t<li>5.60313632355942</li>\n",
       "</ol>\n",
       "</dd>\n",
       "\t<dt>$value</dt>\n",
       "\t\t<dd>-272.022793002922</dd>\n",
       "\t<dt>$counts</dt>\n",
       "\t\t<dd><dl class=dl-horizontal>\n",
       "\t<dt>function</dt>\n",
       "\t\t<dd>11</dd>\n",
       "\t<dt>gradient</dt>\n",
       "\t\t<dd>11</dd>\n",
       "</dl>\n",
       "</dd>\n",
       "\t<dt>$convergence</dt>\n",
       "\t\t<dd>0</dd>\n",
       "\t<dt>$message</dt>\n",
       "\t\t<dd>'CONVERGENCE: REL_REDUCTION_OF_F &lt;= FACTR*EPSMCH'</dd>\n",
       "</dl>\n"
      ],
      "text/latex": [
       "\\begin{description}\n",
       "\\item[\\$par] \\begin{enumerate*}\n",
       "\\item 2.52406986711692\n",
       "\\item 4.60895626709925\n",
       "\\item 1.6547122503035\n",
       "\\item 5.60313632355942\n",
       "\\end{enumerate*}\n",
       "\n",
       "\\item[\\$value] -272.022793002922\n",
       "\\item[\\$counts] \\begin{description*}\n",
       "\\item[function] 11\n",
       "\\item[gradient] 11\n",
       "\\end{description*}\n",
       "\n",
       "\\item[\\$convergence] 0\n",
       "\\item[\\$message] 'CONVERGENCE: REL\\_REDUCTION\\_OF\\_F <= FACTR*EPSMCH'\n",
       "\\end{description}\n"
      ],
      "text/markdown": [
       "$par\n",
       ":   1. 2.52406986711692\n",
       "2. 4.60895626709925\n",
       "3. 1.6547122503035\n",
       "4. 5.60313632355942\n",
       "\n",
       "\n",
       "\n",
       "$value\n",
       ":   -272.022793002922\n",
       "$counts\n",
       ":   function\n",
       ":   11gradient\n",
       ":   11\n",
       "\n",
       "\n",
       "$convergence\n",
       ":   0\n",
       "$message\n",
       ":   'CONVERGENCE: REL_REDUCTION_OF_F &lt;= FACTR*EPSMCH'\n",
       "\n",
       "\n"
      ],
      "text/plain": [
       "$par\n",
       "[1] 2.524070 4.608956 1.654712 5.603136\n",
       "\n",
       "$value\n",
       "[1] -272.0228\n",
       "\n",
       "$counts\n",
       "function gradient \n",
       "      11       11 \n",
       "\n",
       "$convergence\n",
       "[1] 0\n",
       "\n",
       "$message\n",
       "[1] \"CONVERGENCE: REL_REDUCTION_OF_F <= FACTR*EPSMCH\"\n"
      ]
     },
     "metadata": {},
     "output_type": "display_data"
    }
   ],
   "source": [
    "# for all possible τs\n",
    "loglk = -1e10\n",
    "solMLE = NULL\n",
    "tauMLE = NULL\n",
    "for (tau in min(df_epicurve$onset):max(df_epicurve$confirmed)) { \n",
    "    tau = as.Date(tau)\n",
    "    message(tau)\n",
    "    options(warn=-1)\n",
    "    sol = optim(init,function(x) calculate_delay_consistent_of_two_distributions(x,tau),\n",
    "                method=\"L-BFGS-B\",control=list(fnscale=-1),lower=rep(0,2),\n",
    "                hessian=FALSE)\n",
    "    options(warn=0)\n",
    "    if (sol$value>loglk) {\n",
    "        loglk = sol$value\n",
    "        solMLE = sol\n",
    "        tauMLE = tau\n",
    "    }\n",
    "}\n",
    "(tauMLE)\n",
    "(solMLE)"
   ]
  },
  {
   "cell_type": "code",
   "execution_count": 386,
   "metadata": {},
   "outputs": [
    {
     "data": {
      "text/html": [
       "554.045586005845"
      ],
      "text/latex": [
       "554.045586005845"
      ],
      "text/markdown": [
       "554.045586005845"
      ],
      "text/plain": [
       "[1] 554.0456"
      ]
     },
     "metadata": {},
     "output_type": "display_data"
    }
   ],
   "source": [
    "# AIC\n",
    "2*(5-solMLE$value)"
   ]
  },
  {
   "cell_type": "code",
   "execution_count": 387,
   "metadata": {},
   "outputs": [
    {
     "data": {
      "text/html": [
       "<ol class=list-inline>\n",
       "\t<li>2.52406986711692</li>\n",
       "\t<li>4.60895626709925</li>\n",
       "\t<li>1.6547122503035</li>\n",
       "\t<li>5.60313632355942</li>\n",
       "</ol>\n"
      ],
      "text/latex": [
       "\\begin{enumerate*}\n",
       "\\item 2.52406986711692\n",
       "\\item 4.60895626709925\n",
       "\\item 1.6547122503035\n",
       "\\item 5.60313632355942\n",
       "\\end{enumerate*}\n"
      ],
      "text/markdown": [
       "1. 2.52406986711692\n",
       "2. 4.60895626709925\n",
       "3. 1.6547122503035\n",
       "4. 5.60313632355942\n",
       "\n",
       "\n"
      ],
      "text/plain": [
       "[1] 2.524070 4.608956 1.654712 5.603136"
      ]
     },
     "metadata": {},
     "output_type": "display_data"
    }
   ],
   "source": [
    "# Fitted parameters\n",
    "solMLE$par"
   ]
  },
  {
   "cell_type": "code",
   "execution_count": 388,
   "metadata": {},
   "outputs": [
    {
     "data": {
      "text/html": [
       "<ol class=list-inline>\n",
       "\t<li>4.09034831115364</li>\n",
       "\t<li>3.01140492976261</li>\n",
       "</ol>\n"
      ],
      "text/latex": [
       "\\begin{enumerate*}\n",
       "\\item 4.09034831115364\n",
       "\\item 3.01140492976261\n",
       "\\end{enumerate*}\n"
      ],
      "text/markdown": [
       "1. 4.09034831115364\n",
       "2. 3.01140492976261\n",
       "\n",
       "\n"
      ],
      "text/plain": [
       "[1] 4.090348 3.011405"
      ]
     },
     "metadata": {},
     "output_type": "display_data"
    }
   ],
   "source": [
    "# First generation time\n",
    "## Mean and variance\n",
    "c(solMLE$par[2]*gamma(1+1/solMLE$par[1]),solMLE$par[2]^2*(gamma(1+2/solMLE$par[1])-gamma(1+1/solMLE$par[1])^2))"
   ]
  },
  {
   "cell_type": "code",
   "execution_count": 389,
   "metadata": {},
   "outputs": [
    {
     "data": {
      "text/html": [
       "<ol class=list-inline>\n",
       "\t<li>5.00926482971834</li>\n",
       "\t<li>9.66286331170641</li>\n",
       "</ol>\n"
      ],
      "text/latex": [
       "\\begin{enumerate*}\n",
       "\\item 5.00926482971834\n",
       "\\item 9.66286331170641\n",
       "\\end{enumerate*}\n"
      ],
      "text/markdown": [
       "1. 5.00926482971834\n",
       "2. 9.66286331170641\n",
       "\n",
       "\n"
      ],
      "text/plain": [
       "[1] 5.009265 9.662863"
      ]
     },
     "metadata": {},
     "output_type": "display_data"
    }
   ],
   "source": [
    "# Second generation time\n",
    "## Mean and variance\n",
    "c(solMLE$par[4]*gamma(1+1/solMLE$par[3]),solMLE$par[4]^2*(gamma(1+2/solMLE$par[3])-gamma(1+1/solMLE$par[3])^2))"
   ]
  },
  {
   "cell_type": "code",
   "execution_count": 390,
   "metadata": {},
   "outputs": [
    {
     "data": {},
     "metadata": {},
     "output_type": "display_data"
    },
    {
     "data": {
      "image/png": "[encoded data removed]"
     },
     "metadata": {},
     "output_type": "display_data"
    }
   ],
   "source": [
    "times = 1:21\n",
    "cs = c(6,3.2)\n",
    "options(repr.plot.width=cs[1],repr.plot.height=cs[2])\n",
    "\n",
    "clrs = c(\"#1b9e77\",\"#d95f02\",\"#7570b3\")\n",
    "\n",
    "data.frame(x=times, `Generation time 1`=h(times,solMLE$par[1:2]), `Generation time 2`=h(times,solMLE$par[3:4])) %>%\n",
    "    gather(Variable,y,-x) %>%\n",
    "    ggplot(aes(x=x-1,y=y)) +\n",
    "        geom_step(aes(color=Variable)) +\n",
    "        scale_color_manual(labels = c(\"Generation time 1\", \"Generation time 2\"), values=clrs) +\n",
    "        labs(x=\"day\",y=\"probability density\",color=\"Distribution\")"
   ]
  },
  {
   "cell_type": "markdown",
   "metadata": {},
   "source": [
    "# Main analysis \n",
    "\n",
    "## Loading the data"
   ]
  },
  {
   "cell_type": "code",
   "execution_count": 391,
   "metadata": {
    "scrolled": false
   },
   "outputs": [
    {
     "name": "stderr",
     "output_type": "stream",
     "text": [
      "Joining, by = c(\"epicurve\", \"number\")\n"
     ]
    },
    {
     "data": {
      "text/html": [
       "<table>\n",
       "<thead><tr><th scope=col>epicurve</th><th scope=col>onset</th><th scope=col>confirmed</th></tr></thead>\n",
       "<tbody>\n",
       "\t<tr><td>May27     </td><td>2018-04-29</td><td>2018-05-12</td></tr>\n",
       "\t<tr><td>May27     </td><td>2018-05-09</td><td>2018-05-12</td></tr>\n",
       "\t<tr><td>May27     </td><td>2018-05-12</td><td>2018-05-13</td></tr>\n",
       "\t<tr><td>May27     </td><td>2018-05-08</td><td>2018-05-14</td></tr>\n",
       "\t<tr><td>May27     </td><td>2018-05-10</td><td>2018-05-15</td></tr>\n",
       "\t<tr><td>May27     </td><td>2018-05-12</td><td>2018-05-18</td></tr>\n",
       "</tbody>\n",
       "</table>\n"
      ],
      "text/latex": [
       "\\begin{tabular}{r|lll}\n",
       " epicurve & onset & confirmed\\\\\n",
       "\\hline\n",
       "\t May27      & 2018-04-29 & 2018-05-12\\\\\n",
       "\t May27      & 2018-05-09 & 2018-05-12\\\\\n",
       "\t May27      & 2018-05-12 & 2018-05-13\\\\\n",
       "\t May27      & 2018-05-08 & 2018-05-14\\\\\n",
       "\t May27      & 2018-05-10 & 2018-05-15\\\\\n",
       "\t May27      & 2018-05-12 & 2018-05-18\\\\\n",
       "\\end{tabular}\n"
      ],
      "text/markdown": [
       "\n",
       "epicurve | onset | confirmed | \n",
       "|---|---|---|---|---|---|\n",
       "| May27      | 2018-04-29 | 2018-05-12 | \n",
       "| May27      | 2018-05-09 | 2018-05-12 | \n",
       "| May27      | 2018-05-12 | 2018-05-13 | \n",
       "| May27      | 2018-05-08 | 2018-05-14 | \n",
       "| May27      | 2018-05-10 | 2018-05-15 | \n",
       "| May27      | 2018-05-12 | 2018-05-18 | \n",
       "\n",
       "\n"
      ],
      "text/plain": [
       "  epicurve onset      confirmed \n",
       "1 May27    2018-04-29 2018-05-12\n",
       "2 May27    2018-05-09 2018-05-12\n",
       "3 May27    2018-05-12 2018-05-13\n",
       "4 May27    2018-05-08 2018-05-14\n",
       "5 May27    2018-05-10 2018-05-15\n",
       "6 May27    2018-05-12 2018-05-18"
      ]
     },
     "metadata": {},
     "output_type": "display_data"
    }
   ],
   "source": [
    "filename = \"data.xlsx\"\n",
    "\n",
    "options(warn=-1)\n",
    "read_excel(filename, sheet = \"raw_onset\") %>% ncol -> nclmns\n",
    "read_excel(filename, sheet = \"raw_onset\", col_types = rep(\"date\",nclmns)) %>%\n",
    "    gather(epicurve,onset) %>% \n",
    "    mutate(number=1:n()) -> df\n",
    "if (read_excel(filename, sheet = \"raw_confirm\") %>% ncol!=nclmns)\n",
    "    message(\"Something wrong with number of columns in Excel file!\")\n",
    "read_excel(filename, sheet = \"raw_confirm\", col_types = rep(\"date\",nclmns)) %>%\n",
    "    gather(epicurve,confirmed) %>%\n",
    "    mutate(number=1:n()) %>%\n",
    "    left_join(df) %>%\n",
    "    select(epicurve,onset,confirmed) %>%\n",
    "    mutate(onset=as.Date(onset), confirmed=as.Date(confirmed)) -> df\n",
    "options(warn=0)\n",
    "df %>% tail"
   ]
  },
  {
   "cell_type": "code",
   "execution_count": 392,
   "metadata": {},
   "outputs": [
    {
     "data": {
      "text/html": [
       "<table>\n",
       "<thead><tr><th scope=col>epicurve</th><th scope=col>onset</th><th scope=col>confirmed</th><th scope=col>difference</th></tr></thead>\n",
       "<tbody>\n",
       "\t<tr><td>Apr01     </td><td>2018-03-17</td><td>2018-03-20</td><td>6         </td></tr>\n",
       "\t<tr><td>Apr01     </td><td>2018-03-27</td><td>2018-03-29</td><td>2         </td></tr>\n",
       "\t<tr><td>Apr01     </td><td>2018-03-27</td><td>2018-03-29</td><td>2         </td></tr>\n",
       "\t<tr><td>Apr01     </td><td>2018-03-25</td><td>2018-03-31</td><td>6         </td></tr>\n",
       "\t<tr><td>Apr01     </td><td>2018-03-25</td><td>2018-03-31</td><td>6         </td></tr>\n",
       "\t<tr><td>Apr01     </td><td>2018-03-26</td><td>2018-03-31</td><td>5         </td></tr>\n",
       "</tbody>\n",
       "</table>\n"
      ],
      "text/latex": [
       "\\begin{tabular}{r|llll}\n",
       " epicurve & onset & confirmed & difference\\\\\n",
       "\\hline\n",
       "\t Apr01      & 2018-03-17 & 2018-03-20 & 6         \\\\\n",
       "\t Apr01      & 2018-03-27 & 2018-03-29 & 2         \\\\\n",
       "\t Apr01      & 2018-03-27 & 2018-03-29 & 2         \\\\\n",
       "\t Apr01      & 2018-03-25 & 2018-03-31 & 6         \\\\\n",
       "\t Apr01      & 2018-03-25 & 2018-03-31 & 6         \\\\\n",
       "\t Apr01      & 2018-03-26 & 2018-03-31 & 5         \\\\\n",
       "\\end{tabular}\n"
      ],
      "text/markdown": [
       "\n",
       "epicurve | onset | confirmed | difference | \n",
       "|---|---|---|---|---|---|\n",
       "| Apr01      | 2018-03-17 | 2018-03-20 | 6          | \n",
       "| Apr01      | 2018-03-27 | 2018-03-29 | 2          | \n",
       "| Apr01      | 2018-03-27 | 2018-03-29 | 2          | \n",
       "| Apr01      | 2018-03-25 | 2018-03-31 | 6          | \n",
       "| Apr01      | 2018-03-25 | 2018-03-31 | 6          | \n",
       "| Apr01      | 2018-03-26 | 2018-03-31 | 5          | \n",
       "\n",
       "\n"
      ],
      "text/plain": [
       "  epicurve onset      confirmed  difference\n",
       "1 Apr01    2018-03-17 2018-03-20 6         \n",
       "2 Apr01    2018-03-27 2018-03-29 2         \n",
       "3 Apr01    2018-03-27 2018-03-29 2         \n",
       "4 Apr01    2018-03-25 2018-03-31 6         \n",
       "5 Apr01    2018-03-25 2018-03-31 6         \n",
       "6 Apr01    2018-03-26 2018-03-31 5         "
      ]
     },
     "metadata": {},
     "output_type": "display_data"
    }
   ],
   "source": [
    "df %<>%\n",
    "    mutate(difference=confirmed-onset,\n",
    "           # if the onset date is unknown, it is assummed to be 5 days prior the confirmation\n",
    "           difference=ifelse(is.na(onset),5,difference), \n",
    "           onset=if_else(is.na(as.numeric(onset)),confirmed-difference,onset)) %>%\n",
    "    na.omit\n",
    "\n",
    "# we shift the onset data of the index case to the date of first exposure \n",
    "df[which(df$onset=='2018-03-14'),'onset'] = as.Date('2018-03-17')\n",
    "\n",
    "df %>% head"
   ]
  },
  {
   "cell_type": "code",
   "execution_count": 393,
   "metadata": {},
   "outputs": [
    {
     "data": {
      "text/html": [
       "2066"
      ],
      "text/latex": [
       "2066"
      ],
      "text/markdown": [
       "2066"
      ],
      "text/plain": [
       "[1] 2066"
      ]
     },
     "metadata": {},
     "output_type": "display_data"
    }
   ],
   "source": [
    "# total number of records\n",
    "df %>% nrow"
   ]
  },
  {
   "cell_type": "markdown",
   "metadata": {},
   "source": [
    "We use Gamma distribution to define generation time distribution $g_t$, Weibull distribution for delay distribution $h_t$ between symptoms onset and lab confirmation"
   ]
  },
  {
   "cell_type": "code",
   "execution_count": 394,
   "metadata": {},
   "outputs": [],
   "source": [
    "# Gamma distribution for incubation period\n",
    "g = function(time) { \n",
    "    g_mean = 11.7; g_var = 9.0 # from (Klinkenberg and Nishiura 2011)\n",
    "    scl = g_var/g_mean\n",
    "    pgamma(time,shape=g_mean/scl,scale=scl)-pgamma(time-1,shape=g_mean/scl,scale=scl) }"
   ]
  },
  {
   "cell_type": "code",
   "execution_count": 395,
   "metadata": {},
   "outputs": [
    {
     "data": {
      "text/html": [
       "<time datetime=\"2018-03-17\">2018-03-17</time>"
      ],
      "text/latex": [
       "2018-03-17"
      ],
      "text/markdown": [
       "2018-03-17"
      ],
      "text/plain": [
       "[1] \"2018-03-17\""
      ]
     },
     "metadata": {},
     "output_type": "display_data"
    },
    {
     "data": {
      "text/html": [
       "<time datetime=\"2018-05-18\">2018-05-18</time>"
      ],
      "text/latex": [
       "2018-05-18"
      ],
      "text/markdown": [
       "2018-05-18"
      ],
      "text/plain": [
       "[1] \"2018-05-18\""
      ]
     },
     "metadata": {},
     "output_type": "display_data"
    },
    {
     "data": {
      "text/html": [
       "<table>\n",
       "<thead><tr><th scope=col>epicurve</th><th scope=col>onset</th><th scope=col>confirmed</th><th scope=col>difference</th><th scope=col>day_onset</th><th scope=col>day_confirmation</th></tr></thead>\n",
       "<tbody>\n",
       "\t<tr><td>Apr01     </td><td>2018-03-17</td><td>2018-03-20</td><td>6         </td><td> 0        </td><td> 3        </td></tr>\n",
       "\t<tr><td>Apr01     </td><td>2018-03-27</td><td>2018-03-29</td><td>2         </td><td>10        </td><td>12        </td></tr>\n",
       "\t<tr><td>Apr01     </td><td>2018-03-27</td><td>2018-03-29</td><td>2         </td><td>10        </td><td>12        </td></tr>\n",
       "\t<tr><td>Apr01     </td><td>2018-03-25</td><td>2018-03-31</td><td>6         </td><td> 8        </td><td>14        </td></tr>\n",
       "\t<tr><td>Apr01     </td><td>2018-03-25</td><td>2018-03-31</td><td>6         </td><td> 8        </td><td>14        </td></tr>\n",
       "\t<tr><td>Apr01     </td><td>2018-03-26</td><td>2018-03-31</td><td>5         </td><td> 9        </td><td>14        </td></tr>\n",
       "</tbody>\n",
       "</table>\n"
      ],
      "text/latex": [
       "\\begin{tabular}{r|llllll}\n",
       " epicurve & onset & confirmed & difference & day\\_onset & day\\_confirmation\\\\\n",
       "\\hline\n",
       "\t Apr01      & 2018-03-17 & 2018-03-20 & 6          &  0         &  3        \\\\\n",
       "\t Apr01      & 2018-03-27 & 2018-03-29 & 2          & 10         & 12        \\\\\n",
       "\t Apr01      & 2018-03-27 & 2018-03-29 & 2          & 10         & 12        \\\\\n",
       "\t Apr01      & 2018-03-25 & 2018-03-31 & 6          &  8         & 14        \\\\\n",
       "\t Apr01      & 2018-03-25 & 2018-03-31 & 6          &  8         & 14        \\\\\n",
       "\t Apr01      & 2018-03-26 & 2018-03-31 & 5          &  9         & 14        \\\\\n",
       "\\end{tabular}\n"
      ],
      "text/markdown": [
       "\n",
       "epicurve | onset | confirmed | difference | day_onset | day_confirmation | \n",
       "|---|---|---|---|---|---|\n",
       "| Apr01      | 2018-03-17 | 2018-03-20 | 6          |  0         |  3         | \n",
       "| Apr01      | 2018-03-27 | 2018-03-29 | 2          | 10         | 12         | \n",
       "| Apr01      | 2018-03-27 | 2018-03-29 | 2          | 10         | 12         | \n",
       "| Apr01      | 2018-03-25 | 2018-03-31 | 6          |  8         | 14         | \n",
       "| Apr01      | 2018-03-25 | 2018-03-31 | 6          |  8         | 14         | \n",
       "| Apr01      | 2018-03-26 | 2018-03-31 | 5          |  9         | 14         | \n",
       "\n",
       "\n"
      ],
      "text/plain": [
       "  epicurve onset      confirmed  difference day_onset day_confirmation\n",
       "1 Apr01    2018-03-17 2018-03-20 6           0         3              \n",
       "2 Apr01    2018-03-27 2018-03-29 2          10        12              \n",
       "3 Apr01    2018-03-27 2018-03-29 2          10        12              \n",
       "4 Apr01    2018-03-25 2018-03-31 6           8        14              \n",
       "5 Apr01    2018-03-25 2018-03-31 6           8        14              \n",
       "6 Apr01    2018-03-26 2018-03-31 5           9        14              "
      ]
     },
     "metadata": {},
     "output_type": "display_data"
    }
   ],
   "source": [
    "# using days since index case instead of dates\n",
    "(mindate = min(df$onset))\n",
    "(maxdate = max(df$confirmed))\n",
    "df %<>% \n",
    "    mutate(day_onset = unclass(onset)-unclass(mindate),\n",
    "           day_confirmation = unclass(confirmed)-unclass(mindate))\n",
    "df %>% head"
   ]
  },
  {
   "cell_type": "code",
   "execution_count": 396,
   "metadata": {},
   "outputs": [
    {
     "data": {
      "text/html": [
       "<ol class=list-inline>\n",
       "\t<li>'Apr01'</li>\n",
       "\t<li>'Apr05'</li>\n",
       "\t<li>'Apr09'</li>\n",
       "\t<li>'Apr13'</li>\n",
       "\t<li>'Apr17'</li>\n",
       "\t<li>'Apr21'</li>\n",
       "\t<li>'Apr25'</li>\n",
       "\t<li>'Apr29'</li>\n",
       "\t<li>'May01'</li>\n",
       "\t<li>'May03'</li>\n",
       "\t<li>'May05'</li>\n",
       "\t<li>'May07'</li>\n",
       "\t<li>'May09'</li>\n",
       "\t<li>'May11'</li>\n",
       "\t<li>'May13'</li>\n",
       "\t<li>'May15'</li>\n",
       "\t<li>'May17'</li>\n",
       "\t<li>'May19'</li>\n",
       "\t<li>'May21'</li>\n",
       "\t<li>'May23'</li>\n",
       "\t<li>'May25'</li>\n",
       "\t<li>'May27'</li>\n",
       "</ol>\n"
      ],
      "text/latex": [
       "\\begin{enumerate*}\n",
       "\\item 'Apr01'\n",
       "\\item 'Apr05'\n",
       "\\item 'Apr09'\n",
       "\\item 'Apr13'\n",
       "\\item 'Apr17'\n",
       "\\item 'Apr21'\n",
       "\\item 'Apr25'\n",
       "\\item 'Apr29'\n",
       "\\item 'May01'\n",
       "\\item 'May03'\n",
       "\\item 'May05'\n",
       "\\item 'May07'\n",
       "\\item 'May09'\n",
       "\\item 'May11'\n",
       "\\item 'May13'\n",
       "\\item 'May15'\n",
       "\\item 'May17'\n",
       "\\item 'May19'\n",
       "\\item 'May21'\n",
       "\\item 'May23'\n",
       "\\item 'May25'\n",
       "\\item 'May27'\n",
       "\\end{enumerate*}\n"
      ],
      "text/markdown": [
       "1. 'Apr01'\n",
       "2. 'Apr05'\n",
       "3. 'Apr09'\n",
       "4. 'Apr13'\n",
       "5. 'Apr17'\n",
       "6. 'Apr21'\n",
       "7. 'Apr25'\n",
       "8. 'Apr29'\n",
       "9. 'May01'\n",
       "10. 'May03'\n",
       "11. 'May05'\n",
       "12. 'May07'\n",
       "13. 'May09'\n",
       "14. 'May11'\n",
       "15. 'May13'\n",
       "16. 'May15'\n",
       "17. 'May17'\n",
       "18. 'May19'\n",
       "19. 'May21'\n",
       "20. 'May23'\n",
       "21. 'May25'\n",
       "22. 'May27'\n",
       "\n",
       "\n"
      ],
      "text/plain": [
       " [1] \"Apr01\" \"Apr05\" \"Apr09\" \"Apr13\" \"Apr17\" \"Apr21\" \"Apr25\" \"Apr29\" \"May01\"\n",
       "[10] \"May03\" \"May05\" \"May07\" \"May09\" \"May11\" \"May13\" \"May15\" \"May17\" \"May19\"\n",
       "[19] \"May21\" \"May23\" \"May25\" \"May27\""
      ]
     },
     "metadata": {},
     "output_type": "display_data"
    },
    {
     "data": {
      "text/html": [
       "<ol class=list-inline>\n",
       "\t<li>'Apr01'</li>\n",
       "\t<li>'Apr09'</li>\n",
       "\t<li>'Apr17'</li>\n",
       "\t<li>'Apr25'</li>\n",
       "\t<li>'May03'</li>\n",
       "\t<li>'May11'</li>\n",
       "\t<li>'May17'</li>\n",
       "\t<li>'May25'</li>\n",
       "</ol>\n"
      ],
      "text/latex": [
       "\\begin{enumerate*}\n",
       "\\item 'Apr01'\n",
       "\\item 'Apr09'\n",
       "\\item 'Apr17'\n",
       "\\item 'Apr25'\n",
       "\\item 'May03'\n",
       "\\item 'May11'\n",
       "\\item 'May17'\n",
       "\\item 'May25'\n",
       "\\end{enumerate*}\n"
      ],
      "text/markdown": [
       "1. 'Apr01'\n",
       "2. 'Apr09'\n",
       "3. 'Apr17'\n",
       "4. 'Apr25'\n",
       "5. 'May03'\n",
       "6. 'May11'\n",
       "7. 'May17'\n",
       "8. 'May25'\n",
       "\n",
       "\n"
      ],
      "text/plain": [
       "[1] \"Apr01\" \"Apr09\" \"Apr17\" \"Apr25\" \"May03\" \"May11\" \"May17\" \"May25\""
      ]
     },
     "metadata": {},
     "output_type": "display_data"
    }
   ],
   "source": [
    "# Available epicurves\n",
    "(all_epicurves = unique(df$epicurve))\n",
    "# we restrict ourselves to the following epicurves \n",
    "# starting from the first one with the time step of eight days\n",
    "(all_epicurves = c(\"Apr01\",\"Apr09\",\"Apr17\",\"Apr25\",\"May03\",\"May11\",\"May17\",\"May25\"))\n",
    "df = filter(df,epicurve %in% all_epicurves)"
   ]
  },
  {
   "cell_type": "code",
   "execution_count": 397,
   "metadata": {},
   "outputs": [
    {
     "data": {
      "text/html": [
       "83"
      ],
      "text/latex": [
       "83"
      ],
      "text/markdown": [
       "83"
      ],
      "text/plain": [
       "[1] 83"
      ]
     },
     "metadata": {},
     "output_type": "display_data"
    }
   ],
   "source": [
    "(maxDay = max(df$day_confirmation)+21)"
   ]
  },
  {
   "cell_type": "markdown",
   "metadata": {},
   "source": [
    "# <font color=\"red\">With no switch in delay function</font>"
   ]
  },
  {
   "cell_type": "markdown",
   "metadata": {},
   "source": [
    "* **Slower version**"
   ]
  },
  {
   "cell_type": "code",
   "execution_count": 702,
   "metadata": {},
   "outputs": [],
   "source": [
    "# if the parameter \"prediction\" is FALSE, the result of the function is log-likelihood,\n",
    "# otherwise it give the resulting data.frame with all entities\n",
    "calculate_six_generations = function(prms,prediction=FALSE,ndays=maxDay) {\n",
    "    K = prms[1]; R2 = prms[2]; R3 = prms[3]; R4 = prms[4]; R5 = prms[5]\n",
    "    \n",
    "    data.frame(day = 0:ndays) %>%\n",
    "        mutate(gt=g(day)) -> df_\n",
    "\n",
    "    #calculating first convolution\n",
    "    conv = c()\n",
    "    for (x in 1:nrow(df_)) {\n",
    "        conv = c(conv,sum(df_$gt[1:x]*df_$gt[x:1])) }\n",
    "    df_ %<>% do(cbind(.,conv1_gt=conv))\n",
    "    \n",
    "    #calculating second convolution\n",
    "    conv = c()\n",
    "    for (x in 1:nrow(df_)) {\n",
    "        conv = c(conv,sum(df_$conv1_gt[1:x]*df_$gt[x:1])) }\n",
    "    df_ %<>% do(cbind(.,conv2_gt=conv))\n",
    "    \n",
    "    #calculating third convolution\n",
    "    conv = c()\n",
    "    for (x in 1:nrow(df_)) {\n",
    "        conv = c(conv,sum(df_$conv2_gt[1:x]*df_$gt[x:1])) }\n",
    "    df_ %<>% do(cbind(.,conv3_gt=conv))\n",
    "    \n",
    "    #calculating fourth convolution\n",
    "    conv = c()\n",
    "    for (x in 1:nrow(df_)) {\n",
    "        conv = c(conv,sum(df_$conv3_gt[1:x]*df_$gt[x:1])) }\n",
    "    df_ %<>% do(cbind(.,conv4_gt=conv))\n",
    "\n",
    "\n",
    "    df_ %<>% \n",
    "        mutate(ft = (gt+R2*conv1_gt+R2*R3*conv2_gt+R2*R3*R4*conv3_gt+R2*R3*R4*R5*conv3_gt)/(1+R2+R2*R3+R2*R3*R4+R2*R3*R4*R5)) \n",
    "    \n",
    "    if (prediction) {\n",
    "        df_ %<>% \n",
    "            mutate(ht=h(day,prms[6:7]))\n",
    "        \n",
    "        #calculating convolution with h\n",
    "        conv = c()\n",
    "        for (x in 1:nrow(df_)) {\n",
    "            conv = c(conv,sum(df_$ft[1:x]*df_$ht[x:1])) }\n",
    "        df_ %<>% do(cbind(.,conv_ht=conv)) \n",
    "\n",
    "        df_ %>% \n",
    "            left_join(Df,by=\"day\") %>%\n",
    "            mutate(lambda_i = K*ft, lambda_c = K*conv_ht) %>%\n",
    "            left_join(select(Df,-i,-c),by=\"day\") %>% return\n",
    "        \n",
    "    } else {\n",
    "        df_ %<>% right_join(Df,by=\"day\") \n",
    "        \n",
    "        maxday = max(df_$day)\n",
    "        \n",
    "        df_ %>%\n",
    "            filter(ft>0 & day<maxday) %>% \n",
    "            mutate(lambda = H(maxday-day,prms[6:7])*K*ft) %>%\n",
    "            summarize(loglk = sum(i*log(lambda)-lambda-lfactorial(i))) %>% \n",
    "            .$loglk -> loglk_onset\n",
    "        \n",
    "        df_current %>% \n",
    "            group_by(difference) %>%\n",
    "            count %>% \n",
    "            ungroup %>%\n",
    "            rowwise %>%\n",
    "            mutate(loglk = n*log(h(difference,prms[6:7]))) %>% \n",
    "            ungroup %>%\n",
    "            summarize(loglk = sum(loglk)) %>%\n",
    "            .$loglk -> loglk_delay\n",
    "        \n",
    "        return(loglk_delay+loglk_onset)\n",
    "    }\n",
    "}\n",
    "\n",
    "calculate_five_generations = function(x,prediction=FALSE,ndays=maxDay) { \n",
    "    calculate_six_generations(c(x[1:4],0,x[5:length(x)]),prediction,ndays) }\n",
    "calculate_four_generations = function(x,prediction=FALSE,ndays=maxDay) { \n",
    "    calculate_six_generations(c(x[1:3],0,0,x[4:length(x)]),prediction,ndays) }\n",
    "calculate_three_generations = function(x,prediction=FALSE,ndays=maxDay) { \n",
    "    calculate_six_generations(c(x[1:2],0,0,0,x[3:length(x)]),prediction,ndays) }\n",
    "calculate_two_generations = function(x,prediction=FALSE,ndays=maxDay) { \n",
    "    calculate_six_generations(c(x[1],0,0,0,0,x[2:length(x)]),prediction,ndays) }\n",
    "\n",
    "getDelay = function(prms) {\n",
    "    df_current %>% \n",
    "        mutate(delta = day_confirmation-day_onset) %>%\n",
    "        group_by(delta) %>%\n",
    "        count %>%\n",
    "        ungroup -> df_\n",
    "\n",
    "    df_ %>% \n",
    "        right_join(data.frame(delta=1:max(df_$delta)+1),by=\"delta\") %>%\n",
    "        mutate(n = ifelse(is.na(n),0,n), ht = h(delta,prms)) %>%\n",
    "        mutate(freq = n/sum(n)) %>%\n",
    "        return\n",
    "}"
   ]
  },
  {
   "cell_type": "code",
   "execution_count": 703,
   "metadata": {},
   "outputs": [
    {
     "data": {
      "text/html": [
       "-368.651519531958"
      ],
      "text/latex": [
       "-368.651519531958"
      ],
      "text/markdown": [
       "-368.651519531958"
      ],
      "text/plain": [
       "[1] -368.6515"
      ]
     },
     "metadata": {},
     "output_type": "display_data"
    }
   ],
   "source": [
    "# test\n",
    "pars = c(123.00059,1.25,1,2,4)\n",
    "calculate_four_generations(pars)"
   ]
  },
  {
   "cell_type": "markdown",
   "metadata": {},
   "source": [
    "* **Faster (optimized) version** (it gives the same result as the one above)"
   ]
  },
  {
   "cell_type": "code",
   "execution_count": 645,
   "metadata": {},
   "outputs": [],
   "source": [
    "# if the parameter \"prediction\" is FALSE, the result of the function is log-likelihood,\n",
    "# otherwise it give the resulting data.frame with all entities\n",
    "calculate_six_generations = function(prms,prediction=FALSE) {\n",
    "    R2 = prms[1]; R3 = prms[2]; R4 = prms[3]; R5 = prms[4]\n",
    "    \n",
    "    maxday = ifelse(prediction,maxDay,max(Df$day))\n",
    "    \n",
    "    gt = g(0:maxday)\n",
    "\n",
    "    #calculating first convolution\n",
    "    conv1_gt = c()\n",
    "    for (x in 1:length(gt)) {\n",
    "        conv1_gt = c(conv1_gt,sum(gt[1:x]*gt[x:1])) }\n",
    "    \n",
    "    #calculating second convolution\n",
    "    conv2_gt = c()\n",
    "    for (x in 1:length(gt)) {\n",
    "        conv2_gt = c(conv2_gt,sum(conv1_gt[1:x]*gt[x:1])) }\n",
    "    \n",
    "    #calculating third convolution\n",
    "    conv3_gt = c()\n",
    "    for (x in 1:length(gt)) {\n",
    "        conv3_gt = c(conv3_gt,sum(conv2_gt[1:x]*gt[x:1])) }\n",
    "    \n",
    "    #calculating fourth convolution\n",
    "    conv4_gt = c()\n",
    "    for (x in 1:length(gt)) {\n",
    "        conv4_gt = c(conv4_gt,sum(conv3_gt[1:x]*gt[x:1])) }\n",
    "    \n",
    "    ft = (gt+R2*conv1_gt+R2*R3*conv2_gt+R2*R3*R4*conv3_gt+R2*R3*R4*R5*conv3_gt)/(1+R2+R2*R3+R2*R3*R4+R2*R3*R4*R5)\n",
    "    \n",
    "    if (prediction) {\n",
    "        K = sum(Df$i[-max(Df$day)])/sum(H(maxday:0,prms[5:6])*ft)\n",
    "        \n",
    "        ht=h(0:maxday,prms[5:6])\n",
    "        \n",
    "        #calculating convolution with h\n",
    "        conv_ht = c()\n",
    "        for (x in 1:length(ht)) {\n",
    "            conv_ht = c(conv_ht,sum(ft[1:x]*ht[x:1])) }\n",
    "        \n",
    "        data.frame(\n",
    "            day = 0:maxday,\n",
    "            lambda_i = K*ft, \n",
    "            lambda_c = K*conv_ht) %>%\n",
    "        left_join(Df,by=\"day\") %>% return\n",
    "        \n",
    "    } else {\n",
    "        K = sum(Df$i[-maxday])/sum(H(maxday:0,prms[5:6])*ft)\n",
    "        Klast <<- K\n",
    "        lambda = (H(maxday:0,prms[5:6])*ft*K)[-c(1,maxday+1)]\n",
    "        \n",
    "        loglk_onset = sum(Df$i[-c(1,maxday+1)]*log(lambda)-lambda-lfactorial(Df$i[-c(1,maxday+1)]))\n",
    "        \n",
    "        dt = table(df_current$difference) %>% { apply(as.matrix.noquote(data.frame(.)),2,as.numeric) }\n",
    "        loglk_delay = sum(dt[,2]*log(h(dt[,1],prms[5:6])))\n",
    "        \n",
    "        return(loglk_delay+loglk_onset)\n",
    "    }\n",
    "}\n",
    "\n",
    "calculate_five_generations = function(x,prediction=FALSE) { calculate_six_generations(c(x[1:3],0,x[4:length(x)]),prediction) }\n",
    "calculate_four_generations = function(x,prediction=FALSE) { calculate_six_generations(c(x[1:2],0,0,x[3:length(x)]),prediction) }\n",
    "calculate_three_generations = function(x,prediction=FALSE) { calculate_six_generations(c(x[1],0,0,0,x[2:length(x)]),prediction) }\n",
    "calculate_two_generations = function(x,prediction=FALSE) { calculate_six_generations(c(0,0,0,0,x),prediction) }\n",
    "                         \n",
    "calculate_generations = function(ngenerations,x,prediction=FALSE) {\n",
    "    switch(ngenerations,\n",
    "           NULL,\n",
    "           calculate_two_generations(x,prediction),\n",
    "           calculate_three_generations(x,prediction),\n",
    "           calculate_four_generations(x,prediction),\n",
    "           calculate_five_generations(x,prediction),\n",
    "           calculate_six_generations(x,prediction)\n",
    "          )\n",
    "}"
   ]
  },
  {
   "cell_type": "code",
   "execution_count": 646,
   "metadata": {},
   "outputs": [
    {
     "data": {
      "text/html": [
       "-405.874526740495"
      ],
      "text/latex": [
       "-405.874526740495"
      ],
      "text/markdown": [
       "-405.874526740495"
      ],
      "text/plain": [
       "[1] -405.8745"
      ]
     },
     "metadata": {},
     "output_type": "display_data"
    },
    {
     "data": {
      "text/html": [
       "123.000261896309"
      ],
      "text/latex": [
       "123.000261896309"
      ],
      "text/markdown": [
       "123.000261896309"
      ],
      "text/plain": [
       "[1] 123.0003"
      ]
     },
     "metadata": {},
     "output_type": "display_data"
    }
   ],
   "source": [
    "# test\n",
    "pars = c(1.25,1,2,4)\n",
    "(calculate_four_generations(pars))\n",
    "Klast"
   ]
  },
  {
   "cell_type": "markdown",
   "metadata": {},
   "source": [
    "## Generating a table with varied number of generations\n",
    "\n",
    "## Two generations"
   ]
  },
  {
   "cell_type": "code",
   "execution_count": 647,
   "metadata": {},
   "outputs": [],
   "source": [
    "# File names to save the output\n",
    "\n",
    "final_pars_output = \"final_pars_constant_delay.csv\"\n",
    "\n",
    "recalc = TRUE"
   ]
  },
  {
   "cell_type": "code",
   "execution_count": 680,
   "metadata": {
    "scrolled": false
   },
   "outputs": [
    {
     "name": "stderr",
     "output_type": "stream",
     "text": [
      "Apr01\n"
     ]
    },
    {
     "name": "stdout",
     "output_type": "stream",
     "text": [
      "   mean_h1  var_h1  par1_h1  par2_h1        K     loglk      AIC   rmse_i\n",
      "1 4.044729 3.93481 2.147092 4.567165 25.83603 -37.24594 80.49188 1.047905\n",
      "    rmse_c\n",
      "1 1.323245\n"
     ]
    },
    {
     "name": "stderr",
     "output_type": "stream",
     "text": [
      "Apr09\n"
     ]
    },
    {
     "name": "stdout",
     "output_type": "stream",
     "text": [
      "   mean_h1   var_h1  par1_h1  par2_h1       K     loglk      AIC   rmse_i\n",
      "1 3.912038 3.872445 2.087287 4.416724 35.3243 -100.4916 206.9832 1.065747\n",
      "    rmse_c\n",
      "1 1.378465\n"
     ]
    },
    {
     "name": "stderr",
     "output_type": "stream",
     "text": [
      "Apr17\n"
     ]
    },
    {
     "name": "stdout",
     "output_type": "stream",
     "text": [
      "   mean_h1   var_h1  par1_h1  par2_h1        K    loglk    AIC   rmse_i\n",
      "1 3.924118 2.913656 2.454589 4.424604 63.01257 -273.625 553.25 2.807909\n",
      "    rmse_c\n",
      "1 2.718949\n"
     ]
    },
    {
     "name": "stderr",
     "output_type": "stream",
     "text": [
      "Apr25\n"
     ]
    },
    {
     "name": "stdout",
     "output_type": "stream",
     "text": [
      "   mean_h1   var_h1  par1_h1  par2_h1        K     loglk      AIC   rmse_i\n",
      "1 3.955826 2.918283 2.474559 4.459543 80.00003 -483.1434 972.2869 3.307684\n",
      "    rmse_c\n",
      "1 3.146875\n"
     ]
    },
    {
     "name": "stderr",
     "output_type": "stream",
     "text": [
      "Done\n"
     ]
    }
   ],
   "source": [
    "if (recalc) {\n",
    "    final_pars = NULL\n",
    "\n",
    "    # initial parameter values used in optim function\n",
    "    pars = c(2,5)\n",
    "    options(warn=-1)\n",
    "    for (current_epicurve in unique(df$epicurve)[1:4]) { \n",
    "        message(current_epicurve)\n",
    "\n",
    "        df %>% \n",
    "            filter(epicurve==current_epicurve) %>% \n",
    "            select(-epicurve) -> df_current\n",
    "\n",
    "        Df = data.frame(day=0:(unclass(as.Date('2018'%&%current_epicurve,\"%Y%b%d\"))-unclass(dayZero)))\n",
    "\n",
    "        df_current %>% \n",
    "            filter(day_onset>0) %>% #removing index case\n",
    "            group_by(day_onset) %>%\n",
    "            count %>%\n",
    "            rename(day=day_onset) %>%\n",
    "            right_join(Df,by=\"day\") %>%\n",
    "            mutate(n=ifelse(is.na(n),0,n)) %>%\n",
    "            rename(i=n) -> Df\n",
    "\n",
    "        df_current %>%\n",
    "            filter(day_onset>0) %>% #removing index case\n",
    "            group_by(day_confirmation) %>%\n",
    "            count %>%\n",
    "            rename(day=day_confirmation) %>%\n",
    "            right_join(Df,by=\"day\") %>%\n",
    "            mutate(n=ifelse(is.na(n),0,n)) %>%\n",
    "            rename(c=n) %>%\n",
    "            select(day,i,c) %>%\n",
    "            arrange(day) -> Df\n",
    "\n",
    "        Df %>% mutate(date=day+dayZero) %>%\n",
    "            select(date,day) %>% rename(onset=date) %>% right_join(df_current,by=\"onset\") -> df_current\n",
    "\n",
    "        solMLE = optim(pars,\n",
    "                    function(x) calculate_generations(length(pars),x,FALSE),\n",
    "                    method=\"L-BFGS-B\",\n",
    "                    control=list(fnscale=-1),lower=rep(0,length(pars)))   \n",
    "\n",
    "        # Weibull distribution mean and variance\n",
    "        parsH = solMLE$par[(length(pars)-1):length(pars)]\n",
    "        pars_h = c(parsH[2]*gamma(1+1/parsH[1]),parsH[2]^2*(gamma(1+2/parsH[1])-(gamma(1+1/parsH[1]))^2))\n",
    "\n",
    "        # Maximum likelihood estimates (MLE)\n",
    "        calculate_generations(length(pars),solMLE$par,prediction=TRUE) %>% \n",
    "            rename(`MLE_i`=`lambda_i`,`MLE_c`=`lambda_c`) -> dfMLE\n",
    "\n",
    "        # RMSE\n",
    "        calculate_generations(length(pars),solMLE$par,prediction=TRUE) %>%\n",
    "            na.omit %>%\n",
    "            mutate(epsilon_i = (lambda_i-i), epsilon_c = (lambda_c-c)) %>%\n",
    "            summarize(rmse_i = sqrt(sum(epsilon_i^2)/n()),rmse_c = sqrt(sum(epsilon_c^2)/n())) %>% as.numeric -> rmse\n",
    "\n",
    "        npars = length(pars)\n",
    "        output = data.frame(t(c(pars_h,solMLE$par[(length(pars)-1):length(pars)],\n",
    "                                Klast,solMLE$value,2*(npars+1-solMLE$value),rmse))) #npars+2, additional two is due to tau and K\n",
    "        colnames(output) = c(\"mean_h1\",\"var_h1\",\"par1_h1\",\"par2_h1\",\n",
    "                             \"K\",\"loglk\",\"AIC\",\"rmse_i\",\"rmse_c\")\n",
    "\n",
    "        print(output) \n",
    "        \n",
    "        final_pars %<>% rbind(output %>% gather(parameter,estimate) %>% \n",
    "                mutate(epicurve=current_epicurve,generations=length(pars)))\n",
    "    }        \n",
    "}\n",
    "\n",
    "message(\"Done\")"
   ]
  },
  {
   "cell_type": "code",
   "execution_count": 681,
   "metadata": {},
   "outputs": [
    {
     "data": {
      "text/html": [
       "<table>\n",
       "<thead><tr><th scope=col>epicurve</th><th scope=col>generations</th><th scope=col>AIC</th><th scope=col>K</th><th scope=col>loglk</th><th scope=col>mean_h1</th><th scope=col>par1_h1</th><th scope=col>par2_h1</th><th scope=col>rmse_c</th><th scope=col>rmse_i</th><th scope=col>var_h1</th></tr></thead>\n",
       "<tbody>\n",
       "\t<tr><td>Apr01     </td><td>2         </td><td> 80.49188 </td><td>25.83603  </td><td> -37.24594</td><td>4.044729  </td><td>2.147092  </td><td>4.567165  </td><td>1.323245  </td><td>1.047905  </td><td>3.934810  </td></tr>\n",
       "\t<tr><td>Apr09     </td><td>2         </td><td>206.98325 </td><td>35.32430  </td><td>-100.49162</td><td>3.912038  </td><td>2.087287  </td><td>4.416724  </td><td>1.378465  </td><td>1.065747  </td><td>3.872445  </td></tr>\n",
       "\t<tr><td>Apr17     </td><td>2         </td><td>553.24995 </td><td>63.01257  </td><td>-273.62498</td><td>3.924118  </td><td>2.454589  </td><td>4.424604  </td><td>2.718949  </td><td>2.807909  </td><td>2.913656  </td></tr>\n",
       "\t<tr><td>Apr25     </td><td>2         </td><td>972.28686 </td><td>80.00003  </td><td>-483.14343</td><td>3.955826  </td><td>2.474559  </td><td>4.459543  </td><td>3.146875  </td><td>3.307684  </td><td>2.918283  </td></tr>\n",
       "</tbody>\n",
       "</table>\n"
      ],
      "text/latex": [
       "\\begin{tabular}{r|lllllllllll}\n",
       " epicurve & generations & AIC & K & loglk & mean\\_h1 & par1\\_h1 & par2\\_h1 & rmse\\_c & rmse\\_i & var\\_h1\\\\\n",
       "\\hline\n",
       "\t Apr01      & 2          &  80.49188  & 25.83603   &  -37.24594 & 4.044729   & 2.147092   & 4.567165   & 1.323245   & 1.047905   & 3.934810  \\\\\n",
       "\t Apr09      & 2          & 206.98325  & 35.32430   & -100.49162 & 3.912038   & 2.087287   & 4.416724   & 1.378465   & 1.065747   & 3.872445  \\\\\n",
       "\t Apr17      & 2          & 553.24995  & 63.01257   & -273.62498 & 3.924118   & 2.454589   & 4.424604   & 2.718949   & 2.807909   & 2.913656  \\\\\n",
       "\t Apr25      & 2          & 972.28686  & 80.00003   & -483.14343 & 3.955826   & 2.474559   & 4.459543   & 3.146875   & 3.307684   & 2.918283  \\\\\n",
       "\\end{tabular}\n"
      ],
      "text/markdown": [
       "\n",
       "epicurve | generations | AIC | K | loglk | mean_h1 | par1_h1 | par2_h1 | rmse_c | rmse_i | var_h1 | \n",
       "|---|---|---|---|\n",
       "| Apr01      | 2          |  80.49188  | 25.83603   |  -37.24594 | 4.044729   | 2.147092   | 4.567165   | 1.323245   | 1.047905   | 3.934810   | \n",
       "| Apr09      | 2          | 206.98325  | 35.32430   | -100.49162 | 3.912038   | 2.087287   | 4.416724   | 1.378465   | 1.065747   | 3.872445   | \n",
       "| Apr17      | 2          | 553.24995  | 63.01257   | -273.62498 | 3.924118   | 2.454589   | 4.424604   | 2.718949   | 2.807909   | 2.913656   | \n",
       "| Apr25      | 2          | 972.28686  | 80.00003   | -483.14343 | 3.955826   | 2.474559   | 4.459543   | 3.146875   | 3.307684   | 2.918283   | \n",
       "\n",
       "\n"
      ],
      "text/plain": [
       "  epicurve generations AIC       K        loglk      mean_h1  par1_h1  par2_h1 \n",
       "1 Apr01    2            80.49188 25.83603  -37.24594 4.044729 2.147092 4.567165\n",
       "2 Apr09    2           206.98325 35.32430 -100.49162 3.912038 2.087287 4.416724\n",
       "3 Apr17    2           553.24995 63.01257 -273.62498 3.924118 2.454589 4.424604\n",
       "4 Apr25    2           972.28686 80.00003 -483.14343 3.955826 2.474559 4.459543\n",
       "  rmse_c   rmse_i   var_h1  \n",
       "1 1.323245 1.047905 3.934810\n",
       "2 1.378465 1.065747 3.872445\n",
       "3 2.718949 2.807909 2.913656\n",
       "4 3.146875 3.307684 2.918283"
      ]
     },
     "metadata": {},
     "output_type": "display_data"
    }
   ],
   "source": [
    "final_pars %>% spread(parameter,estimate)"
   ]
  },
  {
   "cell_type": "markdown",
   "metadata": {},
   "source": [
    "## Three and more generations"
   ]
  },
  {
   "cell_type": "code",
   "execution_count": 682,
   "metadata": {
    "scrolled": false
   },
   "outputs": [
    {
     "name": "stderr",
     "output_type": "stream",
     "text": [
      "Number of generations 3\n",
      "Apr01\n",
      "Apr09\n",
      "Apr17\n",
      "Apr25\n",
      "May03\n",
      "May11\n",
      "May17\n",
      "May25\n",
      "Number of generations 4\n",
      "Apr09\n",
      "Apr17\n",
      "Apr25\n",
      "May03\n",
      "May11\n",
      "May17\n",
      "May25\n",
      "Number of generations 5\n",
      "Apr09\n",
      "Apr17\n",
      "Apr25\n",
      "May03\n",
      "May11\n",
      "May17\n",
      "May25\n",
      "Number of generations 6\n",
      "Apr09\n",
      "Apr17\n",
      "Apr25\n",
      "May03\n",
      "May11\n",
      "May17\n",
      "May25\n",
      "Done\n"
     ]
    }
   ],
   "source": [
    "if (recalc) {\n",
    "    for (J in 1:4) {\n",
    "        pars = c(rep(1.,J),2,5)\n",
    "\n",
    "        message(\"Number of generations \",J+2)\n",
    "\n",
    "        # initial parameter values used in optim function\n",
    "        options(warn=-1)\n",
    "        for (current_epicurve in unique(df$epicurve)[ifelse(J==1,1,2):length(unique(df$epicurve))]) { \n",
    "            message(current_epicurve)\n",
    "\n",
    "            df %>% \n",
    "                filter(epicurve==current_epicurve) %>% \n",
    "                select(-epicurve) -> df_current\n",
    "\n",
    "            Df = data.frame(day=0:(unclass(as.Date('2018'%&%current_epicurve,\"%Y%b%d\"))-unclass(dayZero)))\n",
    "\n",
    "            df_current %>% \n",
    "                filter(day_onset>0) %>% #removing index case\n",
    "                group_by(day_onset) %>%\n",
    "                count %>%\n",
    "                rename(day=day_onset) %>%\n",
    "                right_join(Df,by=\"day\") %>%\n",
    "                mutate(n=ifelse(is.na(n),0,n)) %>%\n",
    "                rename(i=n) -> Df\n",
    "\n",
    "            df_current %>%\n",
    "                filter(day_onset>0) %>% #removing index case\n",
    "                group_by(day_confirmation) %>%\n",
    "                count %>%\n",
    "                rename(day=day_confirmation) %>%\n",
    "                right_join(Df,by=\"day\") %>%\n",
    "                mutate(n=ifelse(is.na(n),0,n)) %>%\n",
    "                rename(c=n) %>%\n",
    "                select(day,i,c) %>%\n",
    "                arrange(day) -> Df\n",
    "\n",
    "            Df %>% mutate(date=day+dayZero) %>%\n",
    "                select(date,day) %>% rename(onset=date) %>% right_join(df_current,by=\"onset\") -> df_current\n",
    "\n",
    "            solMLE = optim(pars,\n",
    "            function(x) calculate_generations(length(pars),x,FALSE),\n",
    "            method=\"L-BFGS-B\",\n",
    "            control=list(fnscale=-1),lower=rep(0,length(pars)))   \n",
    "\n",
    "            # Weibull distribution mean and variance\n",
    "            parsH = solMLE$par[(length(pars)-1):length(pars)]\n",
    "            pars_h = c(parsH[2]*gamma(1+1/parsH[1]),parsH[2]^2*(gamma(1+2/parsH[1])-(gamma(1+1/parsH[1]))^2))\n",
    "\n",
    "            # Maximum likelihood estimates (MLE)\n",
    "            calculate_generations(length(pars),solMLE$par,prediction=TRUE) %>% \n",
    "                rename(`MLE_i`=`lambda_i`,`MLE_c`=`lambda_c`) -> dfMLE\n",
    "\n",
    "            # RMSE\n",
    "            calculate_generations(length(pars),solMLE$par,prediction=TRUE) %>%\n",
    "                na.omit %>%\n",
    "                mutate(epsilon_i = (lambda_i-i), epsilon_c = (lambda_c-c)) %>%\n",
    "                summarize(rmse_i = sqrt(sum(epsilon_i^2)/n()),rmse_c = sqrt(sum(epsilon_c^2)/n())) %>% as.numeric -> rmse\n",
    "\n",
    "            npars = length(pars)\n",
    "            output = data.frame(t(c(pars_h,solMLE$par[(length(pars)-1):length(pars)],\n",
    "                                    Klast,solMLE$value,2*(npars+1-solMLE$value),rmse))) #npars+2, additional two is due to tau and K\n",
    "            colnames(output) = c(\"mean_h1\",\"var_h1\",\"par1_h1\",\"par2_h1\",\n",
    "                                 \"K\",\"loglk\",\"AIC\",\"rmse_i\",\"rmse_c\")\n",
    "\n",
    "            final_pars %<>% rbind(output %>% gather(parameter,estimate) %>% \n",
    "                                  mutate(epicurve=current_epicurve,generations=length(pars)))\n",
    "        }\n",
    "\n",
    "#         final_pars %>%\n",
    "#             write.table(file=final_pars_output, sep=\",\", col.names=T, append = T, quote = F, row.names = F)\n",
    "    }\n",
    "}\n",
    "\n",
    "message(\"Done\")"
   ]
  },
  {
   "cell_type": "code",
   "execution_count": 683,
   "metadata": {},
   "outputs": [
    {
     "data": {
      "text/html": [
       "<table>\n",
       "<thead><tr><th scope=col>epicurve</th><th scope=col>generations</th><th scope=col>switches</th><th scope=col>AIC</th><th scope=col>loglk</th><th scope=col>K</th><th scope=col>mean_h1</th><th scope=col>par1_h1</th><th scope=col>par2_h1</th><th scope=col>rmse_c</th><th scope=col>rmse_i</th><th scope=col>var_h1</th></tr></thead>\n",
       "<tbody>\n",
       "\t<tr><td>Apr01     </td><td>2         </td><td>0         </td><td> 80.49188 </td><td> -37.24594</td><td> 25.83603 </td><td>4.044729  </td><td>2.147092  </td><td>4.567165  </td><td>1.323245  </td><td>1.047905  </td><td>3.934810  </td></tr>\n",
       "\t<tr><td>Apr09     </td><td>3         </td><td>0         </td><td>204.12866 </td><td> -98.06433</td><td> 68.10538 </td><td>4.061816  </td><td>2.198336  </td><td>4.586395  </td><td>1.739619  </td><td>1.472954  </td><td>3.803674  </td></tr>\n",
       "\t<tr><td>Apr17     </td><td>3         </td><td>0         </td><td>344.41905 </td><td>-168.20953</td><td> 75.92714 </td><td>4.068596  </td><td>2.497009  </td><td>4.585688  </td><td>1.641221  </td><td>1.396995  </td><td>3.037520  </td></tr>\n",
       "\t<tr><td>Apr25     </td><td>4         </td><td>0         </td><td>448.09032 </td><td>-219.04516</td><td> 97.71981 </td><td>4.038389  </td><td>2.510051  </td><td>4.551056  </td><td>1.686684  </td><td>1.430253  </td><td>2.964801  </td></tr>\n",
       "\t<tr><td>May03     </td><td>5         </td><td>0         </td><td>598.70950 </td><td>-293.35475</td><td>142.08896 </td><td>4.293683  </td><td>2.176907  </td><td>4.848302  </td><td>1.909321  </td><td>1.587827  </td><td>4.325689  </td></tr>\n",
       "\t<tr><td>May11     </td><td>5         </td><td>0         </td><td>703.15713 </td><td>-345.57857</td><td>125.57604 </td><td>4.480782  </td><td>1.959805  </td><td>5.053882  </td><td>1.786760  </td><td>1.375710  </td><td>5.690231  </td></tr>\n",
       "\t<tr><td>May17     </td><td>5         </td><td>0         </td><td>740.86426 </td><td>-364.43213</td><td>124.34020 </td><td>4.500895  </td><td>1.889103  </td><td>5.071254  </td><td>1.703754  </td><td>1.266656  </td><td>6.134795  </td></tr>\n",
       "\t<tr><td>May25     </td><td>5         </td><td>0         </td><td>749.90946 </td><td>-368.95473</td><td>123.21179 </td><td>4.509955  </td><td>1.896179  </td><td>5.082092  </td><td>1.608431  </td><td>1.204498  </td><td>6.118089  </td></tr>\n",
       "</tbody>\n",
       "</table>\n"
      ],
      "text/latex": [
       "\\begin{tabular}{r|llllllllllll}\n",
       " epicurve & generations & switches & AIC & loglk & K & mean\\_h1 & par1\\_h1 & par2\\_h1 & rmse\\_c & rmse\\_i & var\\_h1\\\\\n",
       "\\hline\n",
       "\t Apr01      & 2          & 0          &  80.49188  &  -37.24594 &  25.83603  & 4.044729   & 2.147092   & 4.567165   & 1.323245   & 1.047905   & 3.934810  \\\\\n",
       "\t Apr09      & 3          & 0          & 204.12866  &  -98.06433 &  68.10538  & 4.061816   & 2.198336   & 4.586395   & 1.739619   & 1.472954   & 3.803674  \\\\\n",
       "\t Apr17      & 3          & 0          & 344.41905  & -168.20953 &  75.92714  & 4.068596   & 2.497009   & 4.585688   & 1.641221   & 1.396995   & 3.037520  \\\\\n",
       "\t Apr25      & 4          & 0          & 448.09032  & -219.04516 &  97.71981  & 4.038389   & 2.510051   & 4.551056   & 1.686684   & 1.430253   & 2.964801  \\\\\n",
       "\t May03      & 5          & 0          & 598.70950  & -293.35475 & 142.08896  & 4.293683   & 2.176907   & 4.848302   & 1.909321   & 1.587827   & 4.325689  \\\\\n",
       "\t May11      & 5          & 0          & 703.15713  & -345.57857 & 125.57604  & 4.480782   & 1.959805   & 5.053882   & 1.786760   & 1.375710   & 5.690231  \\\\\n",
       "\t May17      & 5          & 0          & 740.86426  & -364.43213 & 124.34020  & 4.500895   & 1.889103   & 5.071254   & 1.703754   & 1.266656   & 6.134795  \\\\\n",
       "\t May25      & 5          & 0          & 749.90946  & -368.95473 & 123.21179  & 4.509955   & 1.896179   & 5.082092   & 1.608431   & 1.204498   & 6.118089  \\\\\n",
       "\\end{tabular}\n"
      ],
      "text/markdown": [
       "\n",
       "epicurve | generations | switches | AIC | loglk | K | mean_h1 | par1_h1 | par2_h1 | rmse_c | rmse_i | var_h1 | \n",
       "|---|---|---|---|---|---|---|---|\n",
       "| Apr01      | 2          | 0          |  80.49188  |  -37.24594 |  25.83603  | 4.044729   | 2.147092   | 4.567165   | 1.323245   | 1.047905   | 3.934810   | \n",
       "| Apr09      | 3          | 0          | 204.12866  |  -98.06433 |  68.10538  | 4.061816   | 2.198336   | 4.586395   | 1.739619   | 1.472954   | 3.803674   | \n",
       "| Apr17      | 3          | 0          | 344.41905  | -168.20953 |  75.92714  | 4.068596   | 2.497009   | 4.585688   | 1.641221   | 1.396995   | 3.037520   | \n",
       "| Apr25      | 4          | 0          | 448.09032  | -219.04516 |  97.71981  | 4.038389   | 2.510051   | 4.551056   | 1.686684   | 1.430253   | 2.964801   | \n",
       "| May03      | 5          | 0          | 598.70950  | -293.35475 | 142.08896  | 4.293683   | 2.176907   | 4.848302   | 1.909321   | 1.587827   | 4.325689   | \n",
       "| May11      | 5          | 0          | 703.15713  | -345.57857 | 125.57604  | 4.480782   | 1.959805   | 5.053882   | 1.786760   | 1.375710   | 5.690231   | \n",
       "| May17      | 5          | 0          | 740.86426  | -364.43213 | 124.34020  | 4.500895   | 1.889103   | 5.071254   | 1.703754   | 1.266656   | 6.134795   | \n",
       "| May25      | 5          | 0          | 749.90946  | -368.95473 | 123.21179  | 4.509955   | 1.896179   | 5.082092   | 1.608431   | 1.204498   | 6.118089   | \n",
       "\n",
       "\n"
      ],
      "text/plain": [
       "  epicurve generations switches AIC       loglk      K         mean_h1 \n",
       "1 Apr01    2           0         80.49188  -37.24594  25.83603 4.044729\n",
       "2 Apr09    3           0        204.12866  -98.06433  68.10538 4.061816\n",
       "3 Apr17    3           0        344.41905 -168.20953  75.92714 4.068596\n",
       "4 Apr25    4           0        448.09032 -219.04516  97.71981 4.038389\n",
       "5 May03    5           0        598.70950 -293.35475 142.08896 4.293683\n",
       "6 May11    5           0        703.15713 -345.57857 125.57604 4.480782\n",
       "7 May17    5           0        740.86426 -364.43213 124.34020 4.500895\n",
       "8 May25    5           0        749.90946 -368.95473 123.21179 4.509955\n",
       "  par1_h1  par2_h1  rmse_c   rmse_i   var_h1  \n",
       "1 2.147092 4.567165 1.323245 1.047905 3.934810\n",
       "2 2.198336 4.586395 1.739619 1.472954 3.803674\n",
       "3 2.497009 4.585688 1.641221 1.396995 3.037520\n",
       "4 2.510051 4.551056 1.686684 1.430253 2.964801\n",
       "5 2.176907 4.848302 1.909321 1.587827 4.325689\n",
       "6 1.959805 5.053882 1.786760 1.375710 5.690231\n",
       "7 1.889103 5.071254 1.703754 1.266656 6.134795\n",
       "8 1.896179 5.082092 1.608431 1.204498 6.118089"
      ]
     },
     "metadata": {},
     "output_type": "display_data"
    }
   ],
   "source": [
    "final_pars %>% spread(parameter,estimate) %>% mutate(switches=0,AIC=as.numeric(AIC)) %>% \n",
    "    group_by(epicurve) %>%\n",
    "    filter(AIC==min(AIC)) %>%\n",
    "    select(epicurve,generations,switches,AIC,loglk,everything()) -> final_pars_0\n",
    "\n",
    "final_pars_0"
   ]
  },
  {
   "cell_type": "markdown",
   "metadata": {},
   "source": [
    "# <font color=\"red\">With a switch in delay function</font>"
   ]
  },
  {
   "cell_type": "markdown",
   "metadata": {},
   "source": [
    "## As an example, we analyse first only one particular epicurve"
   ]
  },
  {
   "cell_type": "code",
   "execution_count": 686,
   "metadata": {},
   "outputs": [
    {
     "data": {
      "text/html": [
       "'May11'"
      ],
      "text/latex": [
       "'May11'"
      ],
      "text/markdown": [
       "'May11'"
      ],
      "text/plain": [
       "[1] \"May11\""
      ]
     },
     "metadata": {},
     "output_type": "display_data"
    }
   ],
   "source": [
    "(current_epicurve = all_epicurves %>% rev %>% .[3])"
   ]
  },
  {
   "cell_type": "code",
   "execution_count": 687,
   "metadata": {},
   "outputs": [
    {
     "data": {
      "text/html": [
       "<table>\n",
       "<thead><tr><th scope=col>day</th><th scope=col>i</th><th scope=col>c</th></tr></thead>\n",
       "<tbody>\n",
       "\t<tr><td>50</td><td>2 </td><td>0 </td></tr>\n",
       "\t<tr><td>51</td><td>1 </td><td>0 </td></tr>\n",
       "\t<tr><td>52</td><td>0 </td><td>3 </td></tr>\n",
       "\t<tr><td>53</td><td>0 </td><td>2 </td></tr>\n",
       "\t<tr><td>54</td><td>0 </td><td>1 </td></tr>\n",
       "\t<tr><td>55</td><td>0 </td><td>4 </td></tr>\n",
       "</tbody>\n",
       "</table>\n"
      ],
      "text/latex": [
       "\\begin{tabular}{r|lll}\n",
       " day & i & c\\\\\n",
       "\\hline\n",
       "\t 50 & 2  & 0 \\\\\n",
       "\t 51 & 1  & 0 \\\\\n",
       "\t 52 & 0  & 3 \\\\\n",
       "\t 53 & 0  & 2 \\\\\n",
       "\t 54 & 0  & 1 \\\\\n",
       "\t 55 & 0  & 4 \\\\\n",
       "\\end{tabular}\n"
      ],
      "text/markdown": [
       "\n",
       "day | i | c | \n",
       "|---|---|---|---|---|---|\n",
       "| 50 | 2  | 0  | \n",
       "| 51 | 1  | 0  | \n",
       "| 52 | 0  | 3  | \n",
       "| 53 | 0  | 2  | \n",
       "| 54 | 0  | 1  | \n",
       "| 55 | 0  | 4  | \n",
       "\n",
       "\n"
      ],
      "text/plain": [
       "  day i c\n",
       "1 50  2 0\n",
       "2 51  1 0\n",
       "3 52  0 3\n",
       "4 53  0 2\n",
       "5 54  0 1\n",
       "6 55  0 4"
      ]
     },
     "metadata": {},
     "output_type": "display_data"
    }
   ],
   "source": [
    "df %>% \n",
    "    filter(epicurve==current_epicurve) %>% \n",
    "    select(-epicurve) -> df_current\n",
    "\n",
    "Df = data.frame(day=0:(unclass(as.Date('2018'%&%current_epicurve,\"%Y%b%d\"))-unclass(as.Date('2018-03-17'))))\n",
    "\n",
    "df_current %>% \n",
    "    filter(day_onset>0) %>% #removing index case from fitting\n",
    "    group_by(day_onset) %>%\n",
    "    count %>%\n",
    "    rename(day=day_onset) %>%\n",
    "    right_join(Df,by=\"day\") %>%\n",
    "    mutate(n=ifelse(is.na(n),0,n)) %>%\n",
    "    rename(i=n) -> Df\n",
    "\n",
    "df_current %>%\n",
    "    filter(day_onset>0) %>% #removing index case from fitting\n",
    "    group_by(day_confirmation) %>%\n",
    "    count %>%\n",
    "    rename(day=day_confirmation) %>%\n",
    "    right_join(Df,by=\"day\") %>%\n",
    "    mutate(n=ifelse(is.na(n),0,n)) %>%\n",
    "    rename(c=n) %>%\n",
    "    select(day,i,c) %>%\n",
    "    arrange(day) -> Df\n",
    "\n",
    "# Df %<>% mutate(date=day+as.Date('2018-03-17'))\n",
    "\n",
    "Df %>% tail"
   ]
  },
  {
   "cell_type": "code",
   "execution_count": 688,
   "metadata": {},
   "outputs": [
    {
     "name": "stderr",
     "output_type": "stream",
     "text": [
      "Joining, by = \"onset\"\n"
     ]
    },
    {
     "data": {
      "text/html": [
       "<table>\n",
       "<thead><tr><th scope=col>onset</th><th scope=col>day</th><th scope=col>confirmed</th><th scope=col>difference</th><th scope=col>day_onset</th><th scope=col>day_confirmation</th></tr></thead>\n",
       "<tbody>\n",
       "\t<tr><td>2018-03-17</td><td> 0        </td><td>2018-03-20</td><td>6         </td><td> 0        </td><td> 3        </td></tr>\n",
       "\t<tr><td>2018-03-27</td><td>10        </td><td>2018-03-29</td><td>2         </td><td>10        </td><td>12        </td></tr>\n",
       "\t<tr><td>2018-03-27</td><td>10        </td><td>2018-03-29</td><td>2         </td><td>10        </td><td>12        </td></tr>\n",
       "\t<tr><td>2018-03-25</td><td> 8        </td><td>2018-03-31</td><td>6         </td><td> 8        </td><td>14        </td></tr>\n",
       "\t<tr><td>2018-03-25</td><td> 8        </td><td>2018-03-31</td><td>6         </td><td> 8        </td><td>14        </td></tr>\n",
       "\t<tr><td>2018-03-26</td><td> 9        </td><td>2018-03-31</td><td>5         </td><td> 9        </td><td>14        </td></tr>\n",
       "</tbody>\n",
       "</table>\n"
      ],
      "text/latex": [
       "\\begin{tabular}{r|llllll}\n",
       " onset & day & confirmed & difference & day\\_onset & day\\_confirmation\\\\\n",
       "\\hline\n",
       "\t 2018-03-17 &  0         & 2018-03-20 & 6          &  0         &  3        \\\\\n",
       "\t 2018-03-27 & 10         & 2018-03-29 & 2          & 10         & 12        \\\\\n",
       "\t 2018-03-27 & 10         & 2018-03-29 & 2          & 10         & 12        \\\\\n",
       "\t 2018-03-25 &  8         & 2018-03-31 & 6          &  8         & 14        \\\\\n",
       "\t 2018-03-25 &  8         & 2018-03-31 & 6          &  8         & 14        \\\\\n",
       "\t 2018-03-26 &  9         & 2018-03-31 & 5          &  9         & 14        \\\\\n",
       "\\end{tabular}\n"
      ],
      "text/markdown": [
       "\n",
       "onset | day | confirmed | difference | day_onset | day_confirmation | \n",
       "|---|---|---|---|---|---|\n",
       "| 2018-03-17 |  0         | 2018-03-20 | 6          |  0         |  3         | \n",
       "| 2018-03-27 | 10         | 2018-03-29 | 2          | 10         | 12         | \n",
       "| 2018-03-27 | 10         | 2018-03-29 | 2          | 10         | 12         | \n",
       "| 2018-03-25 |  8         | 2018-03-31 | 6          |  8         | 14         | \n",
       "| 2018-03-25 |  8         | 2018-03-31 | 6          |  8         | 14         | \n",
       "| 2018-03-26 |  9         | 2018-03-31 | 5          |  9         | 14         | \n",
       "\n",
       "\n"
      ],
      "text/plain": [
       "  onset      day confirmed  difference day_onset day_confirmation\n",
       "1 2018-03-17  0  2018-03-20 6           0         3              \n",
       "2 2018-03-27 10  2018-03-29 2          10        12              \n",
       "3 2018-03-27 10  2018-03-29 2          10        12              \n",
       "4 2018-03-25  8  2018-03-31 6           8        14              \n",
       "5 2018-03-25  8  2018-03-31 6           8        14              \n",
       "6 2018-03-26  9  2018-03-31 5           9        14              "
      ]
     },
     "metadata": {},
     "output_type": "display_data"
    }
   ],
   "source": [
    "Df %>% mutate(date=day+as.Date('2018-03-17')) %>%\n",
    "    select(date,day) %>% rename(onset=date) %>% right_join(df_current) -> df_current\n",
    "\n",
    "df_current %>% head"
   ]
  },
  {
   "cell_type": "code",
   "execution_count": 694,
   "metadata": {},
   "outputs": [],
   "source": [
    "# if the parameter \"prediction\" is FALSE, the result of the function is log-likelihood,\n",
    "# otherwise it give the resulting data.frame with all entities\n",
    "calculate_six_generations = function(prms,tau,prediction=FALSE) {\n",
    "    K = prms[1]; R2 = prms[2]; R3 = prms[3]; R4 = prms[4]; R5 = prms[5]\n",
    "    \n",
    "    maxday = max(Df$day)\n",
    "    \n",
    "    data.frame(day = 0:maxday) %>%\n",
    "        mutate(gt=g(day)) -> df_\n",
    "\n",
    "    #calculating first convolution\n",
    "    conv = c()\n",
    "    for (x in 1:nrow(df_)) {\n",
    "        conv = c(conv,sum(df_$gt[1:x]*df_$gt[x:1])) }\n",
    "    df_ %<>% do(cbind(.,conv1_gt=conv))\n",
    "    \n",
    "    #calculating second convolution\n",
    "    conv = c()\n",
    "    for (x in 1:nrow(df_)) {\n",
    "        conv = c(conv,sum(df_$conv1_gt[1:x]*df_$gt[x:1])) }\n",
    "    df_ %<>% do(cbind(.,conv2_gt=conv))\n",
    "    \n",
    "    #calculating third convolution\n",
    "    conv = c()\n",
    "    for (x in 1:nrow(df_)) {\n",
    "        conv = c(conv,sum(df_$conv2_gt[1:x]*df_$gt[x:1])) }\n",
    "    df_ %<>% do(cbind(.,conv3_gt=conv))\n",
    "    \n",
    "    #calculating fourth convolution\n",
    "    conv = c()\n",
    "    for (x in 1:nrow(df_)) {\n",
    "        conv = c(conv,sum(df_$conv3_gt[1:x]*df_$gt[x:1])) }\n",
    "    df_ %<>% do(cbind(.,conv4_gt=conv))\n",
    "\n",
    "\n",
    "    df_ %<>% \n",
    "        mutate(ft = (gt+R2*conv1_gt+R2*R3*conv2_gt+R2*R3*R4*conv3_gt+R2*R3*R4*R5*conv3_gt)/(1+R2+R2*R3+R2*R3*R4+R2*R3*R4*R5)) \n",
    "    \n",
    "    if (prediction) {\n",
    "        df_ %<>% \n",
    "            mutate(hNum = ifelse(day<tau,0,1), ht=h(day,prms[6:7+2*hNum]))\n",
    "        \n",
    "        #calculating convolution with h\n",
    "        conv = c()\n",
    "        for (x in 1:nrow(df_)) {\n",
    "            conv = c(conv,sum(df_$ft[1:x]*df_$ht[x:1])) }\n",
    "        df_ %<>% do(cbind(.,conv_ht=conv)) \n",
    "\n",
    "        df_ %>% \n",
    "            left_join(Df,by=\"day\") %>%\n",
    "            mutate(lambda_i = K*ft, lambda_c = K*conv_ht) %>%\n",
    "            left_join(select(Df,-i,-c),by=\"day\") %>% return\n",
    "        \n",
    "    } else {\n",
    "        df_ %<>% right_join(Df,by=\"day\") \n",
    "        \n",
    "        df_ %>%\n",
    "            mutate(hNum = ifelse(day<tau,0,1)) %>%\n",
    "            filter(ft>0 & day<maxday) %>%\n",
    "            rowwise %>%\n",
    "            mutate(lambda = H(maxday-day,prms[6:7+2*hNum])*K*ft) %>%\n",
    "            ungroup %>%\n",
    "            summarize(loglk = sum(i*log(lambda)-lambda-lfactorial(i))) %>% \n",
    "            .$loglk -> loglk_onset\n",
    "                \n",
    "        df_current %>% \n",
    "            mutate(hNum = ifelse(day<tau,0,1)) %>%\n",
    "            group_by(hNum,difference) %>%\n",
    "            count %>% \n",
    "            ungroup %>%\n",
    "            rowwise %>%\n",
    "            mutate(loglk = n*log(h(difference,prms[6:7+2*hNum]))) %>% \n",
    "            ungroup %>%\n",
    "            summarize(loglk = sum(loglk)) %>%\n",
    "            .$loglk -> loglk_delay\n",
    "                \n",
    "        return(loglk_delay+loglk_onset)\n",
    "    }\n",
    "}\n",
    "\n",
    "calculate_five_generations = function(x,tau,prediction=FALSE) { calculate_six_generations(c(x[1:4],0,x[5:length(x)]),tau,prediction) }\n",
    "calculate_four_generations = function(x,tau,prediction=FALSE) { calculate_six_generations(c(x[1:3],0,0,x[4:length(x)]),tau,prediction) }\n",
    "calculate_three_generations = function(x,tau,prediction=FALSE) { calculate_six_generations(c(x[1:2],0,0,0,x[3:length(x)]),tau,prediction) }\n",
    "calculate_two_generations = function(x,tau,prediction=FALSE) { calculate_six_generations(c(x[1],0,0,0,0,x[2:length(x)]),tau,prediction) }"
   ]
  },
  {
   "cell_type": "code",
   "execution_count": 699,
   "metadata": {},
   "outputs": [
    {
     "data": {
      "text/html": [
       "-Inf"
      ],
      "text/latex": [
       "-Inf"
      ],
      "text/markdown": [
       "-Inf"
      ],
      "text/plain": [
       "[1] -Inf"
      ]
     },
     "metadata": {},
     "output_type": "display_data"
    }
   ],
   "source": [
    "# test\n",
    "pars = c(118.10832,1.25,1,2,4,1,4)\n",
    "tau0 = 30\n",
    "calculate_four_generations(pars,tau=tau0)"
   ]
  },
  {
   "cell_type": "code",
   "execution_count": 700,
   "metadata": {},
   "outputs": [],
   "source": [
    "# if the parameter \"prediction\" is FALSE, the result of the function is log-likelihood,\n",
    "# otherwise it give the resulting data.frame with all entities\n",
    "calculate_six_generations = function(prms,tau,prediction=FALSE) {\n",
    "    R2 = prms[1]; R3 = prms[2]; R4 = prms[3]; R5 = prms[4]\n",
    "    \n",
    "    maxday = ifelse(prediction,maxDay,max(Df$day))\n",
    "\n",
    "    gt = g(0:maxday)\n",
    "    hNum = ifelse(0:maxday<tau,0,1)\n",
    "\n",
    "    #calculating first convolution\n",
    "    conv1_gt = c()\n",
    "    for (x in 1:length(gt)) {\n",
    "        conv1_gt = c(conv1_gt,sum(gt[1:x]*gt[x:1])) }\n",
    "    \n",
    "    #calculating second convolution\n",
    "    conv2_gt = c()\n",
    "    for (x in 1:length(gt)) {\n",
    "        conv2_gt = c(conv2_gt,sum(conv1_gt[1:x]*gt[x:1])) }\n",
    "    \n",
    "    #calculating third convolution\n",
    "    conv3_gt = c()\n",
    "    for (x in 1:length(gt)) {\n",
    "        conv3_gt = c(conv3_gt,sum(conv2_gt[1:x]*gt[x:1])) }\n",
    "    \n",
    "    #calculating fourth convolution\n",
    "    conv4_gt = c()\n",
    "    for (x in 1:length(gt)) {\n",
    "        conv4_gt = c(conv4_gt,sum(conv3_gt[1:x]*gt[x:1])) }\n",
    "    \n",
    "    ft = (gt+R2*conv1_gt+R2*R3*conv2_gt+R2*R3*R4*conv3_gt+R2*R3*R4*R5*conv3_gt)/(1+R2+R2*R3+R2*R3*R4+R2*R3*R4*R5)\n",
    "    \n",
    "    if (prediction) {\n",
    "        K = sum(Df$i[-max(Df$day)])/sum(mapply(function(x,y) H(x,prms[5:6+2*y]),maxday:0,hNum)*ft)\n",
    "        \n",
    "        ht=h(0:maxday,prms[5:6+2*hNum])\n",
    "        \n",
    "        #calculating convolution with h\n",
    "        conv_ht = c()\n",
    "        for (x in 1:length(ht)) {\n",
    "            conv_ht = c(conv_ht,sum(ft[1:x]*ht[x:1])) }\n",
    "        \n",
    "        data.frame(\n",
    "            day = 0:maxday,\n",
    "            lambda_i = K*ft, \n",
    "            lambda_c = K*conv_ht) %>%\n",
    "        left_join(Df,by=\"day\") %>% return\n",
    "        \n",
    "    } else {\n",
    "        K = sum(Df$i[-maxday])/sum(mapply(function(x,y) H(x,prms[5:6+2*y]),maxday:0,hNum)*ft)\n",
    "        Klast <<- K\n",
    "        lambda = (mapply(function(x,y) H(x,prms[5:6+2*y]),maxday:0,hNum)*ft*K)[-c(1,maxday+1)] \n",
    "        #the first and the last elements are zeros -> so we remove them due to non-zeros loglk\n",
    "        \n",
    "        loglk_onset = sum(Df$i[-c(1,maxday+1)]*log(lambda)-lambda-lfactorial(Df$i[-c(1,maxday+1)]))\n",
    "                         \n",
    "        dt = table(df_current[df_current$day<tau,]$difference) %>% { apply(as.matrix.noquote(data.frame(.)),2,as.numeric) }\n",
    "        loglk_delay = sum(dt[,2]*log(h(dt[,1],prms[5:6])))     \n",
    "        dt = table(df_current[df_current$day>=tau,]$difference) %>% { apply(as.matrix.noquote(data.frame(.)),2,as.numeric) }\n",
    "        loglk_delay = loglk_delay + sum(dt[,2]*log(h(dt[,1],prms[7:8])))\n",
    "        \n",
    "        return(loglk_delay+loglk_onset)\n",
    "    }\n",
    "}\n",
    "\n",
    "calculate_five_generations = function(x,tau,prediction=FALSE) { calculate_six_generations(c(x[1:3],0,x[4:length(x)]),tau,prediction) }\n",
    "calculate_four_generations = function(x,tau,prediction=FALSE) { calculate_six_generations(c(x[1:2],0,0,x[3:length(x)]),tau,prediction) }\n",
    "calculate_three_generations = function(x,tau,prediction=FALSE) { calculate_six_generations(c(x[1],0,0,0,x[2:length(x)]),tau,prediction) }\n",
    "calculate_two_generations = function(x,tau,prediction=FALSE) { calculate_six_generations(c(0,0,0,0,x),tau,prediction) }\n",
    "                         \n",
    "calculate_generations = function(ngenerations,x,tau,prediction=FALSE) {\n",
    "    switch(ngenerations,\n",
    "           NULL,\n",
    "           calculate_two_generations(x,tau,prediction),\n",
    "           calculate_three_generations(x,tau,prediction),\n",
    "           calculate_four_generations(x,tau,prediction),\n",
    "           calculate_five_generations(x,tau,prediction),\n",
    "           calculate_six_generations(x,tau,prediction)\n",
    "          )\n",
    "}"
   ]
  },
  {
   "cell_type": "code",
   "execution_count": 701,
   "metadata": {},
   "outputs": [
    {
     "data": {
      "text/html": [
       "-361.116989163009"
      ],
      "text/latex": [
       "-361.116989163009"
      ],
      "text/markdown": [
       "-361.116989163009"
      ],
      "text/plain": [
       "[1] -361.117"
      ]
     },
     "metadata": {},
     "output_type": "display_data"
    },
    {
     "data": {
      "text/html": [
       "118.108324940576"
      ],
      "text/latex": [
       "118.108324940576"
      ],
      "text/markdown": [
       "118.108324940576"
      ],
      "text/plain": [
       "[1] 118.1083"
      ]
     },
     "metadata": {},
     "output_type": "display_data"
    }
   ],
   "source": [
    "# test\n",
    "pars = c(1.25,1,2,4,1,4)\n",
    "tau0 = 30\n",
    "calculate_generations(length(pars)-2,pars,tau=tau0)\n",
    "Klast "
   ]
  },
  {
   "cell_type": "code",
   "execution_count": 606,
   "metadata": {
    "scrolled": false
   },
   "outputs": [
    {
     "name": "stdout",
     "output_type": "stream",
     "text": [
      "[1] 123.0034\n"
     ]
    },
    {
     "data": {
      "text/html": [
       "<dl>\n",
       "\t<dt>$par</dt>\n",
       "\t\t<dd><ol class=list-inline>\n",
       "\t<li>1.23163825269079</li>\n",
       "\t<li>1.49242245067251</li>\n",
       "\t<li>2.59237718348569</li>\n",
       "\t<li>4.68861136748082</li>\n",
       "\t<li>1.6484510977842</li>\n",
       "\t<li>5.5118395784661</li>\n",
       "</ol>\n",
       "</dd>\n",
       "\t<dt>$value</dt>\n",
       "\t\t<dd>-377.191123494435</dd>\n",
       "\t<dt>$counts</dt>\n",
       "\t\t<dd><dl class=dl-horizontal>\n",
       "\t<dt>function</dt>\n",
       "\t\t<dd>15</dd>\n",
       "\t<dt>gradient</dt>\n",
       "\t\t<dd>15</dd>\n",
       "</dl>\n",
       "</dd>\n",
       "\t<dt>$convergence</dt>\n",
       "\t\t<dd>0</dd>\n",
       "\t<dt>$message</dt>\n",
       "\t\t<dd>'CONVERGENCE: REL_REDUCTION_OF_F &lt;= FACTR*EPSMCH'</dd>\n",
       "\t<dt>$hessian</dt>\n",
       "\t\t<dd><table>\n",
       "<tbody>\n",
       "\t<tr><td>-13.353162174</td><td> -7.422934679</td><td> 0.000000e+00</td><td> 0.000000e+00</td><td>-2.519727e-03</td><td> 7.934560e-04</td></tr>\n",
       "\t<tr><td> -7.422934679</td><td>-11.563854201</td><td> 0.000000e+00</td><td> 0.000000e+00</td><td>-4.638849e-03</td><td> 1.460904e-03</td></tr>\n",
       "\t<tr><td>  0.000000000</td><td>  0.000000000</td><td>-1.510995e+01</td><td> 5.211001e+00</td><td> 1.421085e-08</td><td> 0.000000e+00</td></tr>\n",
       "\t<tr><td>  0.000000000</td><td>  0.000000000</td><td> 5.211001e+00</td><td>-2.051499e+01</td><td> 7.105427e-09</td><td> 7.105427e-09</td></tr>\n",
       "\t<tr><td> -0.002519727</td><td> -0.004638849</td><td> 1.421085e-08</td><td> 7.105427e-09</td><td>-3.624502e+01</td><td> 4.538160e+00</td></tr>\n",
       "\t<tr><td>  0.000793456</td><td>  0.001460904</td><td> 0.000000e+00</td><td> 7.105427e-09</td><td> 4.538160e+00</td><td>-4.970228e+00</td></tr>\n",
       "</tbody>\n",
       "</table>\n",
       "</dd>\n",
       "</dl>\n"
      ],
      "text/latex": [
       "\\begin{description}\n",
       "\\item[\\$par] \\begin{enumerate*}\n",
       "\\item 1.23163825269079\n",
       "\\item 1.49242245067251\n",
       "\\item 2.59237718348569\n",
       "\\item 4.68861136748082\n",
       "\\item 1.6484510977842\n",
       "\\item 5.5118395784661\n",
       "\\end{enumerate*}\n",
       "\n",
       "\\item[\\$value] -377.191123494435\n",
       "\\item[\\$counts] \\begin{description*}\n",
       "\\item[function] 15\n",
       "\\item[gradient] 15\n",
       "\\end{description*}\n",
       "\n",
       "\\item[\\$convergence] 0\n",
       "\\item[\\$message] 'CONVERGENCE: REL\\_REDUCTION\\_OF\\_F <= FACTR*EPSMCH'\n",
       "\\item[\\$hessian] \\begin{tabular}{llllll}\n",
       "\t -13.353162174 &  -7.422934679 &  0.000000e+00 &  0.000000e+00 & -2.519727e-03 &  7.934560e-04\\\\\n",
       "\t  -7.422934679 & -11.563854201 &  0.000000e+00 &  0.000000e+00 & -4.638849e-03 &  1.460904e-03\\\\\n",
       "\t   0.000000000 &   0.000000000 & -1.510995e+01 &  5.211001e+00 &  1.421085e-08 &  0.000000e+00\\\\\n",
       "\t   0.000000000 &   0.000000000 &  5.211001e+00 & -2.051499e+01 &  7.105427e-09 &  7.105427e-09\\\\\n",
       "\t  -0.002519727 &  -0.004638849 &  1.421085e-08 &  7.105427e-09 & -3.624502e+01 &  4.538160e+00\\\\\n",
       "\t   0.000793456 &   0.001460904 &  0.000000e+00 &  7.105427e-09 &  4.538160e+00 & -4.970228e+00\\\\\n",
       "\\end{tabular}\n",
       "\n",
       "\\end{description}\n"
      ],
      "text/markdown": [
       "$par\n",
       ":   1. 1.23163825269079\n",
       "2. 1.49242245067251\n",
       "3. 2.59237718348569\n",
       "4. 4.68861136748082\n",
       "5. 1.6484510977842\n",
       "6. 5.5118395784661\n",
       "\n",
       "\n",
       "\n",
       "$value\n",
       ":   -377.191123494435\n",
       "$counts\n",
       ":   function\n",
       ":   15gradient\n",
       ":   15\n",
       "\n",
       "\n",
       "$convergence\n",
       ":   0\n",
       "$message\n",
       ":   'CONVERGENCE: REL_REDUCTION_OF_F &lt;= FACTR*EPSMCH'\n",
       "$hessian\n",
       ":   \n",
       "| -13.353162174 |  -7.422934679 |  0.000000e+00 |  0.000000e+00 | -2.519727e-03 |  7.934560e-04 | \n",
       "|  -7.422934679 | -11.563854201 |  0.000000e+00 |  0.000000e+00 | -4.638849e-03 |  1.460904e-03 | \n",
       "|   0.000000000 |   0.000000000 | -1.510995e+01 |  5.211001e+00 |  1.421085e-08 |  0.000000e+00 | \n",
       "|   0.000000000 |   0.000000000 |  5.211001e+00 | -2.051499e+01 |  7.105427e-09 |  7.105427e-09 | \n",
       "|  -0.002519727 |  -0.004638849 |  1.421085e-08 |  7.105427e-09 | -3.624502e+01 |  4.538160e+00 | \n",
       "|   0.000793456 |   0.001460904 |  0.000000e+00 |  7.105427e-09 |  4.538160e+00 | -4.970228e+00 | \n",
       "\n",
       "\n",
       "\n",
       "\n",
       "\n"
      ],
      "text/plain": [
       "$par\n",
       "[1] 1.231638 1.492422 2.592377 4.688611 1.648451 5.511840\n",
       "\n",
       "$value\n",
       "[1] -377.1911\n",
       "\n",
       "$counts\n",
       "function gradient \n",
       "      15       15 \n",
       "\n",
       "$convergence\n",
       "[1] 0\n",
       "\n",
       "$message\n",
       "[1] \"CONVERGENCE: REL_REDUCTION_OF_F <= FACTR*EPSMCH\"\n",
       "\n",
       "$hessian\n",
       "              [,1]          [,2]          [,3]          [,4]          [,5]\n",
       "[1,] -13.353162174  -7.422934679  0.000000e+00  0.000000e+00 -2.519727e-03\n",
       "[2,]  -7.422934679 -11.563854201  0.000000e+00  0.000000e+00 -4.638849e-03\n",
       "[3,]   0.000000000   0.000000000 -1.510995e+01  5.211001e+00  1.421085e-08\n",
       "[4,]   0.000000000   0.000000000  5.211001e+00 -2.051499e+01  7.105427e-09\n",
       "[5,]  -0.002519727  -0.004638849  1.421085e-08  7.105427e-09 -3.624502e+01\n",
       "[6,]   0.000793456   0.001460904  0.000000e+00  7.105427e-09  4.538160e+00\n",
       "              [,6]\n",
       "[1,]  7.934560e-04\n",
       "[2,]  1.460904e-03\n",
       "[3,]  0.000000e+00\n",
       "[4,]  7.105427e-09\n",
       "[5,]  4.538160e+00\n",
       "[6,] -4.970228e+00\n"
      ]
     },
     "metadata": {},
     "output_type": "display_data"
    }
   ],
   "source": [
    "options(warn=-1)\n",
    "sol = optim(pars,function(x) calculate_generations(length(pars)-2,x,tau0,FALSE),\n",
    "            method=\"L-BFGS-B\",control=list(fnscale=-1),lower=rep(0,length(pars)),\n",
    "            hessian=TRUE)\n",
    "options(warn=0)\n",
    "pars = sol$par \n",
    "\n",
    "print(Klast)\n",
    "sol"
   ]
  },
  {
   "cell_type": "code",
   "execution_count": 607,
   "metadata": {},
   "outputs": [
    {
     "name": "stdout",
     "output_type": "stream",
     "text": [
      "[1] 4.164112 2.975304\n",
      "[1] 4.929124 9.421072\n"
     ]
    }
   ],
   "source": [
    "# Obtained Weibull distribution mean and variance\n",
    "for (j in c(1,0)) {\n",
    "    parsH = pars[(length(pars)-1):length(pars)-2*j]\n",
    "    c(parsH[2]*gamma(1+1/parsH[1]),parsH[2]^2*(gamma(1+2/parsH[1])-(gamma(1+1/parsH[1]))^2)) %>% print\n",
    "}"
   ]
  },
  {
   "cell_type": "code",
   "execution_count": 608,
   "metadata": {},
   "outputs": [
    {
     "data": {
      "text/html": [
       "<table>\n",
       "<thead><tr><th></th><th scope=col>day</th><th scope=col>lambda_i</th><th scope=col>lambda_c</th><th scope=col>i</th><th scope=col>c</th></tr></thead>\n",
       "<tbody>\n",
       "\t<tr><th scope=row>75</th><td>74          </td><td>3.966457e-07</td><td>1.655239e-05</td><td>NA          </td><td>NA          </td></tr>\n",
       "\t<tr><th scope=row>76</th><td>75          </td><td>1.995136e-07</td><td>8.872014e-06</td><td>NA          </td><td>NA          </td></tr>\n",
       "\t<tr><th scope=row>77</th><td>76          </td><td>9.952771e-08</td><td>4.709334e-06</td><td>NA          </td><td>NA          </td></tr>\n",
       "\t<tr><th scope=row>78</th><td>77          </td><td>4.925079e-08</td><td>2.476212e-06</td><td>NA          </td><td>NA          </td></tr>\n",
       "\t<tr><th scope=row>79</th><td>78          </td><td>2.418087e-08</td><td>1.290085e-06</td><td>NA          </td><td>NA          </td></tr>\n",
       "\t<tr><th scope=row>80</th><td>79          </td><td>1.178173e-08</td><td>6.661285e-07</td><td>NA          </td><td>NA          </td></tr>\n",
       "\t<tr><th scope=row>81</th><td>80          </td><td>5.697823e-09</td><td>3.409644e-07</td><td>NA          </td><td>NA          </td></tr>\n",
       "\t<tr><th scope=row>82</th><td>81          </td><td>2.735609e-09</td><td>1.730495e-07</td><td>NA          </td><td>NA          </td></tr>\n",
       "\t<tr><th scope=row>83</th><td>82          </td><td>1.304136e-09</td><td>8.710382e-08</td><td>NA          </td><td>NA          </td></tr>\n",
       "\t<tr><th scope=row>84</th><td>83          </td><td>6.174356e-10</td><td>4.349115e-08</td><td>NA          </td><td>NA          </td></tr>\n",
       "</tbody>\n",
       "</table>\n"
      ],
      "text/latex": [
       "\\begin{tabular}{r|lllll}\n",
       "  & day & lambda\\_i & lambda\\_c & i & c\\\\\n",
       "\\hline\n",
       "\t75 & 74           & 3.966457e-07 & 1.655239e-05 & NA           & NA          \\\\\n",
       "\t76 & 75           & 1.995136e-07 & 8.872014e-06 & NA           & NA          \\\\\n",
       "\t77 & 76           & 9.952771e-08 & 4.709334e-06 & NA           & NA          \\\\\n",
       "\t78 & 77           & 4.925079e-08 & 2.476212e-06 & NA           & NA          \\\\\n",
       "\t79 & 78           & 2.418087e-08 & 1.290085e-06 & NA           & NA          \\\\\n",
       "\t80 & 79           & 1.178173e-08 & 6.661285e-07 & NA           & NA          \\\\\n",
       "\t81 & 80           & 5.697823e-09 & 3.409644e-07 & NA           & NA          \\\\\n",
       "\t82 & 81           & 2.735609e-09 & 1.730495e-07 & NA           & NA          \\\\\n",
       "\t83 & 82           & 1.304136e-09 & 8.710382e-08 & NA           & NA          \\\\\n",
       "\t84 & 83           & 6.174356e-10 & 4.349115e-08 & NA           & NA          \\\\\n",
       "\\end{tabular}\n"
      ],
      "text/markdown": [
       "\n",
       "| <!--/--> | day | lambda_i | lambda_c | i | c | \n",
       "|---|---|---|---|---|---|---|---|---|---|\n",
       "| 75 | 74           | 3.966457e-07 | 1.655239e-05 | NA           | NA           | \n",
       "| 76 | 75           | 1.995136e-07 | 8.872014e-06 | NA           | NA           | \n",
       "| 77 | 76           | 9.952771e-08 | 4.709334e-06 | NA           | NA           | \n",
       "| 78 | 77           | 4.925079e-08 | 2.476212e-06 | NA           | NA           | \n",
       "| 79 | 78           | 2.418087e-08 | 1.290085e-06 | NA           | NA           | \n",
       "| 80 | 79           | 1.178173e-08 | 6.661285e-07 | NA           | NA           | \n",
       "| 81 | 80           | 5.697823e-09 | 3.409644e-07 | NA           | NA           | \n",
       "| 82 | 81           | 2.735609e-09 | 1.730495e-07 | NA           | NA           | \n",
       "| 83 | 82           | 1.304136e-09 | 8.710382e-08 | NA           | NA           | \n",
       "| 84 | 83           | 6.174356e-10 | 4.349115e-08 | NA           | NA           | \n",
       "\n",
       "\n"
      ],
      "text/plain": [
       "   day lambda_i     lambda_c     i  c \n",
       "75 74  3.966457e-07 1.655239e-05 NA NA\n",
       "76 75  1.995136e-07 8.872014e-06 NA NA\n",
       "77 76  9.952771e-08 4.709334e-06 NA NA\n",
       "78 77  4.925079e-08 2.476212e-06 NA NA\n",
       "79 78  2.418087e-08 1.290085e-06 NA NA\n",
       "80 79  1.178173e-08 6.661285e-07 NA NA\n",
       "81 80  5.697823e-09 3.409644e-07 NA NA\n",
       "82 81  2.735609e-09 1.730495e-07 NA NA\n",
       "83 82  1.304136e-09 8.710382e-08 NA NA\n",
       "84 83  6.174356e-10 4.349115e-08 NA NA"
      ]
     },
     "metadata": {},
     "output_type": "display_data"
    }
   ],
   "source": [
    "calculate_generations(4,pars,tau=tau0,prediction=TRUE) -> dfMLE \n",
    "dfMLE %>% tail(10)"
   ]
  },
  {
   "cell_type": "code",
   "execution_count": 609,
   "metadata": {},
   "outputs": [
    {
     "name": "stderr",
     "output_type": "stream",
     "text": [
      "Warning message:\n",
      "“Removed 14 rows containing missing values (geom_bar).”Warning message:\n",
      "“Removed 14 rows containing missing values (geom_bar).”"
     ]
    },
    {
     "data": {
      "image/png": "[encoded data removed]"
     },
     "metadata": {},
     "output_type": "display_data"
    }
   ],
   "source": [
    "options(repr.plot.width=9,repr.plot.height=7.5)\n",
    "xmax = max(dfMLE$day)\n",
    "\n",
    "dfMLE %>%\n",
    "    select(one_of(\"day\",\"lambda_i\",\"i\")) %>%\n",
    "    rename(pred=lambda_i,obs=i) %>%\n",
    "    gather(Category,Count,-day) %>%\n",
    "    mutate(Category=factor(Category,levels=c(\"pred\",\"obs\") %>% rev)) %>%\n",
    "    ggplot(aes(x=day)) +\n",
    "        geom_bar(aes(y=Count,fill=Category),stat=\"identity\",position=position_dodge(1)) +\n",
    "        coord_cartesian(xlim=c(0,xmax)) +\n",
    "        guides(fill=F) +\n",
    "        labs(y=\"incidence by onset of symptoms\",x=\"days since index case\") +\n",
    "        theme(axis.text.x = element_text(angle = 45, hjust = .5, vjust=0.5),\n",
    "              strip.text.x = element_blank(),\n",
    "              panel.grid.minor.x = element_blank(),\n",
    "              strip.background = element_rect(colour=\"white\", fill=\"white\"),\n",
    "              legend.position=c(.2,.87),\n",
    "              plot.margin = unit(c(.5,1,.5,.5),\"lines\"),\n",
    "              legend.direction=\"horizontal\") -> plt_onset\n",
    "\n",
    "dfMLE %>%\n",
    "    select(one_of(\"day\",\"lambda_c\",\"c\")) %>%\n",
    "    rename(pred=lambda_c,obs=c) %>%\n",
    "    gather(Category,Count,-day) %>%\n",
    "    mutate(Category=factor(Category,levels=c(\"pred\",\"obs\") %>% rev)) %>%\n",
    "    ggplot(aes(x=day)) +\n",
    "        geom_bar(aes(y=Count,fill=Category),stat=\"identity\",position=position_dodge(1)) +\n",
    "        coord_cartesian(xlim=c(0,xmax)) +\n",
    "        guides(fill=F) +\n",
    "        labs(y=\"incidence by day of confirmation\",x=\"days since index case\") +\n",
    "        theme(axis.text.x = element_text(angle = 45, hjust = .5, vjust=0.5),\n",
    "              strip.text.x = element_blank(),\n",
    "              panel.grid.minor.x = element_blank(),\n",
    "              strip.background = element_rect(colour=\"white\", fill=\"white\"),\n",
    "              legend.position=c(.2,.87),\n",
    "              plot.margin = unit(c(.5,1,.5,.5),\"lines\"),\n",
    "              legend.direction=\"horizontal\") -> plt_confirmation\n",
    "\n",
    "getDelay(parsH[1:2]) %>%\n",
    "    select(delta,ht,freq) %>%\n",
    "    rename(predicted=ht,observed=freq) %>%\n",
    "    gather(Category,Count,-delta) %>%\n",
    "    mutate(Category=factor(Category,levels=c(\"predicted\",\"observed\") %>% rev)) %>%\n",
    "    ggplot(aes(x=delta)) +\n",
    "        geom_bar(aes(y=Count,fill=Category),stat=\"identity\",position=position_dodge(1)) +\n",
    "        guides(fill=guide_legend(title.hjust = 0.5)) +\n",
    "        labs(y=\"delay distribution\",x=\"difference in days\") +\n",
    "        theme(axis.text.x = element_text(angle = 45, hjust = .5, vjust=0.5),\n",
    "              strip.text.x = element_blank(),\n",
    "              panel.grid.minor.x = element_blank(),\n",
    "              strip.background = element_rect(colour=\"white\", fill=\"white\"),\n",
    "              legend.position=c(1.25,.9),\n",
    "              plot.margin = unit(c(.5,4,.5,.5),\"lines\")\n",
    "             ) -> plt_delay\n",
    "\n",
    "grid.arrange(ggplotGrob(plt_onset), ggplotGrob(plt_confirmation), ggplotGrob(plt_delay),\n",
    "                 widths=c(1,1), heights=c(1,1), nrow=2, ncol=2)"
   ]
  },
  {
   "cell_type": "markdown",
   "metadata": {},
   "source": [
    "## Generating a table with varied number of generations\n",
    "\n",
    "## Two generations"
   ]
  },
  {
   "cell_type": "code",
   "execution_count": 610,
   "metadata": {},
   "outputs": [],
   "source": [
    "# File names to save the output\n",
    "\n",
    "final_pars_output = \"final_pars_varied_delay.csv\"\n",
    "\n",
    "recalc = TRUE"
   ]
  },
  {
   "cell_type": "code",
   "execution_count": 611,
   "metadata": {
    "scrolled": false
   },
   "outputs": [
    {
     "name": "stderr",
     "output_type": "stream",
     "text": [
      "Apr01\n"
     ]
    },
    {
     "name": "stdout",
     "output_type": "stream",
     "text": [
      "  tau tauDate          mean_h1           var_h1          mean_h2\n",
      "1  11   Mar28 4.39261974206625 2.15723612019564 15.8632955671376\n",
      "           var_h2          par1_h1          par2_h1           par1_h2\n",
      "1 576.28916521169 3.29214419896964 4.89751372380707 0.679587778597602\n",
      "           par2_h2                K            loglk              AIC\n",
      "1 12.1724916006851 25.7214952411322 -34.684237256966 81.3684745139319\n",
      "            rmse_i           rmse_c\n",
      "1 1.04623327906771 1.32605375975963\n"
     ]
    },
    {
     "name": "stderr",
     "output_type": "stream",
     "text": [
      "Apr09\n"
     ]
    },
    {
     "name": "stdout",
     "output_type": "stream",
     "text": [
      "  tau tauDate          mean_h1           var_h1          mean_h2\n",
      "1  11   Mar28 4.85769940403676 3.61434903114529 3.52583373136126\n",
      "            var_h2          par1_h1          par2_h1          par1_h2\n",
      "1 3.48954274969282 2.76211647102766 5.45809541516427 1.97029717149529\n",
      "           par2_h2                K             loglk              AIC\n",
      "1 3.97727781721449 35.0355813933096 -98.6048729781976 209.209745956395\n",
      "            rmse_i           rmse_c\n",
      "1 1.06574704315339 1.26201945488843\n"
     ]
    },
    {
     "name": "stderr",
     "output_type": "stream",
     "text": [
      "Apr17\n"
     ]
    },
    {
     "name": "stdout",
     "output_type": "stream",
     "text": [
      "  tau tauDate          mean_h1           var_h1          mean_h2\n",
      "1  25   Apr11 4.06451929564343 3.13905258186457 3.54205046927915\n",
      "            var_h2          par1_h1          par2_h1          par1_h2\n",
      "1 2.02089951503946 2.44883174002025 4.58314630857084 2.68553441530877\n",
      "           par2_h2                K             loglk              AIC\n",
      "1 3.98376487278347 63.0113375194584 -272.559218476996 557.118436953991\n",
      "            rmse_i           rmse_c\n",
      "1 2.80790871197967 2.68774033235645\n"
     ]
    },
    {
     "name": "stderr",
     "output_type": "stream",
     "text": [
      "Apr25\n"
     ]
    },
    {
     "name": "stdout",
     "output_type": "stream",
     "text": [
      "  tau tauDate          mean_h1           var_h1          mean_h2\n",
      "1  25   Apr11 4.08194906506144 3.22344344701682 3.78400463726382\n",
      "            var_h2          par1_h1          par2_h1          par1_h2\n",
      "1 2.39987850682853 2.42437964407475 4.60376241511706 2.62661077535302\n",
      "           par2_h2                K             loglk              AIC\n",
      "1 4.25894054945247 80.0000175967625 -482.529254241974 977.058508483948\n",
      "            rmse_i           rmse_c\n",
      "1 3.30768368190519 3.11272423867898\n"
     ]
    },
    {
     "name": "stderr",
     "output_type": "stream",
     "text": [
      "Done\n"
     ]
    }
   ],
   "source": [
    "if (recalc) {\n",
    "    final_pars = NULL\n",
    "\n",
    "    # initial parameter values used in optim function\n",
    "    pars = c(2,5,3,4)\n",
    "    options(warn=-1)\n",
    "    for (current_epicurve in unique(df$epicurve)[1:4]) { \n",
    "        message(current_epicurve)\n",
    "\n",
    "        df %>% \n",
    "            filter(epicurve==current_epicurve) %>% \n",
    "            select(-epicurve) -> df_current\n",
    "\n",
    "        Df = data.frame(day=0:(unclass(as.Date('2018'%&%current_epicurve,\"%Y%b%d\"))-unclass(dayZero)))\n",
    "\n",
    "        df_current %>% \n",
    "            filter(day_onset>0) %>% #removing index case\n",
    "            group_by(day_onset) %>%\n",
    "            count %>%\n",
    "            rename(day=day_onset) %>%\n",
    "            right_join(Df,by=\"day\") %>%\n",
    "            mutate(n=ifelse(is.na(n),0,n)) %>%\n",
    "            rename(i=n) -> Df\n",
    "\n",
    "        df_current %>%\n",
    "            filter(day_onset>0) %>% #removing index case\n",
    "            group_by(day_confirmation) %>%\n",
    "            count %>%\n",
    "            rename(day=day_confirmation) %>%\n",
    "            right_join(Df,by=\"day\") %>%\n",
    "            mutate(n=ifelse(is.na(n),0,n)) %>%\n",
    "            rename(c=n) %>%\n",
    "            select(day,i,c) %>%\n",
    "            arrange(day) -> Df\n",
    "\n",
    "        Df %>% mutate(date=day+dayZero) %>%\n",
    "            select(date,day) %>% rename(onset=date) %>% right_join(df_current,by=\"onset\") -> df_current\n",
    "\n",
    "        foreach(\n",
    "            tau0=1:max(Df$day),\n",
    "            .inorder=FALSE,\n",
    "            .combine=rbind\n",
    "        ) %dopar% {\n",
    "            # we require that there would be at least two cases present in each subgroup day<tau0 and day>=tau0\n",
    "            # to estimate the delay function\n",
    "            if (nrow(df_current[df_current$day<tau0,])>1 & nrow(df_current[df_current$day>=tau0,])>1) {\n",
    "                tryCatch({\n",
    "                    sol = optim(pars,\n",
    "                                function(x) calculate_generations(length(pars)-2,x,tau0,FALSE),\n",
    "                                method=\"L-BFGS-B\",\n",
    "                                control=list(fnscale=-1),lower=rep(0,length(pars)))\n",
    "\n",
    "                }, error=function(cond){print(cond)})\n",
    "                data.frame(tau=tau0,loglk=sol$value) \n",
    "            }\n",
    "        } -> output\n",
    "        \n",
    "        tauOptim = output[output$loglk==min(output$loglk),]$tau\n",
    "        solMLE = optim(pars,\n",
    "                    function(x) calculate_generations(length(pars)-2,x,tauOptim,FALSE),\n",
    "                    method=\"L-BFGS-B\",\n",
    "                    control=list(fnscale=-1),lower=rep(0,length(pars)))      \n",
    "\n",
    "        # Weibull distribution mean and variance\n",
    "        pars_h = NULL\n",
    "        for (j in c(1,0)) {\n",
    "            parsH = solMLE$par[(length(pars)-1):length(pars)-2*j]\n",
    "            pars_h = c(pars_h,parsH[2]*gamma(1+1/parsH[1]),parsH[2]^2*(gamma(1+2/parsH[1])-(gamma(1+1/parsH[1]))^2))\n",
    "        }\n",
    "\n",
    "        # Maximum likelihood estimates (MLE)\n",
    "        calculate_generations(length(pars)-2,solMLE$par,tauOptim,prediction=TRUE) %>% \n",
    "            rename(`MLE_i`=`lambda_i`,`MLE_c`=`lambda_c`) -> dfMLE\n",
    "\n",
    "        # RMSE\n",
    "        calculate_generations(length(pars)-2,solMLE$par,tauOptim,prediction=TRUE) %>%\n",
    "            na.omit %>%\n",
    "            mutate(epsilon_i = (lambda_i-i), epsilon_c = (lambda_c-c)) %>%\n",
    "            summarize(rmse_i = sqrt(sum(epsilon_i^2)/n()),rmse_c = sqrt(sum(epsilon_c^2)/n())) %>% as.numeric -> rmse\n",
    "\n",
    "        npars = length(pars)\n",
    "        output = data.frame(t(c(tauOptim,format(tauOptim+dayZero,\"%b%d\"),pars_h,solMLE$par[(length(pars)-3):length(pars)],\n",
    "                                Klast,solMLE$value,2*(npars+2-solMLE$value),rmse))) #npars+2, additional two is due to tau and K\n",
    "        colnames(output) = c(\"tau\",\"tauDate\",\"mean_h1\",\"var_h1\",\"mean_h2\",\"var_h2\",\"par1_h1\",\"par2_h1\",\"par1_h2\",\"par2_h2\",\n",
    "                             \"K\",\"loglk\",\"AIC\",\"rmse_i\",\"rmse_c\")\n",
    "\n",
    "        print(output) \n",
    "        \n",
    "        final_pars %<>% rbind(output %>% gather(parameter,estimate) %>% mutate(epicurve=current_epicurve,generations=length(pars)-2))\n",
    "    }        \n",
    "}\n",
    "\n",
    "message(\"Done\")"
   ]
  },
  {
   "cell_type": "code",
   "execution_count": 612,
   "metadata": {},
   "outputs": [
    {
     "data": {
      "text/html": [
       "<table>\n",
       "<thead><tr><th scope=col>epicurve</th><th scope=col>generations</th><th scope=col>AIC</th><th scope=col>K</th><th scope=col>loglk</th><th scope=col>mean_h1</th><th scope=col>mean_h2</th><th scope=col>par1_h1</th><th scope=col>par1_h2</th><th scope=col>par2_h1</th><th scope=col>par2_h2</th><th scope=col>rmse_c</th><th scope=col>rmse_i</th><th scope=col>tau</th><th scope=col>tauDate</th><th scope=col>var_h1</th><th scope=col>var_h2</th></tr></thead>\n",
       "<tbody>\n",
       "\t<tr><td>Apr01            </td><td>2                </td><td>81.3684745139319 </td><td>25.7214952411322 </td><td>-34.684237256966 </td><td>4.39261974206625 </td><td>15.8632955671376 </td><td>3.29214419896964 </td><td>0.679587778597602</td><td>4.89751372380707 </td><td>12.1724916006851 </td><td>1.32605375975963 </td><td>1.04623327906771 </td><td>11               </td><td>Mar28            </td><td>2.15723612019564 </td><td>576.28916521169  </td></tr>\n",
       "\t<tr><td>Apr09            </td><td>2                </td><td>209.209745956395 </td><td>35.0355813933096 </td><td>-98.6048729781976</td><td>4.85769940403676 </td><td>3.52583373136126 </td><td>2.76211647102766 </td><td>1.97029717149529 </td><td>5.45809541516427 </td><td>3.97727781721449 </td><td>1.26201945488843 </td><td>1.06574704315339 </td><td>11               </td><td>Mar28            </td><td>3.61434903114529 </td><td>3.48954274969282 </td></tr>\n",
       "\t<tr><td>Apr17            </td><td>2                </td><td>557.118436953991 </td><td>63.0113375194584 </td><td>-272.559218476996</td><td>4.06451929564343 </td><td>3.54205046927915 </td><td>2.44883174002025 </td><td>2.68553441530877 </td><td>4.58314630857084 </td><td>3.98376487278347 </td><td>2.68774033235645 </td><td>2.80790871197967 </td><td>25               </td><td>Apr11            </td><td>3.13905258186457 </td><td>2.02089951503946 </td></tr>\n",
       "\t<tr><td>Apr25            </td><td>2                </td><td>977.058508483948 </td><td>80.0000175967625 </td><td>-482.529254241974</td><td>4.08194906506144 </td><td>3.78400463726382 </td><td>2.42437964407475 </td><td>2.62661077535302 </td><td>4.60376241511706 </td><td>4.25894054945247 </td><td>3.11272423867898 </td><td>3.30768368190519 </td><td>25               </td><td>Apr11            </td><td>3.22344344701682 </td><td>2.39987850682853 </td></tr>\n",
       "</tbody>\n",
       "</table>\n"
      ],
      "text/latex": [
       "\\begin{tabular}{r|lllllllllllllllll}\n",
       " epicurve & generations & AIC & K & loglk & mean\\_h1 & mean\\_h2 & par1\\_h1 & par1\\_h2 & par2\\_h1 & par2\\_h2 & rmse\\_c & rmse\\_i & tau & tauDate & var\\_h1 & var\\_h2\\\\\n",
       "\\hline\n",
       "\t Apr01             & 2                 & 81.3684745139319  & 25.7214952411322  & -34.684237256966  & 4.39261974206625  & 15.8632955671376  & 3.29214419896964  & 0.679587778597602 & 4.89751372380707  & 12.1724916006851  & 1.32605375975963  & 1.04623327906771  & 11                & Mar28             & 2.15723612019564  & 576.28916521169  \\\\\n",
       "\t Apr09             & 2                 & 209.209745956395  & 35.0355813933096  & -98.6048729781976 & 4.85769940403676  & 3.52583373136126  & 2.76211647102766  & 1.97029717149529  & 5.45809541516427  & 3.97727781721449  & 1.26201945488843  & 1.06574704315339  & 11                & Mar28             & 3.61434903114529  & 3.48954274969282 \\\\\n",
       "\t Apr17             & 2                 & 557.118436953991  & 63.0113375194584  & -272.559218476996 & 4.06451929564343  & 3.54205046927915  & 2.44883174002025  & 2.68553441530877  & 4.58314630857084  & 3.98376487278347  & 2.68774033235645  & 2.80790871197967  & 25                & Apr11             & 3.13905258186457  & 2.02089951503946 \\\\\n",
       "\t Apr25             & 2                 & 977.058508483948  & 80.0000175967625  & -482.529254241974 & 4.08194906506144  & 3.78400463726382  & 2.42437964407475  & 2.62661077535302  & 4.60376241511706  & 4.25894054945247  & 3.11272423867898  & 3.30768368190519  & 25                & Apr11             & 3.22344344701682  & 2.39987850682853 \\\\\n",
       "\\end{tabular}\n"
      ],
      "text/markdown": [
       "\n",
       "epicurve | generations | AIC | K | loglk | mean_h1 | mean_h2 | par1_h1 | par1_h2 | par2_h1 | par2_h2 | rmse_c | rmse_i | tau | tauDate | var_h1 | var_h2 | \n",
       "|---|---|---|---|\n",
       "| Apr01             | 2                 | 81.3684745139319  | 25.7214952411322  | -34.684237256966  | 4.39261974206625  | 15.8632955671376  | 3.29214419896964  | 0.679587778597602 | 4.89751372380707  | 12.1724916006851  | 1.32605375975963  | 1.04623327906771  | 11                | Mar28             | 2.15723612019564  | 576.28916521169   | \n",
       "| Apr09             | 2                 | 209.209745956395  | 35.0355813933096  | -98.6048729781976 | 4.85769940403676  | 3.52583373136126  | 2.76211647102766  | 1.97029717149529  | 5.45809541516427  | 3.97727781721449  | 1.26201945488843  | 1.06574704315339  | 11                | Mar28             | 3.61434903114529  | 3.48954274969282  | \n",
       "| Apr17             | 2                 | 557.118436953991  | 63.0113375194584  | -272.559218476996 | 4.06451929564343  | 3.54205046927915  | 2.44883174002025  | 2.68553441530877  | 4.58314630857084  | 3.98376487278347  | 2.68774033235645  | 2.80790871197967  | 25                | Apr11             | 3.13905258186457  | 2.02089951503946  | \n",
       "| Apr25             | 2                 | 977.058508483948  | 80.0000175967625  | -482.529254241974 | 4.08194906506144  | 3.78400463726382  | 2.42437964407475  | 2.62661077535302  | 4.60376241511706  | 4.25894054945247  | 3.11272423867898  | 3.30768368190519  | 25                | Apr11             | 3.22344344701682  | 2.39987850682853  | \n",
       "\n",
       "\n"
      ],
      "text/plain": [
       "  epicurve generations AIC              K                loglk            \n",
       "1 Apr01    2           81.3684745139319 25.7214952411322 -34.684237256966 \n",
       "2 Apr09    2           209.209745956395 35.0355813933096 -98.6048729781976\n",
       "3 Apr17    2           557.118436953991 63.0113375194584 -272.559218476996\n",
       "4 Apr25    2           977.058508483948 80.0000175967625 -482.529254241974\n",
       "  mean_h1          mean_h2          par1_h1          par1_h2          \n",
       "1 4.39261974206625 15.8632955671376 3.29214419896964 0.679587778597602\n",
       "2 4.85769940403676 3.52583373136126 2.76211647102766 1.97029717149529 \n",
       "3 4.06451929564343 3.54205046927915 2.44883174002025 2.68553441530877 \n",
       "4 4.08194906506144 3.78400463726382 2.42437964407475 2.62661077535302 \n",
       "  par2_h1          par2_h2          rmse_c           rmse_i           tau\n",
       "1 4.89751372380707 12.1724916006851 1.32605375975963 1.04623327906771 11 \n",
       "2 5.45809541516427 3.97727781721449 1.26201945488843 1.06574704315339 11 \n",
       "3 4.58314630857084 3.98376487278347 2.68774033235645 2.80790871197967 25 \n",
       "4 4.60376241511706 4.25894054945247 3.11272423867898 3.30768368190519 25 \n",
       "  tauDate var_h1           var_h2          \n",
       "1 Mar28   2.15723612019564 576.28916521169 \n",
       "2 Mar28   3.61434903114529 3.48954274969282\n",
       "3 Apr11   3.13905258186457 2.02089951503946\n",
       "4 Apr11   3.22344344701682 2.39987850682853"
      ]
     },
     "metadata": {},
     "output_type": "display_data"
    }
   ],
   "source": [
    "final_pars %>% spread(parameter,estimate)"
   ]
  },
  {
   "cell_type": "markdown",
   "metadata": {},
   "source": [
    "## Three and more generations"
   ]
  },
  {
   "cell_type": "code",
   "execution_count": 613,
   "metadata": {
    "scrolled": false
   },
   "outputs": [
    {
     "name": "stderr",
     "output_type": "stream",
     "text": [
      "Number of generations 3\n",
      "Apr01\n",
      "Apr09\n",
      "Apr17\n",
      "Apr25\n",
      "May03\n",
      "May11\n",
      "May17\n",
      "May25\n",
      "Number of generations 4\n",
      "Apr09\n",
      "Apr17\n",
      "Apr25\n",
      "May03\n",
      "May11\n",
      "May17\n",
      "May25\n",
      "Number of generations 5\n",
      "Apr09\n",
      "Apr17\n",
      "Apr25\n",
      "May03\n",
      "May11\n",
      "May17\n",
      "May25\n",
      "Number of generations 6\n",
      "Apr09\n",
      "Apr17\n",
      "Apr25\n",
      "May03\n",
      "May11\n",
      "May17\n",
      "May25\n",
      "Done\n"
     ]
    }
   ],
   "source": [
    "if (recalc) {\n",
    "    for (J in 1:4) {\n",
    "        pars = c(rep(1.,J),2,5,3,4)\n",
    "\n",
    "        message(\"Number of generations \",J+2)\n",
    "\n",
    "        # initial parameter values used in optim function\n",
    "        options(warn=-1)\n",
    "        for (current_epicurve in unique(df$epicurve)[ifelse(J==1,1,2):length(unique(df$epicurve))]) { \n",
    "            message(current_epicurve)\n",
    "\n",
    "            df %>% \n",
    "                filter(epicurve==current_epicurve) %>% \n",
    "                select(-epicurve) -> df_current\n",
    "\n",
    "            Df = data.frame(day=0:(unclass(as.Date('2018'%&%current_epicurve,\"%Y%b%d\"))-unclass(dayZero)))\n",
    "\n",
    "            df_current %>% \n",
    "                filter(day_onset>0) %>% #removing index case\n",
    "                group_by(day_onset) %>%\n",
    "                count %>%\n",
    "                rename(day=day_onset) %>%\n",
    "                right_join(Df,by=\"day\") %>%\n",
    "                mutate(n=ifelse(is.na(n),0,n)) %>%\n",
    "                rename(i=n) -> Df\n",
    "\n",
    "            df_current %>%\n",
    "                filter(day_onset>0) %>% #removing index case\n",
    "                group_by(day_confirmation) %>%\n",
    "                count %>%\n",
    "                rename(day=day_confirmation) %>%\n",
    "                right_join(Df,by=\"day\") %>%\n",
    "                mutate(n=ifelse(is.na(n),0,n)) %>%\n",
    "                rename(c=n) %>%\n",
    "                select(day,i,c) %>%\n",
    "                arrange(day) -> Df\n",
    "\n",
    "            Df %>% mutate(date=day+dayZero) %>%\n",
    "                select(date,day) %>% rename(onset=date) %>% right_join(df_current,by=\"onset\") -> df_current\n",
    "\n",
    "            foreach(\n",
    "                tau0=1:max(Df$day),\n",
    "                .inorder=FALSE,\n",
    "                .combine=rbind\n",
    "            ) %dopar% {\n",
    "                # we require that there would be at least two cases present in each subgroup day<tau0 and day>=tau0\n",
    "                # to estimate the delay function\n",
    "                if (nrow(df_current[df_current$day<tau0,])>1 & nrow(df_current[df_current$day>=tau0,])>1) {\n",
    "                    tryCatch({\n",
    "                        sol = optim(pars,\n",
    "                                    function(x) calculate_generations(length(pars)-2,x,tau0,FALSE),\n",
    "                                    method=\"L-BFGS-B\",\n",
    "                                    control=list(fnscale=-1),lower=rep(0,length(pars)))\n",
    "\n",
    "                    }, error=function(cond){print(cond)})\n",
    "                    data.frame(tau=tau0,loglk=sol$value) \n",
    "                }\n",
    "            } -> output\n",
    "\n",
    "            tauOptim = output[output$loglk==min(output$loglk),]$tau\n",
    "            solMLE = optim(pars,\n",
    "                        function(x) calculate_generations(length(pars)-2,x,tauOptim,FALSE),\n",
    "                        method=\"L-BFGS-B\",\n",
    "                        control=list(fnscale=-1),lower=rep(0,length(pars)))      \n",
    "\n",
    "            # Weibull distribution mean and variance\n",
    "            pars_h = NULL\n",
    "            for (j in c(1,0)) {\n",
    "                parsH = solMLE$par[(length(pars)-1):length(pars)-2*j]\n",
    "                pars_h = c(pars_h,parsH[2]*gamma(1+1/parsH[1]),parsH[2]^2*(gamma(1+2/parsH[1])-(gamma(1+1/parsH[1]))^2))\n",
    "            }\n",
    "\n",
    "            # Maximum likelihood estimates (MLE)\n",
    "            calculate_generations(length(pars)-2,solMLE$par,tauOptim,prediction=TRUE) %>% \n",
    "                rename(`MLE_i`=`lambda_i`,`MLE_c`=`lambda_c`) -> dfMLE\n",
    "\n",
    "            # RMSE\n",
    "            calculate_generations(length(pars)-2,solMLE$par,tauOptim,prediction=TRUE) %>%\n",
    "                na.omit %>%\n",
    "                mutate(epsilon_i = (lambda_i-i), epsilon_c = (lambda_c-c)) %>%\n",
    "                summarize(rmse_i = sqrt(sum(epsilon_i^2)/n()),rmse_c = sqrt(sum(epsilon_c^2)/n())) %>% as.numeric -> rmse\n",
    "\n",
    "            npars = length(pars)\n",
    "            output = data.frame(t(c(tauOptim,format(tauOptim+dayZero,\"%b%d\"),pars_h,solMLE$par[(length(pars)-3):length(pars)],\n",
    "                                    Klast,solMLE$par[1:(length(pars)-4)],solMLE$value,2*(npars+2-solMLE$value),rmse))) #npars+2, additional two is due to tau and K\n",
    "            colnames(output) = c(\"tau\",\"tauDate\",\"mean_h1\",\"var_h1\",\"mean_h2\",\"var_h2\",\"par1_h1\",\"par2_h1\",\"par1_h2\",\"par2_h2\",\n",
    "                                 \"K\",c(\"R\"%&%(2:(J+1))),\"loglk\",\"AIC\",\"rmse_i\",\"rmse_c\")\n",
    "\n",
    "            final_pars %<>% rbind(output %>% gather(parameter,estimate) %>% mutate(epicurve=current_epicurve,generations=length(pars)-2))\n",
    "        }\n",
    "\n",
    "#         final_pars %>%\n",
    "#             write.table(file=final_pars_output, sep=\",\", col.names=T, append = T, quote = F, row.names = F)\n",
    "    }\n",
    "}\n",
    "\n",
    "message(\"Done\")"
   ]
  },
  {
   "cell_type": "code",
   "execution_count": 615,
   "metadata": {},
   "outputs": [
    {
     "data": {
      "text/html": [
       "<table>\n",
       "<thead><tr><th scope=col>epicurve</th><th scope=col>generations</th><th scope=col>switches</th><th scope=col>tau</th><th scope=col>tauDate</th><th scope=col>AIC</th><th scope=col>loglk</th><th scope=col>K</th><th scope=col>mean_h1</th><th scope=col>mean_h2</th><th scope=col>⋯</th><th scope=col>par2_h1</th><th scope=col>par2_h2</th><th scope=col>R2</th><th scope=col>R3</th><th scope=col>R4</th><th scope=col>R5</th><th scope=col>rmse_c</th><th scope=col>rmse_i</th><th scope=col>var_h1</th><th scope=col>var_h2</th></tr></thead>\n",
       "<tbody>\n",
       "\t<tr><td>Apr01            </td><td>2                </td><td>1                </td><td>11               </td><td>Mar28            </td><td> 81.36847        </td><td>-34.684237256966 </td><td>25.7214952411322 </td><td>4.39261974206625 </td><td>15.8632955671376 </td><td>⋯                </td><td>4.89751372380707 </td><td>12.1724916006851 </td><td>NA               </td><td>NA               </td><td>NA               </td><td>NA               </td><td>1.32605375975963 </td><td>1.04623327906771 </td><td>2.15723612019564 </td><td>576.28916521169  </td></tr>\n",
       "\t<tr><td>Apr09            </td><td>3                </td><td>1                </td><td>11               </td><td>Mar28            </td><td>207.33255        </td><td>-96.6662748386242</td><td>60.2895795114935 </td><td>4.85770704953967 </td><td>3.69625810354917 </td><td>⋯                </td><td>5.45810190607804 </td><td>4.17313909916096 </td><td>0.938204013050874</td><td>NA               </td><td>NA               </td><td>NA               </td><td>1.65257582384111 </td><td>1.37108865315557 </td><td>3.61429234113563 </td><td>3.45079785938826 </td></tr>\n",
       "\t<tr><td>Apr17            </td><td>3                </td><td>1                </td><td>24               </td><td>Apr10            </td><td>349.97873        </td><td>-167.989362695309</td><td>74.8567474055801 </td><td>4.12754035190309 </td><td>3.83864567289574 </td><td>⋯                </td><td>4.65235547933193 </td><td>4.31954174900719 </td><td>1.52056513218552 </td><td>NA               </td><td>NA               </td><td>NA               </td><td>1.63698491106471 </td><td>1.39295753538536 </td><td>3.13768164668648 </td><td>2.44055852699261 </td></tr>\n",
       "\t<tr><td>Apr25            </td><td>4                </td><td>1                </td><td>24               </td><td>Apr10            </td><td>453.49034        </td><td>-218.745170913519</td><td>96.7004494668245 </td><td>4.13061282591808 </td><td>3.88698188292152 </td><td>⋯                </td><td>4.65601824147714 </td><td>4.37606300877655 </td><td>1.34497323550277 </td><td>0.682766793769655</td><td>NA               </td><td>NA               </td><td>1.68248531252477 </td><td>1.41902009832542 </td><td>3.15243377995387 </td><td>2.57420036679525 </td></tr>\n",
       "\t<tr><td>May03            </td><td>5                </td><td>1                </td><td>18               </td><td>Apr04            </td><td>604.58221        </td><td>-293.291105873806</td><td>142.58193932563  </td><td>4.22840976750387 </td><td>4.32212576080639 </td><td>⋯                </td><td>4.77400308065313 </td><td>4.88042735000877 </td><td>1.35127312524472 </td><td>0.762184264216391</td><td>1.33299932786755 </td><td>NA               </td><td>1.90872521902767 </td><td>1.59169160602257 </td><td>3.97017104257187 </td><td>4.44497592287493 </td></tr>\n",
       "\t<tr><td>May11            </td><td>5                </td><td>1                </td><td>46               </td><td>May02            </td><td>708.88241        </td><td>-345.441204439372</td><td>125.096302856719 </td><td>4.49644882836824 </td><td>4.30953027749635 </td><td>⋯                </td><td>5.07285007468628 </td><td>4.83674846685538 </td><td>1.33156063772753 </td><td>0.859395020126123</td><td>0.602897811877632</td><td>NA               </td><td>1.78607827145316 </td><td>1.37341945956787 </td><td>5.61110745255885 </td><td>6.54440633904988 </td></tr>\n",
       "\t<tr><td>May17            </td><td>5                </td><td>1                </td><td>45               </td><td>May01            </td><td>746.59086        </td><td>-364.295429755597</td><td>124.330347135645 </td><td>4.51689766307128 </td><td>4.39175076023365 </td><td>⋯                </td><td>5.09139084604299 </td><td>4.92223999798765 </td><td>1.32487775309026 </td><td>0.89227757248556 </td><td>0.534189719706446</td><td>NA               </td><td>1.70295529989808 </td><td>1.26665701540375 </td><td>6.03510496184518 </td><td>7.06699281598868 </td></tr>\n",
       "\t<tr><td>May25            </td><td>5                </td><td>1                </td><td>45               </td><td>May01            </td><td>755.77219        </td><td>-368.886094207811</td><td>123.221153324218 </td><td>4.51692824690608 </td><td>4.46519189799003 </td><td>⋯                </td><td>5.09142086775798 </td><td>5.01534276539032 </td><td>1.32099997730367 </td><td>0.912124223119201</td><td>0.4770083009882  </td><td>NA               </td><td>1.60783400076436 </td><td>1.20447585744382 </td><td>6.03550451244207 </td><td>6.85730326272724 </td></tr>\n",
       "</tbody>\n",
       "</table>\n"
      ],
      "text/latex": [
       "\\begin{tabular}{r|llllllllllllllllllllll}\n",
       " epicurve & generations & switches & tau & tauDate & AIC & loglk & K & mean\\_h1 & mean\\_h2 & ⋯ & par2\\_h1 & par2\\_h2 & R2 & R3 & R4 & R5 & rmse\\_c & rmse\\_i & var\\_h1 & var\\_h2\\\\\n",
       "\\hline\n",
       "\t Apr01             & 2                 & 1                 & 11                & Mar28             &  81.36847         & -34.684237256966  & 25.7214952411322  & 4.39261974206625  & 15.8632955671376  & ⋯                 & 4.89751372380707  & 12.1724916006851  & NA                & NA                & NA                & NA                & 1.32605375975963  & 1.04623327906771  & 2.15723612019564  & 576.28916521169  \\\\\n",
       "\t Apr09             & 3                 & 1                 & 11                & Mar28             & 207.33255         & -96.6662748386242 & 60.2895795114935  & 4.85770704953967  & 3.69625810354917  & ⋯                 & 5.45810190607804  & 4.17313909916096  & 0.938204013050874 & NA                & NA                & NA                & 1.65257582384111  & 1.37108865315557  & 3.61429234113563  & 3.45079785938826 \\\\\n",
       "\t Apr17             & 3                 & 1                 & 24                & Apr10             & 349.97873         & -167.989362695309 & 74.8567474055801  & 4.12754035190309  & 3.83864567289574  & ⋯                 & 4.65235547933193  & 4.31954174900719  & 1.52056513218552  & NA                & NA                & NA                & 1.63698491106471  & 1.39295753538536  & 3.13768164668648  & 2.44055852699261 \\\\\n",
       "\t Apr25             & 4                 & 1                 & 24                & Apr10             & 453.49034         & -218.745170913519 & 96.7004494668245  & 4.13061282591808  & 3.88698188292152  & ⋯                 & 4.65601824147714  & 4.37606300877655  & 1.34497323550277  & 0.682766793769655 & NA                & NA                & 1.68248531252477  & 1.41902009832542  & 3.15243377995387  & 2.57420036679525 \\\\\n",
       "\t May03             & 5                 & 1                 & 18                & Apr04             & 604.58221         & -293.291105873806 & 142.58193932563   & 4.22840976750387  & 4.32212576080639  & ⋯                 & 4.77400308065313  & 4.88042735000877  & 1.35127312524472  & 0.762184264216391 & 1.33299932786755  & NA                & 1.90872521902767  & 1.59169160602257  & 3.97017104257187  & 4.44497592287493 \\\\\n",
       "\t May11             & 5                 & 1                 & 46                & May02             & 708.88241         & -345.441204439372 & 125.096302856719  & 4.49644882836824  & 4.30953027749635  & ⋯                 & 5.07285007468628  & 4.83674846685538  & 1.33156063772753  & 0.859395020126123 & 0.602897811877632 & NA                & 1.78607827145316  & 1.37341945956787  & 5.61110745255885  & 6.54440633904988 \\\\\n",
       "\t May17             & 5                 & 1                 & 45                & May01             & 746.59086         & -364.295429755597 & 124.330347135645  & 4.51689766307128  & 4.39175076023365  & ⋯                 & 5.09139084604299  & 4.92223999798765  & 1.32487775309026  & 0.89227757248556  & 0.534189719706446 & NA                & 1.70295529989808  & 1.26665701540375  & 6.03510496184518  & 7.06699281598868 \\\\\n",
       "\t May25             & 5                 & 1                 & 45                & May01             & 755.77219         & -368.886094207811 & 123.221153324218  & 4.51692824690608  & 4.46519189799003  & ⋯                 & 5.09142086775798  & 5.01534276539032  & 1.32099997730367  & 0.912124223119201 & 0.4770083009882   & NA                & 1.60783400076436  & 1.20447585744382  & 6.03550451244207  & 6.85730326272724 \\\\\n",
       "\\end{tabular}\n"
      ],
      "text/markdown": [
       "\n",
       "epicurve | generations | switches | tau | tauDate | AIC | loglk | K | mean_h1 | mean_h2 | ⋯ | par2_h1 | par2_h2 | R2 | R3 | R4 | R5 | rmse_c | rmse_i | var_h1 | var_h2 | \n",
       "|---|---|---|---|---|---|---|---|\n",
       "| Apr01             | 2                 | 1                 | 11                | Mar28             |  81.36847         | -34.684237256966  | 25.7214952411322  | 4.39261974206625  | 15.8632955671376  | ⋯                 | 4.89751372380707  | 12.1724916006851  | NA                | NA                | NA                | NA                | 1.32605375975963  | 1.04623327906771  | 2.15723612019564  | 576.28916521169   | \n",
       "| Apr09             | 3                 | 1                 | 11                | Mar28             | 207.33255         | -96.6662748386242 | 60.2895795114935  | 4.85770704953967  | 3.69625810354917  | ⋯                 | 5.45810190607804  | 4.17313909916096  | 0.938204013050874 | NA                | NA                | NA                | 1.65257582384111  | 1.37108865315557  | 3.61429234113563  | 3.45079785938826  | \n",
       "| Apr17             | 3                 | 1                 | 24                | Apr10             | 349.97873         | -167.989362695309 | 74.8567474055801  | 4.12754035190309  | 3.83864567289574  | ⋯                 | 4.65235547933193  | 4.31954174900719  | 1.52056513218552  | NA                | NA                | NA                | 1.63698491106471  | 1.39295753538536  | 3.13768164668648  | 2.44055852699261  | \n",
       "| Apr25             | 4                 | 1                 | 24                | Apr10             | 453.49034         | -218.745170913519 | 96.7004494668245  | 4.13061282591808  | 3.88698188292152  | ⋯                 | 4.65601824147714  | 4.37606300877655  | 1.34497323550277  | 0.682766793769655 | NA                | NA                | 1.68248531252477  | 1.41902009832542  | 3.15243377995387  | 2.57420036679525  | \n",
       "| May03             | 5                 | 1                 | 18                | Apr04             | 604.58221         | -293.291105873806 | 142.58193932563   | 4.22840976750387  | 4.32212576080639  | ⋯                 | 4.77400308065313  | 4.88042735000877  | 1.35127312524472  | 0.762184264216391 | 1.33299932786755  | NA                | 1.90872521902767  | 1.59169160602257  | 3.97017104257187  | 4.44497592287493  | \n",
       "| May11             | 5                 | 1                 | 46                | May02             | 708.88241         | -345.441204439372 | 125.096302856719  | 4.49644882836824  | 4.30953027749635  | ⋯                 | 5.07285007468628  | 4.83674846685538  | 1.33156063772753  | 0.859395020126123 | 0.602897811877632 | NA                | 1.78607827145316  | 1.37341945956787  | 5.61110745255885  | 6.54440633904988  | \n",
       "| May17             | 5                 | 1                 | 45                | May01             | 746.59086         | -364.295429755597 | 124.330347135645  | 4.51689766307128  | 4.39175076023365  | ⋯                 | 5.09139084604299  | 4.92223999798765  | 1.32487775309026  | 0.89227757248556  | 0.534189719706446 | NA                | 1.70295529989808  | 1.26665701540375  | 6.03510496184518  | 7.06699281598868  | \n",
       "| May25             | 5                 | 1                 | 45                | May01             | 755.77219         | -368.886094207811 | 123.221153324218  | 4.51692824690608  | 4.46519189799003  | ⋯                 | 5.09142086775798  | 5.01534276539032  | 1.32099997730367  | 0.912124223119201 | 0.4770083009882   | NA                | 1.60783400076436  | 1.20447585744382  | 6.03550451244207  | 6.85730326272724  | \n",
       "\n",
       "\n"
      ],
      "text/plain": [
       "  epicurve generations switches tau tauDate AIC       loglk            \n",
       "1 Apr01    2           1        11  Mar28    81.36847 -34.684237256966 \n",
       "2 Apr09    3           1        11  Mar28   207.33255 -96.6662748386242\n",
       "3 Apr17    3           1        24  Apr10   349.97873 -167.989362695309\n",
       "4 Apr25    4           1        24  Apr10   453.49034 -218.745170913519\n",
       "5 May03    5           1        18  Apr04   604.58221 -293.291105873806\n",
       "6 May11    5           1        46  May02   708.88241 -345.441204439372\n",
       "7 May17    5           1        45  May01   746.59086 -364.295429755597\n",
       "8 May25    5           1        45  May01   755.77219 -368.886094207811\n",
       "  K                mean_h1          mean_h2          ⋯ par2_h1         \n",
       "1 25.7214952411322 4.39261974206625 15.8632955671376 ⋯ 4.89751372380707\n",
       "2 60.2895795114935 4.85770704953967 3.69625810354917 ⋯ 5.45810190607804\n",
       "3 74.8567474055801 4.12754035190309 3.83864567289574 ⋯ 4.65235547933193\n",
       "4 96.7004494668245 4.13061282591808 3.88698188292152 ⋯ 4.65601824147714\n",
       "5 142.58193932563  4.22840976750387 4.32212576080639 ⋯ 4.77400308065313\n",
       "6 125.096302856719 4.49644882836824 4.30953027749635 ⋯ 5.07285007468628\n",
       "7 124.330347135645 4.51689766307128 4.39175076023365 ⋯ 5.09139084604299\n",
       "8 123.221153324218 4.51692824690608 4.46519189799003 ⋯ 5.09142086775798\n",
       "  par2_h2          R2                R3                R4                R5\n",
       "1 12.1724916006851 NA                NA                NA                NA\n",
       "2 4.17313909916096 0.938204013050874 NA                NA                NA\n",
       "3 4.31954174900719 1.52056513218552  NA                NA                NA\n",
       "4 4.37606300877655 1.34497323550277  0.682766793769655 NA                NA\n",
       "5 4.88042735000877 1.35127312524472  0.762184264216391 1.33299932786755  NA\n",
       "6 4.83674846685538 1.33156063772753  0.859395020126123 0.602897811877632 NA\n",
       "7 4.92223999798765 1.32487775309026  0.89227757248556  0.534189719706446 NA\n",
       "8 5.01534276539032 1.32099997730367  0.912124223119201 0.4770083009882   NA\n",
       "  rmse_c           rmse_i           var_h1           var_h2          \n",
       "1 1.32605375975963 1.04623327906771 2.15723612019564 576.28916521169 \n",
       "2 1.65257582384111 1.37108865315557 3.61429234113563 3.45079785938826\n",
       "3 1.63698491106471 1.39295753538536 3.13768164668648 2.44055852699261\n",
       "4 1.68248531252477 1.41902009832542 3.15243377995387 2.57420036679525\n",
       "5 1.90872521902767 1.59169160602257 3.97017104257187 4.44497592287493\n",
       "6 1.78607827145316 1.37341945956787 5.61110745255885 6.54440633904988\n",
       "7 1.70295529989808 1.26665701540375 6.03510496184518 7.06699281598868\n",
       "8 1.60783400076436 1.20447585744382 6.03550451244207 6.85730326272724"
      ]
     },
     "metadata": {},
     "output_type": "display_data"
    }
   ],
   "source": [
    "final_pars %>% spread(parameter,estimate) %>% mutate(switches=1,AIC=as.numeric(AIC)) %>% \n",
    "    group_by(epicurve) %>%\n",
    "    filter(AIC==min(AIC)) %>%\n",
    "    select(epicurve,generations,switches,tau,tauDate,AIC,loglk,everything()) -> final_pars_1\n",
    "\n",
    "final_pars_1"
   ]
  },
  {
   "cell_type": "code",
   "execution_count": 684,
   "metadata": {},
   "outputs": [
    {
     "data": {
      "text/html": [
       "<table>\n",
       "<thead><tr><th scope=col>epicurve</th><th scope=col>generations</th><th scope=col>switches</th><th scope=col>AIC</th><th scope=col>loglk</th><th scope=col>K</th><th scope=col>mean_h1</th><th scope=col>par1_h1</th><th scope=col>par2_h1</th><th scope=col>rmse_c</th><th scope=col>⋯</th><th scope=col>tau</th><th scope=col>tauDate</th><th scope=col>mean_h2</th><th scope=col>par1_h2</th><th scope=col>par2_h2</th><th scope=col>R2</th><th scope=col>R3</th><th scope=col>R4</th><th scope=col>R5</th><th scope=col>var_h2</th></tr></thead>\n",
       "<tbody>\n",
       "\t<tr><td>Apr01     </td><td>2         </td><td>0         </td><td> 80.49188 </td><td> -37.24594</td><td> 25.83603 </td><td>4.044729  </td><td>2.147092  </td><td>4.567165  </td><td>1.323245  </td><td>⋯         </td><td>NA        </td><td>NA        </td><td>NA        </td><td>NA        </td><td>NA        </td><td>NA        </td><td>NA        </td><td>NA        </td><td>NA        </td><td>NA        </td></tr>\n",
       "\t<tr><td>Apr09     </td><td>3         </td><td>0         </td><td>204.12866 </td><td> -98.06433</td><td> 68.10538 </td><td>4.061816  </td><td>2.198336  </td><td>4.586395  </td><td>1.739619  </td><td>⋯         </td><td>NA        </td><td>NA        </td><td>NA        </td><td>NA        </td><td>NA        </td><td>NA        </td><td>NA        </td><td>NA        </td><td>NA        </td><td>NA        </td></tr>\n",
       "\t<tr><td>Apr17     </td><td>3         </td><td>0         </td><td>344.41905 </td><td>-168.20953</td><td> 75.92714 </td><td>4.068596  </td><td>2.497009  </td><td>4.585688  </td><td>1.641221  </td><td>⋯         </td><td>NA        </td><td>NA        </td><td>NA        </td><td>NA        </td><td>NA        </td><td>NA        </td><td>NA        </td><td>NA        </td><td>NA        </td><td>NA        </td></tr>\n",
       "\t<tr><td>Apr25     </td><td>4         </td><td>0         </td><td>448.09032 </td><td>-219.04516</td><td> 97.71981 </td><td>4.038389  </td><td>2.510051  </td><td>4.551056  </td><td>1.686684  </td><td>⋯         </td><td>NA        </td><td>NA        </td><td>NA        </td><td>NA        </td><td>NA        </td><td>NA        </td><td>NA        </td><td>NA        </td><td>NA        </td><td>NA        </td></tr>\n",
       "\t<tr><td>May03     </td><td>5         </td><td>0         </td><td>598.70950 </td><td>-293.35475</td><td>142.08896 </td><td>4.293683  </td><td>2.176907  </td><td>4.848302  </td><td>1.909321  </td><td>⋯         </td><td>NA        </td><td>NA        </td><td>NA        </td><td>NA        </td><td>NA        </td><td>NA        </td><td>NA        </td><td>NA        </td><td>NA        </td><td>NA        </td></tr>\n",
       "\t<tr><td>May11     </td><td>5         </td><td>0         </td><td>703.15713 </td><td>-345.57857</td><td>125.57604 </td><td>4.480782  </td><td>1.959805  </td><td>5.053882  </td><td>1.786760  </td><td>⋯         </td><td>NA        </td><td>NA        </td><td>NA        </td><td>NA        </td><td>NA        </td><td>NA        </td><td>NA        </td><td>NA        </td><td>NA        </td><td>NA        </td></tr>\n",
       "\t<tr><td>May17     </td><td>5         </td><td>0         </td><td>740.86426 </td><td>-364.43213</td><td>124.34020 </td><td>4.500895  </td><td>1.889103  </td><td>5.071254  </td><td>1.703754  </td><td>⋯         </td><td>NA        </td><td>NA        </td><td>NA        </td><td>NA        </td><td>NA        </td><td>NA        </td><td>NA        </td><td>NA        </td><td>NA        </td><td>NA        </td></tr>\n",
       "\t<tr><td>May25     </td><td>5         </td><td>0         </td><td>749.90946 </td><td>-368.95473</td><td>123.21179 </td><td>4.509955  </td><td>1.896179  </td><td>5.082092  </td><td>1.608431  </td><td>⋯         </td><td>NA        </td><td>NA        </td><td>NA        </td><td>NA        </td><td>NA        </td><td>NA        </td><td>NA        </td><td>NA        </td><td>NA        </td><td>NA        </td></tr>\n",
       "</tbody>\n",
       "</table>\n"
      ],
      "text/latex": [
       "\\begin{tabular}{r|llllllllllllllllllllll}\n",
       " epicurve & generations & switches & AIC & loglk & K & mean\\_h1 & par1\\_h1 & par2\\_h1 & rmse\\_c & ⋯ & tau & tauDate & mean\\_h2 & par1\\_h2 & par2\\_h2 & R2 & R3 & R4 & R5 & var\\_h2\\\\\n",
       "\\hline\n",
       "\t Apr01      & 2          & 0          &  80.49188  &  -37.24594 &  25.83603  & 4.044729   & 2.147092   & 4.567165   & 1.323245   & ⋯          & NA         & NA         & NA         & NA         & NA         & NA         & NA         & NA         & NA         & NA        \\\\\n",
       "\t Apr09      & 3          & 0          & 204.12866  &  -98.06433 &  68.10538  & 4.061816   & 2.198336   & 4.586395   & 1.739619   & ⋯          & NA         & NA         & NA         & NA         & NA         & NA         & NA         & NA         & NA         & NA        \\\\\n",
       "\t Apr17      & 3          & 0          & 344.41905  & -168.20953 &  75.92714  & 4.068596   & 2.497009   & 4.585688   & 1.641221   & ⋯          & NA         & NA         & NA         & NA         & NA         & NA         & NA         & NA         & NA         & NA        \\\\\n",
       "\t Apr25      & 4          & 0          & 448.09032  & -219.04516 &  97.71981  & 4.038389   & 2.510051   & 4.551056   & 1.686684   & ⋯          & NA         & NA         & NA         & NA         & NA         & NA         & NA         & NA         & NA         & NA        \\\\\n",
       "\t May03      & 5          & 0          & 598.70950  & -293.35475 & 142.08896  & 4.293683   & 2.176907   & 4.848302   & 1.909321   & ⋯          & NA         & NA         & NA         & NA         & NA         & NA         & NA         & NA         & NA         & NA        \\\\\n",
       "\t May11      & 5          & 0          & 703.15713  & -345.57857 & 125.57604  & 4.480782   & 1.959805   & 5.053882   & 1.786760   & ⋯          & NA         & NA         & NA         & NA         & NA         & NA         & NA         & NA         & NA         & NA        \\\\\n",
       "\t May17      & 5          & 0          & 740.86426  & -364.43213 & 124.34020  & 4.500895   & 1.889103   & 5.071254   & 1.703754   & ⋯          & NA         & NA         & NA         & NA         & NA         & NA         & NA         & NA         & NA         & NA        \\\\\n",
       "\t May25      & 5          & 0          & 749.90946  & -368.95473 & 123.21179  & 4.509955   & 1.896179   & 5.082092   & 1.608431   & ⋯          & NA         & NA         & NA         & NA         & NA         & NA         & NA         & NA         & NA         & NA        \\\\\n",
       "\\end{tabular}\n"
      ],
      "text/markdown": [
       "\n",
       "epicurve | generations | switches | AIC | loglk | K | mean_h1 | par1_h1 | par2_h1 | rmse_c | ⋯ | tau | tauDate | mean_h2 | par1_h2 | par2_h2 | R2 | R3 | R4 | R5 | var_h2 | \n",
       "|---|---|---|---|---|---|---|---|\n",
       "| Apr01      | 2          | 0          |  80.49188  |  -37.24594 |  25.83603  | 4.044729   | 2.147092   | 4.567165   | 1.323245   | ⋯          | NA         | NA         | NA         | NA         | NA         | NA         | NA         | NA         | NA         | NA         | \n",
       "| Apr09      | 3          | 0          | 204.12866  |  -98.06433 |  68.10538  | 4.061816   | 2.198336   | 4.586395   | 1.739619   | ⋯          | NA         | NA         | NA         | NA         | NA         | NA         | NA         | NA         | NA         | NA         | \n",
       "| Apr17      | 3          | 0          | 344.41905  | -168.20953 |  75.92714  | 4.068596   | 2.497009   | 4.585688   | 1.641221   | ⋯          | NA         | NA         | NA         | NA         | NA         | NA         | NA         | NA         | NA         | NA         | \n",
       "| Apr25      | 4          | 0          | 448.09032  | -219.04516 |  97.71981  | 4.038389   | 2.510051   | 4.551056   | 1.686684   | ⋯          | NA         | NA         | NA         | NA         | NA         | NA         | NA         | NA         | NA         | NA         | \n",
       "| May03      | 5          | 0          | 598.70950  | -293.35475 | 142.08896  | 4.293683   | 2.176907   | 4.848302   | 1.909321   | ⋯          | NA         | NA         | NA         | NA         | NA         | NA         | NA         | NA         | NA         | NA         | \n",
       "| May11      | 5          | 0          | 703.15713  | -345.57857 | 125.57604  | 4.480782   | 1.959805   | 5.053882   | 1.786760   | ⋯          | NA         | NA         | NA         | NA         | NA         | NA         | NA         | NA         | NA         | NA         | \n",
       "| May17      | 5          | 0          | 740.86426  | -364.43213 | 124.34020  | 4.500895   | 1.889103   | 5.071254   | 1.703754   | ⋯          | NA         | NA         | NA         | NA         | NA         | NA         | NA         | NA         | NA         | NA         | \n",
       "| May25      | 5          | 0          | 749.90946  | -368.95473 | 123.21179  | 4.509955   | 1.896179   | 5.082092   | 1.608431   | ⋯          | NA         | NA         | NA         | NA         | NA         | NA         | NA         | NA         | NA         | NA         | \n",
       "\n",
       "\n"
      ],
      "text/plain": [
       "  epicurve generations switches AIC       loglk      K         mean_h1 \n",
       "1 Apr01    2           0         80.49188  -37.24594  25.83603 4.044729\n",
       "2 Apr09    3           0        204.12866  -98.06433  68.10538 4.061816\n",
       "3 Apr17    3           0        344.41905 -168.20953  75.92714 4.068596\n",
       "4 Apr25    4           0        448.09032 -219.04516  97.71981 4.038389\n",
       "5 May03    5           0        598.70950 -293.35475 142.08896 4.293683\n",
       "6 May11    5           0        703.15713 -345.57857 125.57604 4.480782\n",
       "7 May17    5           0        740.86426 -364.43213 124.34020 4.500895\n",
       "8 May25    5           0        749.90946 -368.95473 123.21179 4.509955\n",
       "  par1_h1  par2_h1  rmse_c   ⋯ tau tauDate mean_h2 par1_h2 par2_h2 R2 R3 R4 R5\n",
       "1 2.147092 4.567165 1.323245 ⋯ NA  NA      NA      NA      NA      NA NA NA NA\n",
       "2 2.198336 4.586395 1.739619 ⋯ NA  NA      NA      NA      NA      NA NA NA NA\n",
       "3 2.497009 4.585688 1.641221 ⋯ NA  NA      NA      NA      NA      NA NA NA NA\n",
       "4 2.510051 4.551056 1.686684 ⋯ NA  NA      NA      NA      NA      NA NA NA NA\n",
       "5 2.176907 4.848302 1.909321 ⋯ NA  NA      NA      NA      NA      NA NA NA NA\n",
       "6 1.959805 5.053882 1.786760 ⋯ NA  NA      NA      NA      NA      NA NA NA NA\n",
       "7 1.889103 5.071254 1.703754 ⋯ NA  NA      NA      NA      NA      NA NA NA NA\n",
       "8 1.896179 5.082092 1.608431 ⋯ NA  NA      NA      NA      NA      NA NA NA NA\n",
       "  var_h2\n",
       "1 NA    \n",
       "2 NA    \n",
       "3 NA    \n",
       "4 NA    \n",
       "5 NA    \n",
       "6 NA    \n",
       "7 NA    \n",
       "8 NA    "
      ]
     },
     "metadata": {},
     "output_type": "display_data"
    }
   ],
   "source": [
    "rbind(\n",
    "    final_pars_0 %>% mutate_all(funs(as.numeric(.))),\n",
    "    final_pars_1 %>% mutate_all(funs(as.numeric(.)))) %>%\n",
    "    group_by(epicurve) %>%\n",
    "    filter(AIC==min(AIC)) %>%\n",
    "    arrange(epicurve)"
   ]
  },
  {
   "cell_type": "code",
   "execution_count": 707,
   "metadata": {},
   "outputs": [
    {
     "data": {
      "text/html": [
       "<table>\n",
       "<thead><tr><th scope=col>epicurve</th><th scope=col>generations</th><th scope=col>switches</th><th scope=col>tau</th><th scope=col>tauDate</th><th scope=col>AIC</th><th scope=col>loglk</th><th scope=col>K</th><th scope=col>mean_h1</th><th scope=col>mean_h2</th><th scope=col>⋯</th><th scope=col>par2_h1</th><th scope=col>par2_h2</th><th scope=col>R2</th><th scope=col>R3</th><th scope=col>R4</th><th scope=col>R5</th><th scope=col>rmse_c</th><th scope=col>rmse_i</th><th scope=col>var_h1</th><th scope=col>var_h2</th></tr></thead>\n",
       "<tbody>\n",
       "\t<tr><td>Apr01            </td><td>2                </td><td>1                </td><td>11               </td><td>Mar28            </td><td> 81.36847        </td><td>-34.684237256966 </td><td>25.7214952411322 </td><td>4.39261974206625 </td><td>15.8632955671376 </td><td>⋯                </td><td>4.89751372380707 </td><td>12.1724916006851 </td><td>NA               </td><td>NA               </td><td>NA               </td><td>NA               </td><td>1.32605375975963 </td><td>1.04623327906771 </td><td>2.15723612019564 </td><td>576.28916521169  </td></tr>\n",
       "\t<tr><td>Apr09            </td><td>3                </td><td>1                </td><td>11               </td><td>Mar28            </td><td>207.33255        </td><td>-96.6662748386242</td><td>60.2895795114935 </td><td>4.85770704953967 </td><td>3.69625810354917 </td><td>⋯                </td><td>5.45810190607804 </td><td>4.17313909916096 </td><td>0.938204013050874</td><td>NA               </td><td>NA               </td><td>NA               </td><td>1.65257582384111 </td><td>1.37108865315557 </td><td>3.61429234113563 </td><td>3.45079785938826 </td></tr>\n",
       "\t<tr><td>Apr17            </td><td>3                </td><td>1                </td><td>24               </td><td>Apr10            </td><td>349.97873        </td><td>-167.989362695309</td><td>74.8567474055801 </td><td>4.12754035190309 </td><td>3.83864567289574 </td><td>⋯                </td><td>4.65235547933193 </td><td>4.31954174900719 </td><td>1.52056513218552 </td><td>NA               </td><td>NA               </td><td>NA               </td><td>1.63698491106471 </td><td>1.39295753538536 </td><td>3.13768164668648 </td><td>2.44055852699261 </td></tr>\n",
       "\t<tr><td>Apr25            </td><td>4                </td><td>1                </td><td>24               </td><td>Apr10            </td><td>453.49034        </td><td>-218.745170913519</td><td>96.7004494668245 </td><td>4.13061282591808 </td><td>3.88698188292152 </td><td>⋯                </td><td>4.65601824147714 </td><td>4.37606300877655 </td><td>1.34497323550277 </td><td>0.682766793769655</td><td>NA               </td><td>NA               </td><td>1.68248531252477 </td><td>1.41902009832542 </td><td>3.15243377995387 </td><td>2.57420036679525 </td></tr>\n",
       "\t<tr><td>May03            </td><td>5                </td><td>1                </td><td>18               </td><td>Apr04            </td><td>604.58221        </td><td>-293.291105873806</td><td>142.58193932563  </td><td>4.22840976750387 </td><td>4.32212576080639 </td><td>⋯                </td><td>4.77400308065313 </td><td>4.88042735000877 </td><td>1.35127312524472 </td><td>0.762184264216391</td><td>1.33299932786755 </td><td>NA               </td><td>1.90872521902767 </td><td>1.59169160602257 </td><td>3.97017104257187 </td><td>4.44497592287493 </td></tr>\n",
       "\t<tr><td>May11            </td><td>5                </td><td>1                </td><td>46               </td><td>May02            </td><td>708.88241        </td><td>-345.441204439372</td><td>125.096302856719 </td><td>4.49644882836824 </td><td>4.30953027749635 </td><td>⋯                </td><td>5.07285007468628 </td><td>4.83674846685538 </td><td>1.33156063772753 </td><td>0.859395020126123</td><td>0.602897811877632</td><td>NA               </td><td>1.78607827145316 </td><td>1.37341945956787 </td><td>5.61110745255885 </td><td>6.54440633904988 </td></tr>\n",
       "\t<tr><td>May17            </td><td>5                </td><td>1                </td><td>45               </td><td>May01            </td><td>746.59086        </td><td>-364.295429755597</td><td>124.330347135645 </td><td>4.51689766307128 </td><td>4.39175076023365 </td><td>⋯                </td><td>5.09139084604299 </td><td>4.92223999798765 </td><td>1.32487775309026 </td><td>0.89227757248556 </td><td>0.534189719706446</td><td>NA               </td><td>1.70295529989808 </td><td>1.26665701540375 </td><td>6.03510496184518 </td><td>7.06699281598868 </td></tr>\n",
       "\t<tr><td>May25            </td><td>5                </td><td>1                </td><td>45               </td><td>May01            </td><td>755.77219        </td><td>-368.886094207811</td><td>123.221153324218 </td><td>4.51692824690608 </td><td>4.46519189799003 </td><td>⋯                </td><td>5.09142086775798 </td><td>5.01534276539032 </td><td>1.32099997730367 </td><td>0.912124223119201</td><td>0.4770083009882  </td><td>NA               </td><td>1.60783400076436 </td><td>1.20447585744382 </td><td>6.03550451244207 </td><td>6.85730326272724 </td></tr>\n",
       "</tbody>\n",
       "</table>\n"
      ],
      "text/latex": [
       "\\begin{tabular}{r|llllllllllllllllllllll}\n",
       " epicurve & generations & switches & tau & tauDate & AIC & loglk & K & mean\\_h1 & mean\\_h2 & ⋯ & par2\\_h1 & par2\\_h2 & R2 & R3 & R4 & R5 & rmse\\_c & rmse\\_i & var\\_h1 & var\\_h2\\\\\n",
       "\\hline\n",
       "\t Apr01             & 2                 & 1                 & 11                & Mar28             &  81.36847         & -34.684237256966  & 25.7214952411322  & 4.39261974206625  & 15.8632955671376  & ⋯                 & 4.89751372380707  & 12.1724916006851  & NA                & NA                & NA                & NA                & 1.32605375975963  & 1.04623327906771  & 2.15723612019564  & 576.28916521169  \\\\\n",
       "\t Apr09             & 3                 & 1                 & 11                & Mar28             & 207.33255         & -96.6662748386242 & 60.2895795114935  & 4.85770704953967  & 3.69625810354917  & ⋯                 & 5.45810190607804  & 4.17313909916096  & 0.938204013050874 & NA                & NA                & NA                & 1.65257582384111  & 1.37108865315557  & 3.61429234113563  & 3.45079785938826 \\\\\n",
       "\t Apr17             & 3                 & 1                 & 24                & Apr10             & 349.97873         & -167.989362695309 & 74.8567474055801  & 4.12754035190309  & 3.83864567289574  & ⋯                 & 4.65235547933193  & 4.31954174900719  & 1.52056513218552  & NA                & NA                & NA                & 1.63698491106471  & 1.39295753538536  & 3.13768164668648  & 2.44055852699261 \\\\\n",
       "\t Apr25             & 4                 & 1                 & 24                & Apr10             & 453.49034         & -218.745170913519 & 96.7004494668245  & 4.13061282591808  & 3.88698188292152  & ⋯                 & 4.65601824147714  & 4.37606300877655  & 1.34497323550277  & 0.682766793769655 & NA                & NA                & 1.68248531252477  & 1.41902009832542  & 3.15243377995387  & 2.57420036679525 \\\\\n",
       "\t May03             & 5                 & 1                 & 18                & Apr04             & 604.58221         & -293.291105873806 & 142.58193932563   & 4.22840976750387  & 4.32212576080639  & ⋯                 & 4.77400308065313  & 4.88042735000877  & 1.35127312524472  & 0.762184264216391 & 1.33299932786755  & NA                & 1.90872521902767  & 1.59169160602257  & 3.97017104257187  & 4.44497592287493 \\\\\n",
       "\t May11             & 5                 & 1                 & 46                & May02             & 708.88241         & -345.441204439372 & 125.096302856719  & 4.49644882836824  & 4.30953027749635  & ⋯                 & 5.07285007468628  & 4.83674846685538  & 1.33156063772753  & 0.859395020126123 & 0.602897811877632 & NA                & 1.78607827145316  & 1.37341945956787  & 5.61110745255885  & 6.54440633904988 \\\\\n",
       "\t May17             & 5                 & 1                 & 45                & May01             & 746.59086         & -364.295429755597 & 124.330347135645  & 4.51689766307128  & 4.39175076023365  & ⋯                 & 5.09139084604299  & 4.92223999798765  & 1.32487775309026  & 0.89227757248556  & 0.534189719706446 & NA                & 1.70295529989808  & 1.26665701540375  & 6.03510496184518  & 7.06699281598868 \\\\\n",
       "\t May25             & 5                 & 1                 & 45                & May01             & 755.77219         & -368.886094207811 & 123.221153324218  & 4.51692824690608  & 4.46519189799003  & ⋯                 & 5.09142086775798  & 5.01534276539032  & 1.32099997730367  & 0.912124223119201 & 0.4770083009882   & NA                & 1.60783400076436  & 1.20447585744382  & 6.03550451244207  & 6.85730326272724 \\\\\n",
       "\\end{tabular}\n"
      ],
      "text/markdown": [
       "\n",
       "epicurve | generations | switches | tau | tauDate | AIC | loglk | K | mean_h1 | mean_h2 | ⋯ | par2_h1 | par2_h2 | R2 | R3 | R4 | R5 | rmse_c | rmse_i | var_h1 | var_h2 | \n",
       "|---|---|---|---|---|---|---|---|\n",
       "| Apr01             | 2                 | 1                 | 11                | Mar28             |  81.36847         | -34.684237256966  | 25.7214952411322  | 4.39261974206625  | 15.8632955671376  | ⋯                 | 4.89751372380707  | 12.1724916006851  | NA                | NA                | NA                | NA                | 1.32605375975963  | 1.04623327906771  | 2.15723612019564  | 576.28916521169   | \n",
       "| Apr09             | 3                 | 1                 | 11                | Mar28             | 207.33255         | -96.6662748386242 | 60.2895795114935  | 4.85770704953967  | 3.69625810354917  | ⋯                 | 5.45810190607804  | 4.17313909916096  | 0.938204013050874 | NA                | NA                | NA                | 1.65257582384111  | 1.37108865315557  | 3.61429234113563  | 3.45079785938826  | \n",
       "| Apr17             | 3                 | 1                 | 24                | Apr10             | 349.97873         | -167.989362695309 | 74.8567474055801  | 4.12754035190309  | 3.83864567289574  | ⋯                 | 4.65235547933193  | 4.31954174900719  | 1.52056513218552  | NA                | NA                | NA                | 1.63698491106471  | 1.39295753538536  | 3.13768164668648  | 2.44055852699261  | \n",
       "| Apr25             | 4                 | 1                 | 24                | Apr10             | 453.49034         | -218.745170913519 | 96.7004494668245  | 4.13061282591808  | 3.88698188292152  | ⋯                 | 4.65601824147714  | 4.37606300877655  | 1.34497323550277  | 0.682766793769655 | NA                | NA                | 1.68248531252477  | 1.41902009832542  | 3.15243377995387  | 2.57420036679525  | \n",
       "| May03             | 5                 | 1                 | 18                | Apr04             | 604.58221         | -293.291105873806 | 142.58193932563   | 4.22840976750387  | 4.32212576080639  | ⋯                 | 4.77400308065313  | 4.88042735000877  | 1.35127312524472  | 0.762184264216391 | 1.33299932786755  | NA                | 1.90872521902767  | 1.59169160602257  | 3.97017104257187  | 4.44497592287493  | \n",
       "| May11             | 5                 | 1                 | 46                | May02             | 708.88241         | -345.441204439372 | 125.096302856719  | 4.49644882836824  | 4.30953027749635  | ⋯                 | 5.07285007468628  | 4.83674846685538  | 1.33156063772753  | 0.859395020126123 | 0.602897811877632 | NA                | 1.78607827145316  | 1.37341945956787  | 5.61110745255885  | 6.54440633904988  | \n",
       "| May17             | 5                 | 1                 | 45                | May01             | 746.59086         | -364.295429755597 | 124.330347135645  | 4.51689766307128  | 4.39175076023365  | ⋯                 | 5.09139084604299  | 4.92223999798765  | 1.32487775309026  | 0.89227757248556  | 0.534189719706446 | NA                | 1.70295529989808  | 1.26665701540375  | 6.03510496184518  | 7.06699281598868  | \n",
       "| May25             | 5                 | 1                 | 45                | May01             | 755.77219         | -368.886094207811 | 123.221153324218  | 4.51692824690608  | 4.46519189799003  | ⋯                 | 5.09142086775798  | 5.01534276539032  | 1.32099997730367  | 0.912124223119201 | 0.4770083009882   | NA                | 1.60783400076436  | 1.20447585744382  | 6.03550451244207  | 6.85730326272724  | \n",
       "\n",
       "\n"
      ],
      "text/plain": [
       "  epicurve generations switches tau tauDate AIC       loglk            \n",
       "1 Apr01    2           1        11  Mar28    81.36847 -34.684237256966 \n",
       "2 Apr09    3           1        11  Mar28   207.33255 -96.6662748386242\n",
       "3 Apr17    3           1        24  Apr10   349.97873 -167.989362695309\n",
       "4 Apr25    4           1        24  Apr10   453.49034 -218.745170913519\n",
       "5 May03    5           1        18  Apr04   604.58221 -293.291105873806\n",
       "6 May11    5           1        46  May02   708.88241 -345.441204439372\n",
       "7 May17    5           1        45  May01   746.59086 -364.295429755597\n",
       "8 May25    5           1        45  May01   755.77219 -368.886094207811\n",
       "  K                mean_h1          mean_h2          ⋯ par2_h1         \n",
       "1 25.7214952411322 4.39261974206625 15.8632955671376 ⋯ 4.89751372380707\n",
       "2 60.2895795114935 4.85770704953967 3.69625810354917 ⋯ 5.45810190607804\n",
       "3 74.8567474055801 4.12754035190309 3.83864567289574 ⋯ 4.65235547933193\n",
       "4 96.7004494668245 4.13061282591808 3.88698188292152 ⋯ 4.65601824147714\n",
       "5 142.58193932563  4.22840976750387 4.32212576080639 ⋯ 4.77400308065313\n",
       "6 125.096302856719 4.49644882836824 4.30953027749635 ⋯ 5.07285007468628\n",
       "7 124.330347135645 4.51689766307128 4.39175076023365 ⋯ 5.09139084604299\n",
       "8 123.221153324218 4.51692824690608 4.46519189799003 ⋯ 5.09142086775798\n",
       "  par2_h2          R2                R3                R4                R5\n",
       "1 12.1724916006851 NA                NA                NA                NA\n",
       "2 4.17313909916096 0.938204013050874 NA                NA                NA\n",
       "3 4.31954174900719 1.52056513218552  NA                NA                NA\n",
       "4 4.37606300877655 1.34497323550277  0.682766793769655 NA                NA\n",
       "5 4.88042735000877 1.35127312524472  0.762184264216391 1.33299932786755  NA\n",
       "6 4.83674846685538 1.33156063772753  0.859395020126123 0.602897811877632 NA\n",
       "7 4.92223999798765 1.32487775309026  0.89227757248556  0.534189719706446 NA\n",
       "8 5.01534276539032 1.32099997730367  0.912124223119201 0.4770083009882   NA\n",
       "  rmse_c           rmse_i           var_h1           var_h2          \n",
       "1 1.32605375975963 1.04623327906771 2.15723612019564 576.28916521169 \n",
       "2 1.65257582384111 1.37108865315557 3.61429234113563 3.45079785938826\n",
       "3 1.63698491106471 1.39295753538536 3.13768164668648 2.44055852699261\n",
       "4 1.68248531252477 1.41902009832542 3.15243377995387 2.57420036679525\n",
       "5 1.90872521902767 1.59169160602257 3.97017104257187 4.44497592287493\n",
       "6 1.78607827145316 1.37341945956787 5.61110745255885 6.54440633904988\n",
       "7 1.70295529989808 1.26665701540375 6.03510496184518 7.06699281598868\n",
       "8 1.60783400076436 1.20447585744382 6.03550451244207 6.85730326272724"
      ]
     },
     "metadata": {},
     "output_type": "display_data"
    }
   ],
   "source": [
    "final_pars_1"
   ]
  },
  {
   "cell_type": "code",
   "execution_count": 721,
   "metadata": {},
   "outputs": [
    {
     "data": {
      "text/html": [
       "<table class=\"table table-hover\" style=\"width: auto !important; margin-left: auto; margin-right: auto;\">\n",
       " <thead>\n",
       "  <tr>\n",
       "   <th style=\"text-align:left;\"> epicurve </th>\n",
       "   <th style=\"text-align:right;\"> generations </th>\n",
       "   <th style=\"text-align:left;\"> tauDate </th>\n",
       "   <th style=\"text-align:left;\"> mean h1t </th>\n",
       "   <th style=\"text-align:left;\"> var h1t </th>\n",
       "   <th style=\"text-align:left;\"> mean h2t </th>\n",
       "   <th style=\"text-align:left;\"> var h2t </th>\n",
       "   <th style=\"text-align:left;\"> K </th>\n",
       "   <th style=\"text-align:left;\"> R2 </th>\n",
       "   <th style=\"text-align:left;\"> R3 </th>\n",
       "   <th style=\"text-align:left;\"> R4 </th>\n",
       "   <th style=\"text-align:left;\"> R5 </th>\n",
       "   <th style=\"text-align:left;\"> negloglk </th>\n",
       "   <th style=\"text-align:left;\"> AIC </th>\n",
       "  </tr>\n",
       " </thead>\n",
       "<tbody>\n",
       "  <tr>\n",
       "   <td style=\"text-align:left;\"> Apr01 </td>\n",
       "   <td style=\"text-align:right;\"> 2 </td>\n",
       "   <td style=\"text-align:left;\"> Mar28 </td>\n",
       "   <td style=\"text-align:left;\"> 4.39 </td>\n",
       "   <td style=\"text-align:left;\"> 2.16 </td>\n",
       "   <td style=\"text-align:left;\"> 15.86 </td>\n",
       "   <td style=\"text-align:left;\"> 576.29 </td>\n",
       "   <td style=\"text-align:left;\"> 25.7 </td>\n",
       "   <td style=\"text-align:left;\">  </td>\n",
       "   <td style=\"text-align:left;\">  </td>\n",
       "   <td style=\"text-align:left;\">  </td>\n",
       "   <td style=\"text-align:left;\">  </td>\n",
       "   <td style=\"text-align:left;\"> 34.7 </td>\n",
       "   <td style=\"text-align:left;\"> 81.4 </td>\n",
       "  </tr>\n",
       "  <tr>\n",
       "   <td style=\"text-align:left;\"> Apr09 </td>\n",
       "   <td style=\"text-align:right;\"> 3 </td>\n",
       "   <td style=\"text-align:left;\"> Mar28 </td>\n",
       "   <td style=\"text-align:left;\"> 4.86 </td>\n",
       "   <td style=\"text-align:left;\"> 3.61 </td>\n",
       "   <td style=\"text-align:left;\"> 3.70 </td>\n",
       "   <td style=\"text-align:left;\"> 3.45 </td>\n",
       "   <td style=\"text-align:left;\"> 60.3 </td>\n",
       "   <td style=\"text-align:left;\"> 0.94 </td>\n",
       "   <td style=\"text-align:left;\">  </td>\n",
       "   <td style=\"text-align:left;\">  </td>\n",
       "   <td style=\"text-align:left;\">  </td>\n",
       "   <td style=\"text-align:left;\"> 96.7 </td>\n",
       "   <td style=\"text-align:left;\"> 207.3 </td>\n",
       "  </tr>\n",
       "  <tr>\n",
       "   <td style=\"text-align:left;\"> Apr17 </td>\n",
       "   <td style=\"text-align:right;\"> 3 </td>\n",
       "   <td style=\"text-align:left;\"> Apr10 </td>\n",
       "   <td style=\"text-align:left;\"> 4.13 </td>\n",
       "   <td style=\"text-align:left;\"> 3.14 </td>\n",
       "   <td style=\"text-align:left;\"> 3.84 </td>\n",
       "   <td style=\"text-align:left;\"> 2.44 </td>\n",
       "   <td style=\"text-align:left;\"> 74.9 </td>\n",
       "   <td style=\"text-align:left;\"> 1.52 </td>\n",
       "   <td style=\"text-align:left;\">  </td>\n",
       "   <td style=\"text-align:left;\">  </td>\n",
       "   <td style=\"text-align:left;\">  </td>\n",
       "   <td style=\"text-align:left;\"> 168.0 </td>\n",
       "   <td style=\"text-align:left;\"> 350.0 </td>\n",
       "  </tr>\n",
       "  <tr>\n",
       "   <td style=\"text-align:left;\"> Apr25 </td>\n",
       "   <td style=\"text-align:right;\"> 4 </td>\n",
       "   <td style=\"text-align:left;\"> Apr10 </td>\n",
       "   <td style=\"text-align:left;\"> 4.13 </td>\n",
       "   <td style=\"text-align:left;\"> 3.15 </td>\n",
       "   <td style=\"text-align:left;\"> 3.89 </td>\n",
       "   <td style=\"text-align:left;\"> 2.57 </td>\n",
       "   <td style=\"text-align:left;\"> 96.7 </td>\n",
       "   <td style=\"text-align:left;\"> 1.34 </td>\n",
       "   <td style=\"text-align:left;\"> 0.68 </td>\n",
       "   <td style=\"text-align:left;\">  </td>\n",
       "   <td style=\"text-align:left;\">  </td>\n",
       "   <td style=\"text-align:left;\"> 218.7 </td>\n",
       "   <td style=\"text-align:left;\"> 453.5 </td>\n",
       "  </tr>\n",
       "  <tr>\n",
       "   <td style=\"text-align:left;\"> May03 </td>\n",
       "   <td style=\"text-align:right;\"> 5 </td>\n",
       "   <td style=\"text-align:left;\"> Apr04 </td>\n",
       "   <td style=\"text-align:left;\"> 4.23 </td>\n",
       "   <td style=\"text-align:left;\"> 3.97 </td>\n",
       "   <td style=\"text-align:left;\"> 4.32 </td>\n",
       "   <td style=\"text-align:left;\"> 4.44 </td>\n",
       "   <td style=\"text-align:left;\"> 142.6 </td>\n",
       "   <td style=\"text-align:left;\"> 1.35 </td>\n",
       "   <td style=\"text-align:left;\"> 0.76 </td>\n",
       "   <td style=\"text-align:left;\"> 1.33 </td>\n",
       "   <td style=\"text-align:left;\">  </td>\n",
       "   <td style=\"text-align:left;\"> 293.3 </td>\n",
       "   <td style=\"text-align:left;\"> 604.6 </td>\n",
       "  </tr>\n",
       "  <tr>\n",
       "   <td style=\"text-align:left;\"> May11 </td>\n",
       "   <td style=\"text-align:right;\"> 5 </td>\n",
       "   <td style=\"text-align:left;\"> May02 </td>\n",
       "   <td style=\"text-align:left;\"> 4.50 </td>\n",
       "   <td style=\"text-align:left;\"> 5.61 </td>\n",
       "   <td style=\"text-align:left;\"> 4.31 </td>\n",
       "   <td style=\"text-align:left;\"> 6.54 </td>\n",
       "   <td style=\"text-align:left;\"> 125.1 </td>\n",
       "   <td style=\"text-align:left;\"> 1.33 </td>\n",
       "   <td style=\"text-align:left;\"> 0.86 </td>\n",
       "   <td style=\"text-align:left;\"> 0.60 </td>\n",
       "   <td style=\"text-align:left;\">  </td>\n",
       "   <td style=\"text-align:left;\"> 345.4 </td>\n",
       "   <td style=\"text-align:left;\"> 708.9 </td>\n",
       "  </tr>\n",
       "  <tr>\n",
       "   <td style=\"text-align:left;\"> May17 </td>\n",
       "   <td style=\"text-align:right;\"> 5 </td>\n",
       "   <td style=\"text-align:left;\"> May01 </td>\n",
       "   <td style=\"text-align:left;\"> 4.52 </td>\n",
       "   <td style=\"text-align:left;\"> 6.04 </td>\n",
       "   <td style=\"text-align:left;\"> 4.39 </td>\n",
       "   <td style=\"text-align:left;\"> 7.07 </td>\n",
       "   <td style=\"text-align:left;\"> 124.3 </td>\n",
       "   <td style=\"text-align:left;\"> 1.32 </td>\n",
       "   <td style=\"text-align:left;\"> 0.89 </td>\n",
       "   <td style=\"text-align:left;\"> 0.53 </td>\n",
       "   <td style=\"text-align:left;\">  </td>\n",
       "   <td style=\"text-align:left;\"> 364.3 </td>\n",
       "   <td style=\"text-align:left;\"> 746.6 </td>\n",
       "  </tr>\n",
       "  <tr>\n",
       "   <td style=\"text-align:left;\"> May25 </td>\n",
       "   <td style=\"text-align:right;\"> 5 </td>\n",
       "   <td style=\"text-align:left;\"> May01 </td>\n",
       "   <td style=\"text-align:left;\"> 4.52 </td>\n",
       "   <td style=\"text-align:left;\"> 6.04 </td>\n",
       "   <td style=\"text-align:left;\"> 4.47 </td>\n",
       "   <td style=\"text-align:left;\"> 6.86 </td>\n",
       "   <td style=\"text-align:left;\"> 123.2 </td>\n",
       "   <td style=\"text-align:left;\"> 1.32 </td>\n",
       "   <td style=\"text-align:left;\"> 0.91 </td>\n",
       "   <td style=\"text-align:left;\"> 0.48 </td>\n",
       "   <td style=\"text-align:left;\">  </td>\n",
       "   <td style=\"text-align:left;\"> 368.9 </td>\n",
       "   <td style=\"text-align:left;\"> 755.8 </td>\n",
       "  </tr>\n",
       "</tbody>\n",
       "</table>"
      ]
     },
     "metadata": {},
     "output_type": "display_data"
    }
   ],
   "source": [
    "epicurve\tgenerations\ttauDate\tmean h1t\tvar h1t\tmean h2t\tvar h2t\tK\tR2\tR3\tR4\tR5\tnegloglk\tAIC\n",
    "Apr01\t2\tMar28\t4.39\t2.16\t15.86\t576.29\t25.7\t\t\t\t\t34.7\t81.4\n",
    "Apr09\t3\tMar28\t4.86\t3.61\t3.70\t3.45\t60.3\t0.94\t\t\t\t96.7\t207.3\n",
    "Apr17\t3\tApr10\t4.13\t3.14\t3.84\t2.44\t74.9\t1.52\t\t\t\t168.0\t350.0\n",
    "Apr25\t4\tApr10\t4.13\t3.15\t3.89\t2.57\t96.7\t1.34\t0.68\t\t\t218.7\t453.5\n",
    "May03\t5\tApr04\t4.23\t3.97\t4.32\t4.44\t142.6\t1.35\t0.76\t1.33\t\t293.3\t604.6\n",
    "May11\t5\tMay02\t4.50\t5.61\t4.31\t6.54\t125.1\t1.33\t0.86\t0.60\t\t345.4\t708.9\n",
    "May17\t5\tMay01\t4.52\t6.04\t4.39\t7.07\t124.3\t1.32\t0.89\t0.53\t\t364.3\t746.6\n",
    "May25\t5\tMay01\t4.52\t6.04\t4.47\t6.86\t123.2\t1.32\t0.91\t0.48\t\t368.9\t755.8# a bit nicer form\n",
    "options(warn=-1)\n",
    "final_pars_1 %>% \n",
    "    arrange(epicurve,generations) %>%\n",
    "    group_by(epicurve) %>%\n",
    "    mutate(\n",
    "           `mean h1t`= sprintf(\"%0.2f\",mean_h1%>%as.numeric),\n",
    "           `var h1t`=sprintf(\"%0.2f\",var_h1%>%as.numeric),\n",
    "           `mean h2t`= sprintf(\"%0.2f\",mean_h2%>%as.numeric),\n",
    "           `var h2t`=sprintf(\"%0.2f\",var_h2%>%as.numeric),\n",
    "           K=sprintf(\"%0.1f\",K%>%as.numeric),\n",
    "           R2=ifelse(!is.na(R2),\n",
    "                     sprintf(\"%0.2f\",R2%>%as.numeric),\n",
    "                     ''),\n",
    "           R3=ifelse(!is.na(R3),\n",
    "                     sprintf(\"%0.2f\",R3%>%as.numeric),\n",
    "                     ''),\n",
    "           R4=ifelse(!is.na(R4),\n",
    "                     sprintf(\"%0.2f\",R4%>%as.numeric),\n",
    "                     ''),\n",
    "           R5=ifelse(!is.na(R5),\n",
    "                     sprintf(\"%0.2f\",R5%>%as.numeric),\n",
    "                     ''),\n",
    "           negloglk=sprintf(\"%.1f\",-as.numeric(loglk)),\n",
    "           AIC=sprintf(\"%.1f\",AIC)\n",
    "          ) %>%\n",
    "    select(epicurve,generations,tauDate,`mean h1t`,`var h1t`,`mean h2t`,`var h2t`,K,R2,R3,R4,R5,negloglk,AIC) -> pars_final_kabble#\n",
    "\n",
    "\n",
    "pars_final_kabble %>%\n",
    "    kable(\"html\", escape = F) %>%\n",
    "    kable_styling(\"hover\", full_width = F) %>%\n",
    "    as.character() %>%\n",
    "    display_html()\n",
    "options(warn=0)"
   ]
  },
  {
   "cell_type": "code",
   "execution_count": null,
   "metadata": {},
   "outputs": [],
   "source": []
  }
 ],
 "metadata": {
  "kernelspec": {
   "display_name": "R",
   "language": "R",
   "name": "ir"
  },
  "language_info": {
   "codemirror_mode": "r",
   "file_extension": ".r",
   "mimetype": "text/x-r-source",
   "name": "R",
   "pygments_lexer": "r",
   "version": "3.5.1"
  }
 },
 "nbformat": 4,
 "nbformat_minor": 2
}
