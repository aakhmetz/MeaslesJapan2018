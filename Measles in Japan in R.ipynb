{
 "cells": [
  {
   "cell_type": "markdown",
   "metadata": {},
   "source": [
    "# Preamble"
   ]
  },
  {
   "cell_type": "code",
   "execution_count": 12,
   "metadata": {},
   "outputs": [],
   "source": [
    "libraries = c(\"dplyr\",\"magrittr\",\"tidyr\",\"ggplot2\",\"readxl\",\n",
    "              \"gridExtra\",\"zoo\",\"RColorBrewer\",\"scales\")\n",
    "for(x in libraries) { library(x,character.only=TRUE,warn.conflicts=FALSE) }\n",
    "\n",
    "# to show the plots as svg-graphics in Jupyter\n",
    "# options(jupyter.plot_mimetypes = \"image/svg+xml\")\n",
    "options(jupyter.plot_mimetypes = \"image/png\") \n",
    "\n",
    "windowsFonts(Times = windowsFont(\"Times New Roman\"))\n",
    "\n",
    "'%&%' = function(x,y)paste0(x,y)"
   ]
  },
  {
   "cell_type": "markdown",
   "metadata": {},
   "source": [
    "# Loading the data"
   ]
  },
  {
   "cell_type": "code",
   "execution_count": 13,
   "metadata": {
    "scrolled": false
   },
   "outputs": [
    {
     "name": "stderr",
     "output_type": "stream",
     "text": [
      "Something wrong with number of columns in Excel file!\n",
      "Joining, by = c(\"epicurve\", \"number\")\n"
     ]
    },
    {
     "data": {
      "text/html": [
       "<table>\n",
       "<thead><tr><th scope=col>epicurve</th><th scope=col>onset</th><th scope=col>confirmed</th></tr></thead>\n",
       "<tbody>\n",
       "\t<tr><td>May07     </td><td>2018-04-27</td><td>2018-05-02</td></tr>\n",
       "\t<tr><td>May07     </td><td>2018-04-30</td><td>2018-05-02</td></tr>\n",
       "\t<tr><td>May07     </td><td>2018-04-28</td><td>2018-05-03</td></tr>\n",
       "\t<tr><td>May07     </td><td>2018-05-02</td><td>2018-05-05</td></tr>\n",
       "\t<tr><td>May07     </td><td>2018-05-03</td><td>2018-05-05</td></tr>\n",
       "\t<tr><td>May07     </td><td>2018-05-03</td><td>2018-05-05</td></tr>\n",
       "</tbody>\n",
       "</table>\n"
      ],
      "text/latex": [
       "\\begin{tabular}{r|lll}\n",
       " epicurve & onset & confirmed\\\\\n",
       "\\hline\n",
       "\t May07      & 2018-04-27 & 2018-05-02\\\\\n",
       "\t May07      & 2018-04-30 & 2018-05-02\\\\\n",
       "\t May07      & 2018-04-28 & 2018-05-03\\\\\n",
       "\t May07      & 2018-05-02 & 2018-05-05\\\\\n",
       "\t May07      & 2018-05-03 & 2018-05-05\\\\\n",
       "\t May07      & 2018-05-03 & 2018-05-05\\\\\n",
       "\\end{tabular}\n"
      ],
      "text/markdown": [
       "\n",
       "epicurve | onset | confirmed | \n",
       "|---|---|---|---|---|---|\n",
       "| May07      | 2018-04-27 | 2018-05-02 | \n",
       "| May07      | 2018-04-30 | 2018-05-02 | \n",
       "| May07      | 2018-04-28 | 2018-05-03 | \n",
       "| May07      | 2018-05-02 | 2018-05-05 | \n",
       "| May07      | 2018-05-03 | 2018-05-05 | \n",
       "| May07      | 2018-05-03 | 2018-05-05 | \n",
       "\n",
       "\n"
      ],
      "text/plain": [
       "  epicurve onset      confirmed \n",
       "1 May07    2018-04-27 2018-05-02\n",
       "2 May07    2018-04-30 2018-05-02\n",
       "3 May07    2018-04-28 2018-05-03\n",
       "4 May07    2018-05-02 2018-05-05\n",
       "5 May07    2018-05-03 2018-05-05\n",
       "6 May07    2018-05-03 2018-05-05"
      ]
     },
     "metadata": {},
     "output_type": "display_data"
    }
   ],
   "source": [
    "filename = \"data.xlsx\"\n",
    "\n",
    "options(warn=-1)\n",
    "read_excel(filename, sheet = \"raw_onset\") %>% ncol -> nclmns\n",
    "read_excel(filename, sheet = \"raw_onset\", col_types = rep(\"date\",nclmns)) %>%\n",
    "    gather(epicurve,onset) %>% \n",
    "    mutate(number=1:n()) -> df\n",
    "if (read_excel(filename, sheet = \"raw_confirm\") %>% ncol==nclmns)\n",
    "    message(\"Something wrong with number of columns in Excel file!\")\n",
    "read_excel(filename, sheet = \"raw_confirm\", col_types = rep(\"date\",nclmns)) %>%\n",
    "    gather(epicurve,confirmed) %>%\n",
    "    mutate(number=1:n()) %>%\n",
    "    left_join(df) %>%\n",
    "    select(epicurve,onset,confirmed) %>%\n",
    "    mutate(onset=as.Date(onset), confirmed=as.Date(confirmed)) -> df\n",
    "options(warn=0)\n",
    "df %>% tail"
   ]
  },
  {
   "cell_type": "code",
   "execution_count": 14,
   "metadata": {},
   "outputs": [
    {
     "data": {
      "text/html": [
       "<table>\n",
       "<thead><tr><th scope=col>epicurve</th><th scope=col>onset</th><th scope=col>confirmed</th><th scope=col>difference</th></tr></thead>\n",
       "<tbody>\n",
       "\t<tr><td>Apr01     </td><td>2018-03-17</td><td>2018-03-20</td><td>6         </td></tr>\n",
       "\t<tr><td>Apr01     </td><td>2018-03-27</td><td>2018-03-29</td><td>2         </td></tr>\n",
       "\t<tr><td>Apr01     </td><td>2018-03-27</td><td>2018-03-29</td><td>2         </td></tr>\n",
       "\t<tr><td>Apr01     </td><td>2018-03-25</td><td>2018-03-31</td><td>6         </td></tr>\n",
       "\t<tr><td>Apr01     </td><td>2018-03-25</td><td>2018-03-31</td><td>6         </td></tr>\n",
       "\t<tr><td>Apr01     </td><td>2018-03-26</td><td>2018-03-31</td><td>5         </td></tr>\n",
       "</tbody>\n",
       "</table>\n"
      ],
      "text/latex": [
       "\\begin{tabular}{r|llll}\n",
       " epicurve & onset & confirmed & difference\\\\\n",
       "\\hline\n",
       "\t Apr01      & 2018-03-17 & 2018-03-20 & 6         \\\\\n",
       "\t Apr01      & 2018-03-27 & 2018-03-29 & 2         \\\\\n",
       "\t Apr01      & 2018-03-27 & 2018-03-29 & 2         \\\\\n",
       "\t Apr01      & 2018-03-25 & 2018-03-31 & 6         \\\\\n",
       "\t Apr01      & 2018-03-25 & 2018-03-31 & 6         \\\\\n",
       "\t Apr01      & 2018-03-26 & 2018-03-31 & 5         \\\\\n",
       "\\end{tabular}\n"
      ],
      "text/markdown": [
       "\n",
       "epicurve | onset | confirmed | difference | \n",
       "|---|---|---|---|---|---|\n",
       "| Apr01      | 2018-03-17 | 2018-03-20 | 6          | \n",
       "| Apr01      | 2018-03-27 | 2018-03-29 | 2          | \n",
       "| Apr01      | 2018-03-27 | 2018-03-29 | 2          | \n",
       "| Apr01      | 2018-03-25 | 2018-03-31 | 6          | \n",
       "| Apr01      | 2018-03-25 | 2018-03-31 | 6          | \n",
       "| Apr01      | 2018-03-26 | 2018-03-31 | 5          | \n",
       "\n",
       "\n"
      ],
      "text/plain": [
       "  epicurve onset      confirmed  difference\n",
       "1 Apr01    2018-03-17 2018-03-20 6         \n",
       "2 Apr01    2018-03-27 2018-03-29 2         \n",
       "3 Apr01    2018-03-27 2018-03-29 2         \n",
       "4 Apr01    2018-03-25 2018-03-31 6         \n",
       "5 Apr01    2018-03-25 2018-03-31 6         \n",
       "6 Apr01    2018-03-26 2018-03-31 5         "
      ]
     },
     "metadata": {},
     "output_type": "display_data"
    }
   ],
   "source": [
    "df %<>%\n",
    "    mutate(difference=confirmed-onset,\n",
    "           # if the onset date is unknown, it is assummed to be 5 days prior the confirmation\n",
    "           difference=ifelse(is.na(onset),5,difference), \n",
    "           onset=if_else(is.na(as.numeric(onset)),confirmed-difference,onset)) %>%\n",
    "    na.omit\n",
    "\n",
    "# we shift the onset data of the index case to the date of first exposure \n",
    "df[which(df$onset=='2018-03-14'),'onset'] = as.Date('2018-03-17')\n",
    "\n",
    "df %>% head"
   ]
  },
  {
   "cell_type": "code",
   "execution_count": 95,
   "metadata": {},
   "outputs": [
    {
     "data": {
      "text/html": [
       "637"
      ],
      "text/latex": [
       "637"
      ],
      "text/markdown": [
       "637"
      ],
      "text/plain": [
       "[1] 637"
      ]
     },
     "metadata": {},
     "output_type": "display_data"
    }
   ],
   "source": [
    "# total number of records\n",
    "df %>% nrow"
   ]
  },
  {
   "cell_type": "markdown",
   "metadata": {},
   "source": [
    "We use Gamma distribution to define generation time distribution $g_t$, Weibull distribution for delay distribution $h_t$ between symptoms onset and lab confirmation"
   ]
  },
  {
   "cell_type": "code",
   "execution_count": 96,
   "metadata": {},
   "outputs": [],
   "source": [
    "g = function(time) { \n",
    "    g_mean = 11.7; g_var = 9.0 # from (Klinkenberg and Nishiura 2011)\n",
    "    scl = g_var/g_mean\n",
    "    pgamma(time,shape=g_mean/scl,scale=scl)-pgamma(time-1,shape=g_mean/scl,scale=scl) }\n",
    "\n",
    "h = function(delta,parms) {\n",
    "    pweibull(delta,parms[1],parms[2])-pweibull(delta-1,parms[1],parms[2]) }"
   ]
  },
  {
   "cell_type": "code",
   "execution_count": 97,
   "metadata": {},
   "outputs": [
    {
     "data": {
      "text/html": [
       "<time datetime=\"2018-03-17\">2018-03-17</time>"
      ],
      "text/latex": [
       "2018-03-17"
      ],
      "text/markdown": [
       "2018-03-17"
      ],
      "text/plain": [
       "[1] \"2018-03-17\""
      ]
     },
     "metadata": {},
     "output_type": "display_data"
    },
    {
     "data": {
      "text/html": [
       "<time datetime=\"2018-05-05\">2018-05-05</time>"
      ],
      "text/latex": [
       "2018-05-05"
      ],
      "text/markdown": [
       "2018-05-05"
      ],
      "text/plain": [
       "[1] \"2018-05-05\""
      ]
     },
     "metadata": {},
     "output_type": "display_data"
    },
    {
     "data": {
      "text/html": [
       "<table>\n",
       "<thead><tr><th scope=col>epicurve</th><th scope=col>onset</th><th scope=col>confirmed</th><th scope=col>difference</th><th scope=col>day_onset</th><th scope=col>day_confirmation</th></tr></thead>\n",
       "<tbody>\n",
       "\t<tr><td>Apr01     </td><td>2018-03-17</td><td>2018-03-20</td><td>6         </td><td> 0        </td><td> 3        </td></tr>\n",
       "\t<tr><td>Apr01     </td><td>2018-03-27</td><td>2018-03-29</td><td>2         </td><td>10        </td><td>12        </td></tr>\n",
       "\t<tr><td>Apr01     </td><td>2018-03-27</td><td>2018-03-29</td><td>2         </td><td>10        </td><td>12        </td></tr>\n",
       "\t<tr><td>Apr01     </td><td>2018-03-25</td><td>2018-03-31</td><td>6         </td><td> 8        </td><td>14        </td></tr>\n",
       "\t<tr><td>Apr01     </td><td>2018-03-25</td><td>2018-03-31</td><td>6         </td><td> 8        </td><td>14        </td></tr>\n",
       "\t<tr><td>Apr01     </td><td>2018-03-26</td><td>2018-03-31</td><td>5         </td><td> 9        </td><td>14        </td></tr>\n",
       "</tbody>\n",
       "</table>\n"
      ],
      "text/latex": [
       "\\begin{tabular}{r|llllll}\n",
       " epicurve & onset & confirmed & difference & day\\_onset & day\\_confirmation\\\\\n",
       "\\hline\n",
       "\t Apr01      & 2018-03-17 & 2018-03-20 & 6          &  0         &  3        \\\\\n",
       "\t Apr01      & 2018-03-27 & 2018-03-29 & 2          & 10         & 12        \\\\\n",
       "\t Apr01      & 2018-03-27 & 2018-03-29 & 2          & 10         & 12        \\\\\n",
       "\t Apr01      & 2018-03-25 & 2018-03-31 & 6          &  8         & 14        \\\\\n",
       "\t Apr01      & 2018-03-25 & 2018-03-31 & 6          &  8         & 14        \\\\\n",
       "\t Apr01      & 2018-03-26 & 2018-03-31 & 5          &  9         & 14        \\\\\n",
       "\\end{tabular}\n"
      ],
      "text/markdown": [
       "\n",
       "epicurve | onset | confirmed | difference | day_onset | day_confirmation | \n",
       "|---|---|---|---|---|---|\n",
       "| Apr01      | 2018-03-17 | 2018-03-20 | 6          |  0         |  3         | \n",
       "| Apr01      | 2018-03-27 | 2018-03-29 | 2          | 10         | 12         | \n",
       "| Apr01      | 2018-03-27 | 2018-03-29 | 2          | 10         | 12         | \n",
       "| Apr01      | 2018-03-25 | 2018-03-31 | 6          |  8         | 14         | \n",
       "| Apr01      | 2018-03-25 | 2018-03-31 | 6          |  8         | 14         | \n",
       "| Apr01      | 2018-03-26 | 2018-03-31 | 5          |  9         | 14         | \n",
       "\n",
       "\n"
      ],
      "text/plain": [
       "  epicurve onset      confirmed  difference day_onset day_confirmation\n",
       "1 Apr01    2018-03-17 2018-03-20 6           0         3              \n",
       "2 Apr01    2018-03-27 2018-03-29 2          10        12              \n",
       "3 Apr01    2018-03-27 2018-03-29 2          10        12              \n",
       "4 Apr01    2018-03-25 2018-03-31 6           8        14              \n",
       "5 Apr01    2018-03-25 2018-03-31 6           8        14              \n",
       "6 Apr01    2018-03-26 2018-03-31 5           9        14              "
      ]
     },
     "metadata": {},
     "output_type": "display_data"
    }
   ],
   "source": [
    "# using days since index case instead of dates\n",
    "(mindate = min(df$onset))\n",
    "(maxdate = max(df$confirmed))\n",
    "df %<>% \n",
    "    mutate(day_onset = unclass(onset)-unclass(mindate),\n",
    "           day_confirmation = unclass(confirmed)-unclass(mindate))\n",
    "df %>% head"
   ]
  },
  {
   "cell_type": "code",
   "execution_count": 98,
   "metadata": {},
   "outputs": [
    {
     "data": {
      "text/html": [
       "<ol class=list-inline>\n",
       "\t<li>'Apr01'</li>\n",
       "\t<li>'Apr05'</li>\n",
       "\t<li>'Apr09'</li>\n",
       "\t<li>'Apr13'</li>\n",
       "\t<li>'Apr17'</li>\n",
       "\t<li>'Apr21'</li>\n",
       "\t<li>'Apr25'</li>\n",
       "\t<li>'Apr29'</li>\n",
       "\t<li>'May03'</li>\n",
       "\t<li>'May07'</li>\n",
       "</ol>\n"
      ],
      "text/latex": [
       "\\begin{enumerate*}\n",
       "\\item 'Apr01'\n",
       "\\item 'Apr05'\n",
       "\\item 'Apr09'\n",
       "\\item 'Apr13'\n",
       "\\item 'Apr17'\n",
       "\\item 'Apr21'\n",
       "\\item 'Apr25'\n",
       "\\item 'Apr29'\n",
       "\\item 'May03'\n",
       "\\item 'May07'\n",
       "\\end{enumerate*}\n"
      ],
      "text/markdown": [
       "1. 'Apr01'\n",
       "2. 'Apr05'\n",
       "3. 'Apr09'\n",
       "4. 'Apr13'\n",
       "5. 'Apr17'\n",
       "6. 'Apr21'\n",
       "7. 'Apr25'\n",
       "8. 'Apr29'\n",
       "9. 'May03'\n",
       "10. 'May07'\n",
       "\n",
       "\n"
      ],
      "text/plain": [
       " [1] \"Apr01\" \"Apr05\" \"Apr09\" \"Apr13\" \"Apr17\" \"Apr21\" \"Apr25\" \"Apr29\" \"May03\"\n",
       "[10] \"May07\""
      ]
     },
     "metadata": {},
     "output_type": "display_data"
    }
   ],
   "source": [
    "# Available epicurves\n",
    "(all_epicurves = unique(df$epicurve))"
   ]
  },
  {
   "cell_type": "markdown",
   "metadata": {},
   "source": [
    "# For example, we first analyse only one epicurve"
   ]
  },
  {
   "cell_type": "code",
   "execution_count": 114,
   "metadata": {},
   "outputs": [
    {
     "data": {
      "text/html": [
       "'May07'"
      ],
      "text/latex": [
       "'May07'"
      ],
      "text/markdown": [
       "'May07'"
      ],
      "text/plain": [
       "[1] \"May07\""
      ]
     },
     "metadata": {},
     "output_type": "display_data"
    }
   ],
   "source": [
    "# last available update\n",
    "(current_epicurve = all_epicurves %>% rev %>% .[1])"
   ]
  },
  {
   "cell_type": "code",
   "execution_count": 115,
   "metadata": {},
   "outputs": [
    {
     "data": {
      "text/html": [
       "56"
      ],
      "text/latex": [
       "56"
      ],
      "text/markdown": [
       "56"
      ],
      "text/plain": [
       "[1] 56"
      ]
     },
     "metadata": {},
     "output_type": "display_data"
    }
   ],
   "source": [
    "(maxDay = max(df$day_confirmation)+7)"
   ]
  },
  {
   "cell_type": "code",
   "execution_count": 116,
   "metadata": {},
   "outputs": [
    {
     "data": {
      "text/html": [
       "<table>\n",
       "<thead><tr><th scope=col>day</th><th scope=col>i</th><th scope=col>c</th></tr></thead>\n",
       "<tbody>\n",
       "\t<tr><td>46</td><td>1 </td><td>4 </td></tr>\n",
       "\t<tr><td>47</td><td>2 </td><td>1 </td></tr>\n",
       "\t<tr><td>48</td><td>0 </td><td>0 </td></tr>\n",
       "\t<tr><td>49</td><td>0 </td><td>3 </td></tr>\n",
       "\t<tr><td>50</td><td>0 </td><td>0 </td></tr>\n",
       "\t<tr><td>51</td><td>0 </td><td>0 </td></tr>\n",
       "</tbody>\n",
       "</table>\n"
      ],
      "text/latex": [
       "\\begin{tabular}{r|lll}\n",
       " day & i & c\\\\\n",
       "\\hline\n",
       "\t 46 & 1  & 4 \\\\\n",
       "\t 47 & 2  & 1 \\\\\n",
       "\t 48 & 0  & 0 \\\\\n",
       "\t 49 & 0  & 3 \\\\\n",
       "\t 50 & 0  & 0 \\\\\n",
       "\t 51 & 0  & 0 \\\\\n",
       "\\end{tabular}\n"
      ],
      "text/markdown": [
       "\n",
       "day | i | c | \n",
       "|---|---|---|---|---|---|\n",
       "| 46 | 1  | 4  | \n",
       "| 47 | 2  | 1  | \n",
       "| 48 | 0  | 0  | \n",
       "| 49 | 0  | 3  | \n",
       "| 50 | 0  | 0  | \n",
       "| 51 | 0  | 0  | \n",
       "\n",
       "\n"
      ],
      "text/plain": [
       "  day i c\n",
       "1 46  1 4\n",
       "2 47  2 1\n",
       "3 48  0 0\n",
       "4 49  0 3\n",
       "5 50  0 0\n",
       "6 51  0 0"
      ]
     },
     "metadata": {},
     "output_type": "display_data"
    }
   ],
   "source": [
    "df %>% \n",
    "    filter(epicurve==current_epicurve) %>% \n",
    "    select(-epicurve) -> df_current\n",
    "\n",
    "Df = data.frame(day=0:(unclass(as.Date('2018'%&%current_epicurve,\"%Y%b%d\"))-unclass(as.Date('2018-03-17'))))\n",
    "\n",
    "df_current %>% \n",
    "    filter(day_onset>0) %>% #removing index case from fitting\n",
    "    group_by(day_onset) %>%\n",
    "    count %>%\n",
    "    rename(day=day_onset) %>%\n",
    "    right_join(Df,by=\"day\") %>%\n",
    "    mutate(n=ifelse(is.na(n),0,n)) %>%\n",
    "    rename(i=n) -> Df\n",
    "\n",
    "df_current %>%\n",
    "    filter(day_onset>0) %>% #removing index case from fitting\n",
    "    group_by(day_confirmation) %>%\n",
    "    count %>%\n",
    "    rename(day=day_confirmation) %>%\n",
    "    right_join(Df,by=\"day\") %>%\n",
    "    mutate(n=ifelse(is.na(n),0,n)) %>%\n",
    "    rename(c=n) %>%\n",
    "    select(day,i,c) %>%\n",
    "    arrange(day) -> Df\n",
    "\n",
    "Df %>% tail"
   ]
  },
  {
   "cell_type": "code",
   "execution_count": 117,
   "metadata": {},
   "outputs": [],
   "source": [
    "loglk_four_generations = function(prms) {\n",
    "    K = prms[3]; R2 = prms[4]; R3 = prms[5]\n",
    "    \n",
    "    data.frame(day = Df$day) %>%\n",
    "        mutate(gt=g(day),ht=h(day,prms[1:2])) -> df_\n",
    "\n",
    "    #calculating first convolution\n",
    "    conv = c()\n",
    "    for (x in 1:nrow(df_)) {\n",
    "        conv = c(conv,sum(df_$gt[1:x]*df_$gt[x:1])) }\n",
    "    df_ %<>% do(cbind(.,conv1_gt=conv))\n",
    "\n",
    "    #calculating second convolution\n",
    "    conv = c()\n",
    "    for (x in 1:nrow(df_)) {\n",
    "        conv = c(conv,sum(df_$conv1_gt[1:x]*df_$gt[x:1])) }\n",
    "    df_ %<>% do(cbind(.,conv2_gt=conv))\n",
    "\n",
    "    df_ %<>% \n",
    "        mutate(ft = (gt+R2*conv1_gt+R2*R3*conv2_gt)/(1+R2+R2*R3)) %>%\n",
    "        right_join(Df,by=\"day\")\n",
    "    \n",
    "    df_ %>%\n",
    "        filter(ft>0) %>% \n",
    "        summarize(loglk = sum(i*log(K*ft)-K*ft-lfactorial(i))) %>% .$loglk -> loglk_onset\n",
    "    \n",
    "    #calculating convolution with h\n",
    "    conv = c()\n",
    "    for (x in 1:nrow(df_)) {\n",
    "        conv = c(conv,sum(df_$ft[1:x]*df_$ht[x:1])) }\n",
    "    df_ %<>% do(cbind(.,conv_ht=conv))\n",
    "    \n",
    "    df_ %>%\n",
    "        filter(conv_ht>0) %>%\n",
    "        summarize(loglk = sum(c*log(K*conv_ht)-K*conv_ht-lfactorial(c))) %>% .$loglk -> loglk_confirm\n",
    "    \n",
    "    df_current %>% \n",
    "        group_by(difference) %>%\n",
    "        count %>%\n",
    "        ungroup %>%\n",
    "        summarize(loglk = sum(n*log(h(difference,prms[1:2])))) %>% .$loglk -> loglk_delay\n",
    "    \n",
    "    loglk_delay+loglk_onset+loglk_confirm\n",
    "}\n",
    "\n",
    "loglk_three_generations = function(x) { loglk_four_generations(c(x[1:4],0)) }\n",
    "\n",
    "loglk_two_generations = function(x) { loglk_four_generations(c(x[1:3],0,0)) }\n",
    "\n",
    "getPrediction = function(prms,ndays) {\n",
    "    K = prms[3]; \n",
    "    R2 = ifelse(length(prms)<4, 0, prms[4]);\n",
    "    R3 = ifelse(length(prms)<5, 0, prms[5]);\n",
    "    \n",
    "    data.frame(day = 0:ndays) %>%\n",
    "        mutate(gt=g(day),ht=h(day,prms[1:2])) -> df_\n",
    "\n",
    "    #calculating first convolution\n",
    "    conv = c()\n",
    "    for (x in 1:nrow(df_)) {\n",
    "        conv = c(conv,sum(df_$gt[1:x]*df_$gt[x:1])) }\n",
    "    df_ %<>% do(cbind(.,conv1_gt=conv))\n",
    "\n",
    "    #calculating second convolution\n",
    "    conv = c()\n",
    "    for (x in 1:nrow(df_)) {\n",
    "        conv = c(conv,sum(df_$conv1_gt[1:x]*df_$gt[x:1])) }\n",
    "    df_ %<>% do(cbind(.,conv2_gt=conv))\n",
    "    \n",
    "    df_ %<>% \n",
    "        mutate(ft = gt/(1+R2+R2*R3)+R2*conv1_gt/(1+R2+R2*R3)+R2*R3*conv2_gt/(1+R2+R2*R3))\n",
    "    \n",
    "    #calculating third convolution\n",
    "    conv = c()\n",
    "    for (x in 1:nrow(df_)) {\n",
    "        conv = c(conv,sum(df_$ft[1:x]*df_$ht[x:1])) }\n",
    "    df_ %<>% do(cbind(.,conv_ht=conv))\n",
    "    \n",
    "    df_ %<>% \n",
    "        mutate(lambda_i = K*ft, lambda_c = K*conv_ht) %>%\n",
    "        left_join(Df,by=\"day\")\n",
    "    \n",
    "    df_\n",
    "}\n",
    "\n",
    "getDelay = function(prms) {\n",
    "    df_current %>% \n",
    "        mutate(delta = day_confirmation-day_onset) %>%\n",
    "        group_by(delta) %>%\n",
    "        count %>%\n",
    "        ungroup -> df_\n",
    "\n",
    "    df_ %>% \n",
    "        right_join(data.frame(delta=1:max(df_$delta)+1),by=\"delta\") %>%\n",
    "        mutate(n = ifelse(is.na(n),0,n), ht = h(delta,prms)) %>%\n",
    "        mutate(freq = n/sum(n)) %>%\n",
    "        return\n",
    "}"
   ]
  },
  {
   "cell_type": "code",
   "execution_count": 118,
   "metadata": {},
   "outputs": [
    {
     "data": {
      "text/html": [
       "-404.787111899302"
      ],
      "text/latex": [
       "-404.787111899302"
      ],
      "text/markdown": [
       "-404.787111899302"
      ],
      "text/plain": [
       "[1] -404.7871"
      ]
     },
     "metadata": {},
     "output_type": "display_data"
    }
   ],
   "source": [
    "# test\n",
    "init = c(2,4,100,1.2,.5)\n",
    "loglk_four_generations(init)"
   ]
  },
  {
   "cell_type": "code",
   "execution_count": 122,
   "metadata": {
    "scrolled": false
   },
   "outputs": [
    {
     "data": {
      "text/html": [
       "<dl>\n",
       "\t<dt>$par</dt>\n",
       "\t\t<dd><ol class=list-inline>\n",
       "\t<li>2.23335744598547</li>\n",
       "\t<li>4.7295104334835</li>\n",
       "\t<li>106.86294838476</li>\n",
       "\t<li>1.2085047189966</li>\n",
       "\t<li>1.00619750813025</li>\n",
       "</ol>\n",
       "</dd>\n",
       "\t<dt>$value</dt>\n",
       "\t\t<dd>-388.491840485339</dd>\n",
       "\t<dt>$counts</dt>\n",
       "\t\t<dd><dl class=dl-horizontal>\n",
       "\t<dt>function</dt>\n",
       "\t\t<dd>22</dd>\n",
       "\t<dt>gradient</dt>\n",
       "\t\t<dd>22</dd>\n",
       "</dl>\n",
       "</dd>\n",
       "\t<dt>$convergence</dt>\n",
       "\t\t<dd>0</dd>\n",
       "\t<dt>$message</dt>\n",
       "\t\t<dd>'CONVERGENCE: REL_REDUCTION_OF_F &lt;= FACTR*EPSMCH'</dd>\n",
       "\t<dt>$hessian</dt>\n",
       "\t\t<dd><table>\n",
       "<tbody>\n",
       "\t<tr><td>-38.675172604</td><td>  8.456356547</td><td>-0.002537504 </td><td> -0.105533758</td><td> -0.15939533 </td></tr>\n",
       "\t<tr><td>  8.456356547</td><td>-24.322283778</td><td> 0.005533394 </td><td> -1.666620122</td><td> -1.83858209 </td></tr>\n",
       "\t<tr><td> -0.002537504</td><td>  0.005533394</td><td>-0.018564407 </td><td>  0.003909278</td><td>  0.01035811 </td></tr>\n",
       "\t<tr><td> -0.105533758</td><td> -1.666620122</td><td> 0.003909278 </td><td>-26.041306569</td><td>-17.93784125 </td></tr>\n",
       "\t<tr><td> -0.159395327</td><td> -1.838582087</td><td> 0.010358114 </td><td>-17.937841250</td><td>-37.74407877 </td></tr>\n",
       "</tbody>\n",
       "</table>\n",
       "</dd>\n",
       "</dl>\n"
      ],
      "text/latex": [
       "\\begin{description}\n",
       "\\item[\\$par] \\begin{enumerate*}\n",
       "\\item 2.23335744598547\n",
       "\\item 4.7295104334835\n",
       "\\item 106.86294838476\n",
       "\\item 1.2085047189966\n",
       "\\item 1.00619750813025\n",
       "\\end{enumerate*}\n",
       "\n",
       "\\item[\\$value] -388.491840485339\n",
       "\\item[\\$counts] \\begin{description*}\n",
       "\\item[function] 22\n",
       "\\item[gradient] 22\n",
       "\\end{description*}\n",
       "\n",
       "\\item[\\$convergence] 0\n",
       "\\item[\\$message] 'CONVERGENCE: REL\\_REDUCTION\\_OF\\_F <= FACTR*EPSMCH'\n",
       "\\item[\\$hessian] \\begin{tabular}{lllll}\n",
       "\t -38.675172604 &   8.456356547 & -0.002537504  &  -0.105533758 &  -0.15939533 \\\\\n",
       "\t   8.456356547 & -24.322283778 &  0.005533394  &  -1.666620122 &  -1.83858209 \\\\\n",
       "\t  -0.002537504 &   0.005533394 & -0.018564407  &   0.003909278 &   0.01035811 \\\\\n",
       "\t  -0.105533758 &  -1.666620122 &  0.003909278  & -26.041306569 & -17.93784125 \\\\\n",
       "\t  -0.159395327 &  -1.838582087 &  0.010358114  & -17.937841250 & -37.74407877 \\\\\n",
       "\\end{tabular}\n",
       "\n",
       "\\end{description}\n"
      ],
      "text/markdown": [
       "$par\n",
       ":   1. 2.23335744598547\n",
       "2. 4.7295104334835\n",
       "3. 106.86294838476\n",
       "4. 1.2085047189966\n",
       "5. 1.00619750813025\n",
       "\n",
       "\n",
       "\n",
       "$value\n",
       ":   -388.491840485339\n",
       "$counts\n",
       ":   function\n",
       ":   22gradient\n",
       ":   22\n",
       "\n",
       "\n",
       "$convergence\n",
       ":   0\n",
       "$message\n",
       ":   'CONVERGENCE: REL_REDUCTION_OF_F &lt;= FACTR*EPSMCH'\n",
       "$hessian\n",
       ":   \n",
       "| -38.675172604 |   8.456356547 | -0.002537504  |  -0.105533758 |  -0.15939533  | \n",
       "|   8.456356547 | -24.322283778 |  0.005533394  |  -1.666620122 |  -1.83858209  | \n",
       "|  -0.002537504 |   0.005533394 | -0.018564407  |   0.003909278 |   0.01035811  | \n",
       "|  -0.105533758 |  -1.666620122 |  0.003909278  | -26.041306569 | -17.93784125  | \n",
       "|  -0.159395327 |  -1.838582087 |  0.010358114  | -17.937841250 | -37.74407877  | \n",
       "\n",
       "\n",
       "\n",
       "\n",
       "\n"
      ],
      "text/plain": [
       "$par\n",
       "[1]   2.233357   4.729510 106.862948   1.208505   1.006198\n",
       "\n",
       "$value\n",
       "[1] -388.4918\n",
       "\n",
       "$counts\n",
       "function gradient \n",
       "      22       22 \n",
       "\n",
       "$convergence\n",
       "[1] 0\n",
       "\n",
       "$message\n",
       "[1] \"CONVERGENCE: REL_REDUCTION_OF_F <= FACTR*EPSMCH\"\n",
       "\n",
       "$hessian\n",
       "              [,1]          [,2]         [,3]          [,4]         [,5]\n",
       "[1,] -38.675172604   8.456356547 -0.002537504  -0.105533758  -0.15939533\n",
       "[2,]   8.456356547 -24.322283778  0.005533394  -1.666620122  -1.83858209\n",
       "[3,]  -0.002537504   0.005533394 -0.018564407   0.003909278   0.01035811\n",
       "[4,]  -0.105533758  -1.666620122  0.003909278 -26.041306569 -17.93784125\n",
       "[5,]  -0.159395327  -1.838582087  0.010358114 -17.937841250 -37.74407877\n"
      ]
     },
     "metadata": {},
     "output_type": "display_data"
    },
    {
     "data": {
      "text/html": [
       "<ol class=list-inline>\n",
       "\t<li>2.23335744598547</li>\n",
       "\t<li>4.7295104334835</li>\n",
       "\t<li>106.86294838476</li>\n",
       "\t<li>1.2085047189966</li>\n",
       "\t<li>1.00619750813025</li>\n",
       "</ol>\n"
      ],
      "text/latex": [
       "\\begin{enumerate*}\n",
       "\\item 2.23335744598547\n",
       "\\item 4.7295104334835\n",
       "\\item 106.86294838476\n",
       "\\item 1.2085047189966\n",
       "\\item 1.00619750813025\n",
       "\\end{enumerate*}\n"
      ],
      "text/markdown": [
       "1. 2.23335744598547\n",
       "2. 4.7295104334835\n",
       "3. 106.86294838476\n",
       "4. 1.2085047189966\n",
       "5. 1.00619750813025\n",
       "\n",
       "\n"
      ],
      "text/plain": [
       "[1]   2.233357   4.729510 106.862948   1.208505   1.006198"
      ]
     },
     "metadata": {},
     "output_type": "display_data"
    }
   ],
   "source": [
    "fourth_generation = TRUE\n",
    "third_generation = TRUE\n",
    "\n",
    "pars = init\n",
    "\n",
    "if (fourth_generation) { \n",
    "    options(warn=-1)\n",
    "    sol = optim(pars,loglk_four_generations,method=\"L-BFGS-B\",control=list(fnscale=-1),lower=rep(0,5),\n",
    "                hessian=TRUE)\n",
    "    options(warn=0)\n",
    "    pars = sol$par }\n",
    "\n",
    "if (pars[length(pars)]==0) fourth_generation = FALSE\n",
    "\n",
    "# first we assume that there are three generations\n",
    "if (!fourth_generation) { \n",
    "    options(warn=-1)\n",
    "    sol = optim(pars[1:4],loglk_three_generations,method=\"L-BFGS-B\",control=list(fnscale=-1),lower=rep(0,4),\n",
    "                hessian=TRUE)\n",
    "    options(warn=0)\n",
    "    pars = sol$par }\n",
    "\n",
    "if (pars[length(pars)]==0) third_generation = FALSE\n",
    "\n",
    "if (!third_generation) { \n",
    "    options(warn=-1)\n",
    "    sol = optim(pars[1:3],loglk_two_generations,method=\"L-BFGS-B\",control=list(fnscale=-1),lower=rep(0,3),\n",
    "                hessian=TRUE)\n",
    "    options(warn=0) \n",
    "    pars = sol$par }\n",
    "\n",
    "sol\n",
    "\n",
    "pars"
   ]
  },
  {
   "cell_type": "code",
   "execution_count": 123,
   "metadata": {},
   "outputs": [
    {
     "data": {
      "text/html": [
       "<ol class=list-inline>\n",
       "\t<li>4.188861411228</li>\n",
       "\t<li>3.93226899655679</li>\n",
       "</ol>\n"
      ],
      "text/latex": [
       "\\begin{enumerate*}\n",
       "\\item 4.188861411228\n",
       "\\item 3.93226899655679\n",
       "\\end{enumerate*}\n"
      ],
      "text/markdown": [
       "1. 4.188861411228\n",
       "2. 3.93226899655679\n",
       "\n",
       "\n"
      ],
      "text/plain": [
       "[1] 4.188861 3.932269"
      ]
     },
     "metadata": {},
     "output_type": "display_data"
    }
   ],
   "source": [
    "# Obtained Weibull distribution mean and variance\n",
    "c(pars[2]*gamma(1+1/pars[1]),pars[2]^2*(gamma(1+2/pars[1])-(gamma(1+1/pars[1]))^2))"
   ]
  },
  {
   "cell_type": "code",
   "execution_count": 124,
   "metadata": {},
   "outputs": [
    {
     "data": {
      "text/html": [
       "<table>\n",
       "<thead><tr><th></th><th scope=col>day</th><th scope=col>gt</th><th scope=col>ht</th><th scope=col>conv1_gt</th><th scope=col>conv2_gt</th><th scope=col>ft</th><th scope=col>conv_ht</th><th scope=col>lambda_i</th><th scope=col>lambda_c</th><th scope=col>i</th><th scope=col>c</th></tr></thead>\n",
       "<tbody>\n",
       "\t<tr><th scope=row>48</th><td>47          </td><td>1.016631e-12</td><td>0           </td><td>7.306608e-06</td><td>0.0111453643</td><td>0.0039601502</td><td>0.013927243 </td><td>0.42319333  </td><td>1.4883063   </td><td> 2          </td><td> 1          </td></tr>\n",
       "\t<tr><th scope=row>49</th><td>48          </td><td>3.750333e-13</td><td>0           </td><td>3.754830e-06</td><td>0.0080295144</td><td>0.0028524996</td><td>0.011450626 </td><td>0.30482652  </td><td>1.2236477   </td><td> 0          </td><td> 0          </td></tr>\n",
       "\t<tr><th scope=row>50</th><td>49          </td><td>1.375566e-13</td><td>0           </td><td>1.903984e-06</td><td>0.0056666779</td><td>0.0020128344</td><td>0.009200645 </td><td>0.21509742  </td><td>0.9832080   </td><td> 0          </td><td> 3          </td></tr>\n",
       "\t<tr><th scope=row>51</th><td>50          </td><td>5.007106e-14</td><td>0           </td><td>9.531768e-07</td><td>0.0039208687</td><td>0.0013925851</td><td>0.007230084 </td><td>0.14881575  </td><td>0.7726281   </td><td> 0          </td><td> 0          </td></tr>\n",
       "\t<tr><th scope=row>52</th><td>51          </td><td>1.809664e-14</td><td>0           </td><td>4.713522e-07</td><td>0.0026619415</td><td>0.0009453866</td><td>0.005560589 </td><td>0.10102680  </td><td>0.5942210   </td><td> 0          </td><td> 0          </td></tr>\n",
       "\t<tr><th scope=row>53</th><td>52          </td><td>6.550316e-15</td><td>0           </td><td>2.303512e-07</td><td>0.0017746162</td><td>0.0006302241</td><td>0.004188562 </td><td>0.06734760  </td><td>0.4476020   </td><td>NA          </td><td>NA          </td></tr>\n",
       "\t<tr><th scope=row>54</th><td>53          </td><td>2.331468e-15</td><td>0           </td><td>1.113031e-07</td><td>0.0011625410</td><td>0.0004128422</td><td>0.003092311 </td><td>0.04411754  </td><td>0.3304534   </td><td>NA          </td><td>NA          </td></tr>\n",
       "\t<tr><th scope=row>55</th><td>54          </td><td>8.881784e-16</td><td>0           </td><td>5.319656e-08</td><td>0.0007488601</td><td>0.0002659291</td><td>0.002239102 </td><td>0.02841797  </td><td>0.2392770   </td><td>NA          </td><td>NA          </td></tr>\n",
       "\t<tr><th scope=row>56</th><td>55          </td><td>3.330669e-16</td><td>0           </td><td>2.515916e-08</td><td>0.0004746308</td><td>0.0001685440</td><td>0.001591200 </td><td>0.01801111  </td><td>0.1700404   </td><td>NA          </td><td>NA          </td></tr>\n",
       "\t<tr><th scope=row>57</th><td>56          </td><td>0.000000e+00</td><td>0           </td><td>1.177911e-08</td><td>0.0002961648</td><td>0.0001051684</td><td>0.001110485 </td><td>0.01123860  </td><td>0.1186697   </td><td>NA          </td><td>NA          </td></tr>\n",
       "</tbody>\n",
       "</table>\n"
      ],
      "text/latex": [
       "\\begin{tabular}{r|lllllllllll}\n",
       "  & day & gt & ht & conv1\\_gt & conv2\\_gt & ft & conv\\_ht & lambda\\_i & lambda\\_c & i & c\\\\\n",
       "\\hline\n",
       "\t48 & 47           & 1.016631e-12 & 0            & 7.306608e-06 & 0.0111453643 & 0.0039601502 & 0.013927243  & 0.42319333   & 1.4883063    &  2           &  1          \\\\\n",
       "\t49 & 48           & 3.750333e-13 & 0            & 3.754830e-06 & 0.0080295144 & 0.0028524996 & 0.011450626  & 0.30482652   & 1.2236477    &  0           &  0          \\\\\n",
       "\t50 & 49           & 1.375566e-13 & 0            & 1.903984e-06 & 0.0056666779 & 0.0020128344 & 0.009200645  & 0.21509742   & 0.9832080    &  0           &  3          \\\\\n",
       "\t51 & 50           & 5.007106e-14 & 0            & 9.531768e-07 & 0.0039208687 & 0.0013925851 & 0.007230084  & 0.14881575   & 0.7726281    &  0           &  0          \\\\\n",
       "\t52 & 51           & 1.809664e-14 & 0            & 4.713522e-07 & 0.0026619415 & 0.0009453866 & 0.005560589  & 0.10102680   & 0.5942210    &  0           &  0          \\\\\n",
       "\t53 & 52           & 6.550316e-15 & 0            & 2.303512e-07 & 0.0017746162 & 0.0006302241 & 0.004188562  & 0.06734760   & 0.4476020    & NA           & NA          \\\\\n",
       "\t54 & 53           & 2.331468e-15 & 0            & 1.113031e-07 & 0.0011625410 & 0.0004128422 & 0.003092311  & 0.04411754   & 0.3304534    & NA           & NA          \\\\\n",
       "\t55 & 54           & 8.881784e-16 & 0            & 5.319656e-08 & 0.0007488601 & 0.0002659291 & 0.002239102  & 0.02841797   & 0.2392770    & NA           & NA          \\\\\n",
       "\t56 & 55           & 3.330669e-16 & 0            & 2.515916e-08 & 0.0004746308 & 0.0001685440 & 0.001591200  & 0.01801111   & 0.1700404    & NA           & NA          \\\\\n",
       "\t57 & 56           & 0.000000e+00 & 0            & 1.177911e-08 & 0.0002961648 & 0.0001051684 & 0.001110485  & 0.01123860   & 0.1186697    & NA           & NA          \\\\\n",
       "\\end{tabular}\n"
      ],
      "text/markdown": [
       "\n",
       "| <!--/--> | day | gt | ht | conv1_gt | conv2_gt | ft | conv_ht | lambda_i | lambda_c | i | c | \n",
       "|---|---|---|---|---|---|---|---|---|---|\n",
       "| 48 | 47           | 1.016631e-12 | 0            | 7.306608e-06 | 0.0111453643 | 0.0039601502 | 0.013927243  | 0.42319333   | 1.4883063    |  2           |  1           | \n",
       "| 49 | 48           | 3.750333e-13 | 0            | 3.754830e-06 | 0.0080295144 | 0.0028524996 | 0.011450626  | 0.30482652   | 1.2236477    |  0           |  0           | \n",
       "| 50 | 49           | 1.375566e-13 | 0            | 1.903984e-06 | 0.0056666779 | 0.0020128344 | 0.009200645  | 0.21509742   | 0.9832080    |  0           |  3           | \n",
       "| 51 | 50           | 5.007106e-14 | 0            | 9.531768e-07 | 0.0039208687 | 0.0013925851 | 0.007230084  | 0.14881575   | 0.7726281    |  0           |  0           | \n",
       "| 52 | 51           | 1.809664e-14 | 0            | 4.713522e-07 | 0.0026619415 | 0.0009453866 | 0.005560589  | 0.10102680   | 0.5942210    |  0           |  0           | \n",
       "| 53 | 52           | 6.550316e-15 | 0            | 2.303512e-07 | 0.0017746162 | 0.0006302241 | 0.004188562  | 0.06734760   | 0.4476020    | NA           | NA           | \n",
       "| 54 | 53           | 2.331468e-15 | 0            | 1.113031e-07 | 0.0011625410 | 0.0004128422 | 0.003092311  | 0.04411754   | 0.3304534    | NA           | NA           | \n",
       "| 55 | 54           | 8.881784e-16 | 0            | 5.319656e-08 | 0.0007488601 | 0.0002659291 | 0.002239102  | 0.02841797   | 0.2392770    | NA           | NA           | \n",
       "| 56 | 55           | 3.330669e-16 | 0            | 2.515916e-08 | 0.0004746308 | 0.0001685440 | 0.001591200  | 0.01801111   | 0.1700404    | NA           | NA           | \n",
       "| 57 | 56           | 0.000000e+00 | 0            | 1.177911e-08 | 0.0002961648 | 0.0001051684 | 0.001110485  | 0.01123860   | 0.1186697    | NA           | NA           | \n",
       "\n",
       "\n"
      ],
      "text/plain": [
       "   day gt           ht conv1_gt     conv2_gt     ft           conv_ht    \n",
       "48 47  1.016631e-12 0  7.306608e-06 0.0111453643 0.0039601502 0.013927243\n",
       "49 48  3.750333e-13 0  3.754830e-06 0.0080295144 0.0028524996 0.011450626\n",
       "50 49  1.375566e-13 0  1.903984e-06 0.0056666779 0.0020128344 0.009200645\n",
       "51 50  5.007106e-14 0  9.531768e-07 0.0039208687 0.0013925851 0.007230084\n",
       "52 51  1.809664e-14 0  4.713522e-07 0.0026619415 0.0009453866 0.005560589\n",
       "53 52  6.550316e-15 0  2.303512e-07 0.0017746162 0.0006302241 0.004188562\n",
       "54 53  2.331468e-15 0  1.113031e-07 0.0011625410 0.0004128422 0.003092311\n",
       "55 54  8.881784e-16 0  5.319656e-08 0.0007488601 0.0002659291 0.002239102\n",
       "56 55  3.330669e-16 0  2.515916e-08 0.0004746308 0.0001685440 0.001591200\n",
       "57 56  0.000000e+00 0  1.177911e-08 0.0002961648 0.0001051684 0.001110485\n",
       "   lambda_i   lambda_c  i  c \n",
       "48 0.42319333 1.4883063  2  1\n",
       "49 0.30482652 1.2236477  0  0\n",
       "50 0.21509742 0.9832080  0  3\n",
       "51 0.14881575 0.7726281  0  0\n",
       "52 0.10102680 0.5942210  0  0\n",
       "53 0.06734760 0.4476020 NA NA\n",
       "54 0.04411754 0.3304534 NA NA\n",
       "55 0.02841797 0.2392770 NA NA\n",
       "56 0.01801111 0.1700404 NA NA\n",
       "57 0.01123860 0.1186697 NA NA"
      ]
     },
     "metadata": {},
     "output_type": "display_data"
    }
   ],
   "source": [
    "getPrediction(pars,maxDay) -> dfMLE \n",
    "dfMLE %>% tail(10)"
   ]
  },
  {
   "cell_type": "code",
   "execution_count": 125,
   "metadata": {},
   "outputs": [
    {
     "name": "stderr",
     "output_type": "stream",
     "text": [
      "Warning message:\n",
      "\"Removed 5 rows containing missing values (geom_bar).\"Warning message:\n",
      "\"Removed 5 rows containing missing values (geom_bar).\""
     ]
    },
    {
     "data": {
      "image/png": "[encoded data removed]"
     },
     "metadata": {},
     "output_type": "display_data"
    }
   ],
   "source": [
    "options(repr.plot.width=9,repr.plot.height=7.5)\n",
    "xmax = max(dfMLE$day)\n",
    "\n",
    "dfMLE %>%\n",
    "    select(one_of(\"day\",\"lambda_i\",\"i\")) %>%\n",
    "    rename(pred=lambda_i,obs=i) %>%\n",
    "    gather(Category,Count,-day) %>%\n",
    "    mutate(Category=factor(Category,levels=c(\"pred\",\"obs\") %>% rev)) %>%\n",
    "    ggplot(aes(x=day)) +\n",
    "        geom_bar(aes(y=Count,fill=Category),stat=\"identity\",position=position_dodge(1)) +\n",
    "        coord_cartesian(xlim=c(0,xmax)) +\n",
    "        guides(fill=F) +\n",
    "        labs(y=\"incidence by onset of symptoms\",x=\"days since index case\") +\n",
    "        theme(axis.text.x = element_text(angle = 45, hjust = .5, vjust=0.5),\n",
    "              strip.text.x = element_blank(),\n",
    "              panel.grid.minor.x = element_blank(),\n",
    "              strip.background = element_rect(colour=\"white\", fill=\"white\"),\n",
    "              legend.position=c(.2,.87),\n",
    "              plot.margin = unit(c(.5,1,.5,.5),\"lines\"),\n",
    "              legend.direction=\"horizontal\") -> plt_onset\n",
    "\n",
    "dfMLE %>%\n",
    "    select(one_of(\"day\",\"lambda_c\",\"c\")) %>%\n",
    "    rename(pred=lambda_c,obs=c) %>%\n",
    "    gather(Category,Count,-day) %>%\n",
    "    mutate(Category=factor(Category,levels=c(\"pred\",\"obs\") %>% rev)) %>%\n",
    "    ggplot(aes(x=day)) +\n",
    "        geom_bar(aes(y=Count,fill=Category),stat=\"identity\",position=position_dodge(1)) +\n",
    "        coord_cartesian(xlim=c(0,xmax)) +\n",
    "        guides(fill=F) +\n",
    "        labs(y=\"incidence by day of confirmation\",x=\"days since index case\") +\n",
    "        theme(axis.text.x = element_text(angle = 45, hjust = .5, vjust=0.5),\n",
    "              strip.text.x = element_blank(),\n",
    "              panel.grid.minor.x = element_blank(),\n",
    "              strip.background = element_rect(colour=\"white\", fill=\"white\"),\n",
    "              legend.position=c(.2,.87),\n",
    "              plot.margin = unit(c(.5,1,.5,.5),\"lines\"),\n",
    "              legend.direction=\"horizontal\") -> plt_confirmation\n",
    "\n",
    "getDelay(pars[1:2]) %>%\n",
    "    select(delta,ht,freq) %>%\n",
    "    rename(predicted=ht,observed=freq) %>%\n",
    "    gather(Category,Count,-delta) %>%\n",
    "    mutate(Category=factor(Category,levels=c(\"predicted\",\"observed\") %>% rev)) %>%\n",
    "    ggplot(aes(x=delta)) +\n",
    "        geom_bar(aes(y=Count,fill=Category),stat=\"identity\",position=position_dodge(1)) +\n",
    "        guides(fill=guide_legend(title.hjust = 0.5)) +\n",
    "        labs(y=\"delay distribution\",x=\"difference in days\") +\n",
    "        theme(axis.text.x = element_text(angle = 45, hjust = .5, vjust=0.5),\n",
    "              strip.text.x = element_blank(),\n",
    "              panel.grid.minor.x = element_blank(),\n",
    "              strip.background = element_rect(colour=\"white\", fill=\"white\"),\n",
    "              legend.position=c(1.25,.9),\n",
    "              plot.margin = unit(c(.5,4,.5,.5),\"lines\")\n",
    "             ) -> plt_delay\n",
    "\n",
    "grid.arrange(ggplotGrob(plt_onset), ggplotGrob(plt_confirmation), ggplotGrob(plt_delay),\n",
    "                 widths=c(1,1), heights=c(1,1), nrow=2, ncol=2)"
   ]
  },
  {
   "cell_type": "markdown",
   "metadata": {},
   "source": [
    "# Constructing profile-based confidence intervals"
   ]
  },
  {
   "cell_type": "code",
   "execution_count": 126,
   "metadata": {},
   "outputs": [
    {
     "data": {
      "text/html": [
       "<table>\n",
       "<tbody>\n",
       "\t<tr><td> 0.0280012450</td><td> 0.009796219 </td><td>-0.001213103 </td><td>-0.0004909395</td><td>-0.0003624566</td></tr>\n",
       "\t<tr><td> 0.0097962188</td><td> 0.044757286 </td><td> 0.010875210 </td><td>-0.0020431144</td><td>-0.0012476052</td></tr>\n",
       "\t<tr><td>-0.0012131025</td><td> 0.010875210 </td><td>53.878081569 </td><td>-0.0036072865</td><td> 0.0159755034</td></tr>\n",
       "\t<tr><td>-0.0004909395</td><td>-0.002043114 </td><td>-0.003607286 </td><td> 0.0571829975</td><td>-0.0270755637</td></tr>\n",
       "\t<tr><td>-0.0003624566</td><td>-0.001247605 </td><td> 0.015975503 </td><td>-0.0270755637</td><td> 0.0394285484</td></tr>\n",
       "</tbody>\n",
       "</table>\n"
      ],
      "text/latex": [
       "\\begin{tabular}{lllll}\n",
       "\t  0.0280012450 &  0.009796219  & -0.001213103  & -0.0004909395 & -0.0003624566\\\\\n",
       "\t  0.0097962188 &  0.044757286  &  0.010875210  & -0.0020431144 & -0.0012476052\\\\\n",
       "\t -0.0012131025 &  0.010875210  & 53.878081569  & -0.0036072865 &  0.0159755034\\\\\n",
       "\t -0.0004909395 & -0.002043114  & -0.003607286  &  0.0571829975 & -0.0270755637\\\\\n",
       "\t -0.0003624566 & -0.001247605  &  0.015975503  & -0.0270755637 &  0.0394285484\\\\\n",
       "\\end{tabular}\n"
      ],
      "text/markdown": [
       "\n",
       "|  0.0280012450 |  0.009796219  | -0.001213103  | -0.0004909395 | -0.0003624566 | \n",
       "|  0.0097962188 |  0.044757286  |  0.010875210  | -0.0020431144 | -0.0012476052 | \n",
       "| -0.0012131025 |  0.010875210  | 53.878081569  | -0.0036072865 |  0.0159755034 | \n",
       "| -0.0004909395 | -0.002043114  | -0.003607286  |  0.0571829975 | -0.0270755637 | \n",
       "| -0.0003624566 | -0.001247605  |  0.015975503  | -0.0270755637 |  0.0394285484 | \n",
       "\n",
       "\n"
      ],
      "text/plain": [
       "     [,1]          [,2]         [,3]         [,4]          [,5]         \n",
       "[1,]  0.0280012450  0.009796219 -0.001213103 -0.0004909395 -0.0003624566\n",
       "[2,]  0.0097962188  0.044757286  0.010875210 -0.0020431144 -0.0012476052\n",
       "[3,] -0.0012131025  0.010875210 53.878081569 -0.0036072865  0.0159755034\n",
       "[4,] -0.0004909395 -0.002043114 -0.003607286  0.0571829975 -0.0270755637\n",
       "[5,] -0.0003624566 -0.001247605  0.015975503 -0.0270755637  0.0394285484"
      ]
     },
     "metadata": {},
     "output_type": "display_data"
    },
    {
     "data": {
      "text/html": [
       "<ol class=list-inline>\n",
       "\t<li>0.16733572530596</li>\n",
       "\t<li>0.211559178959797</li>\n",
       "\t<li>7.34016904229513</li>\n",
       "\t<li>0.239129666630379</li>\n",
       "\t<li>0.19856623184983</li>\n",
       "</ol>\n"
      ],
      "text/latex": [
       "\\begin{enumerate*}\n",
       "\\item 0.16733572530596\n",
       "\\item 0.211559178959797\n",
       "\\item 7.34016904229513\n",
       "\\item 0.239129666630379\n",
       "\\item 0.19856623184983\n",
       "\\end{enumerate*}\n"
      ],
      "text/markdown": [
       "1. 0.16733572530596\n",
       "2. 0.211559178959797\n",
       "3. 7.34016904229513\n",
       "4. 0.239129666630379\n",
       "5. 0.19856623184983\n",
       "\n",
       "\n"
      ],
      "text/plain": [
       "[1] 0.1673357 0.2115592 7.3401690 0.2391297 0.1985662"
      ]
     },
     "metadata": {},
     "output_type": "display_data"
    }
   ],
   "source": [
    "(vc = solve(-sol$hessian))\n",
    "(sd = sqrt(diag(vc)))"
   ]
  },
  {
   "cell_type": "code",
   "execution_count": 127,
   "metadata": {},
   "outputs": [
    {
     "data": {
      "text/html": [
       "<table>\n",
       "<thead><tr><th scope=col>h1</th><th scope=col>h2</th><th scope=col>K</th><th scope=col>R2</th><th scope=col>R3</th></tr></thead>\n",
       "<tbody>\n",
       "\t<tr><td>2.307229 </td><td>4.746261 </td><td>111.2950 </td><td>0.8576985</td><td>1.2265949</td></tr>\n",
       "\t<tr><td>2.017885 </td><td>4.808011 </td><td>105.6241 </td><td>1.2297507</td><td>0.9539003</td></tr>\n",
       "\t<tr><td>2.218977 </td><td>4.551402 </td><td>109.9967 </td><td>0.9421805</td><td>1.5330325</td></tr>\n",
       "\t<tr><td>2.377390 </td><td>5.271913 </td><td>107.8939 </td><td>1.0384945</td><td>1.1971793</td></tr>\n",
       "\t<tr><td>2.275252 </td><td>4.535958 </td><td>127.6541 </td><td>1.5978565</td><td>0.8475827</td></tr>\n",
       "\t<tr><td>2.120999 </td><td>4.698178 </td><td>105.3899 </td><td>0.7101338</td><td>1.0952053</td></tr>\n",
       "</tbody>\n",
       "</table>\n"
      ],
      "text/latex": [
       "\\begin{tabular}{r|lllll}\n",
       " h1 & h2 & K & R2 & R3\\\\\n",
       "\\hline\n",
       "\t 2.307229  & 4.746261  & 111.2950  & 0.8576985 & 1.2265949\\\\\n",
       "\t 2.017885  & 4.808011  & 105.6241  & 1.2297507 & 0.9539003\\\\\n",
       "\t 2.218977  & 4.551402  & 109.9967  & 0.9421805 & 1.5330325\\\\\n",
       "\t 2.377390  & 5.271913  & 107.8939  & 1.0384945 & 1.1971793\\\\\n",
       "\t 2.275252  & 4.535958  & 127.6541  & 1.5978565 & 0.8475827\\\\\n",
       "\t 2.120999  & 4.698178  & 105.3899  & 0.7101338 & 1.0952053\\\\\n",
       "\\end{tabular}\n"
      ],
      "text/markdown": [
       "\n",
       "h1 | h2 | K | R2 | R3 | \n",
       "|---|---|---|---|---|---|\n",
       "| 2.307229  | 4.746261  | 111.2950  | 0.8576985 | 1.2265949 | \n",
       "| 2.017885  | 4.808011  | 105.6241  | 1.2297507 | 0.9539003 | \n",
       "| 2.218977  | 4.551402  | 109.9967  | 0.9421805 | 1.5330325 | \n",
       "| 2.377390  | 5.271913  | 107.8939  | 1.0384945 | 1.1971793 | \n",
       "| 2.275252  | 4.535958  | 127.6541  | 1.5978565 | 0.8475827 | \n",
       "| 2.120999  | 4.698178  | 105.3899  | 0.7101338 | 1.0952053 | \n",
       "\n",
       "\n"
      ],
      "text/plain": [
       "  h1       h2       K        R2        R3       \n",
       "1 2.307229 4.746261 111.2950 0.8576985 1.2265949\n",
       "2 2.017885 4.808011 105.6241 1.2297507 0.9539003\n",
       "3 2.218977 4.551402 109.9967 0.9421805 1.5330325\n",
       "4 2.377390 5.271913 107.8939 1.0384945 1.1971793\n",
       "5 2.275252 4.535958 127.6541 1.5978565 0.8475827\n",
       "6 2.120999 4.698178 105.3899 0.7101338 1.0952053"
      ]
     },
     "metadata": {},
     "output_type": "display_data"
    }
   ],
   "source": [
    "# sampling\n",
    "sample = 1e3\n",
    "hess_sam = MASS::mvrnorm(n=sample, mu=sol$par, \n",
    "                     Sigma=solve(-sol$hessian),\n",
    "                     tol=1e-06, empirical=FALSE, EISPACK=FALSE)\n",
    "hess_sam %>% as.data.frame -> df_hess\n",
    "\n",
    "clmn_nms = c(\"h1\",\"h2\",\"K\")\n",
    "if (length(sol$par)>3) clmn_nms = c(clmn_nms,\"R2\")\n",
    "if (length(sol$par)>4) clmn_nms = c(clmn_nms,\"R3\")\n",
    "colnames(df_hess) = clmn_nms\n",
    "df_hess %>% head"
   ]
  },
  {
   "cell_type": "code",
   "execution_count": 128,
   "metadata": {},
   "outputs": [
    {
     "data": {
      "text/html": [
       "<table>\n",
       "<thead><tr><th scope=col>h1</th><th scope=col>h2</th><th scope=col>K</th><th scope=col>R2</th><th scope=col>R3</th></tr></thead>\n",
       "<tbody>\n",
       "\t<tr><td>2.307229 </td><td>4.746261 </td><td>111.2950 </td><td>0.8576985</td><td>1.2265949</td></tr>\n",
       "\t<tr><td>2.017885 </td><td>4.808011 </td><td>105.6241 </td><td>1.2297507</td><td>0.9539003</td></tr>\n",
       "\t<tr><td>2.218977 </td><td>4.551402 </td><td>109.9967 </td><td>0.9421805</td><td>1.1971793</td></tr>\n",
       "\t<tr><td>2.377390 </td><td>4.535958 </td><td>107.8939 </td><td>1.0384945</td><td>0.8475827</td></tr>\n",
       "\t<tr><td>2.275252 </td><td>4.698178 </td><td>105.3899 </td><td>1.5978565</td><td>1.0952053</td></tr>\n",
       "\t<tr><td>2.120999 </td><td>4.838020 </td><td>118.2299 </td><td>0.9650966</td><td>0.9683923</td></tr>\n",
       "</tbody>\n",
       "</table>\n"
      ],
      "text/latex": [
       "\\begin{tabular}{r|lllll}\n",
       " h1 & h2 & K & R2 & R3\\\\\n",
       "\\hline\n",
       "\t 2.307229  & 4.746261  & 111.2950  & 0.8576985 & 1.2265949\\\\\n",
       "\t 2.017885  & 4.808011  & 105.6241  & 1.2297507 & 0.9539003\\\\\n",
       "\t 2.218977  & 4.551402  & 109.9967  & 0.9421805 & 1.1971793\\\\\n",
       "\t 2.377390  & 4.535958  & 107.8939  & 1.0384945 & 0.8475827\\\\\n",
       "\t 2.275252  & 4.698178  & 105.3899  & 1.5978565 & 1.0952053\\\\\n",
       "\t 2.120999  & 4.838020  & 118.2299  & 0.9650966 & 0.9683923\\\\\n",
       "\\end{tabular}\n"
      ],
      "text/markdown": [
       "\n",
       "h1 | h2 | K | R2 | R3 | \n",
       "|---|---|---|---|---|---|\n",
       "| 2.307229  | 4.746261  | 111.2950  | 0.8576985 | 1.2265949 | \n",
       "| 2.017885  | 4.808011  | 105.6241  | 1.2297507 | 0.9539003 | \n",
       "| 2.218977  | 4.551402  | 109.9967  | 0.9421805 | 1.1971793 | \n",
       "| 2.377390  | 4.535958  | 107.8939  | 1.0384945 | 0.8475827 | \n",
       "| 2.275252  | 4.698178  | 105.3899  | 1.5978565 | 1.0952053 | \n",
       "| 2.120999  | 4.838020  | 118.2299  | 0.9650966 | 0.9683923 | \n",
       "\n",
       "\n"
      ],
      "text/plain": [
       "  h1       h2       K        R2        R3       \n",
       "1 2.307229 4.746261 111.2950 0.8576985 1.2265949\n",
       "2 2.017885 4.808011 105.6241 1.2297507 0.9539003\n",
       "3 2.218977 4.551402 109.9967 0.9421805 1.1971793\n",
       "4 2.377390 4.535958 107.8939 1.0384945 0.8475827\n",
       "5 2.275252 4.698178 105.3899 1.5978565 1.0952053\n",
       "6 2.120999 4.838020 118.2299 0.9650966 0.9683923"
      ]
     },
     "metadata": {},
     "output_type": "display_data"
    }
   ],
   "source": [
    "# selecting 95% middle range\n",
    "data.frame(\n",
    "    h1=filter(df_hess,h1 > quantile(h1, 0.025) & h1 < quantile(h1, 0.975))$h1,\n",
    "    h2=filter(df_hess,h2 > quantile(h2, 0.025) & h2 < quantile(h2, 0.975))$h2,\n",
    "    K=filter(df_hess,K > quantile(K, 0.025) & K < quantile(K, 0.975))$K\n",
    ") -> df_perturb\n",
    "    \n",
    "if(length(sol$par)>3) \n",
    "    df_perturb %<>% cbind(data.frame(R2=filter(df_hess,R2 > quantile(R2, 0.025) & R2 < quantile(R2, 0.975))$R2))\n",
    "if(length(sol$par)>4) \n",
    "    df_perturb %<>% cbind(data.frame(R3=filter(df_hess,R3 > quantile(R3, 0.025) & R3 < quantile(R3, 0.975))$R3))\n",
    "\n",
    "df_perturb %>% head"
   ]
  },
  {
   "cell_type": "code",
   "execution_count": 129,
   "metadata": {},
   "outputs": [],
   "source": [
    "# prediction\n",
    "res = NULL\n",
    "for (i in 1:nrow(df_perturb)) {\n",
    "    res = rbind(res,getPrediction(df_perturb[i,] %>% as.numeric,maxDay) %>% select(day,contains(\"lambda\"))) }"
   ]
  },
  {
   "cell_type": "code",
   "execution_count": 130,
   "metadata": {},
   "outputs": [],
   "source": [
    "res %>% \n",
    "    group_by(day) %>%\n",
    "    summarize(c025_i=quantile(lambda_i,0.025),median_i=median(lambda_i),c975_i=quantile(lambda_i,0.975),\n",
    "              c025_c=quantile(lambda_c,0.025),median_c=median(lambda_c),c975_c=quantile(lambda_c,0.975)) -> result"
   ]
  },
  {
   "cell_type": "code",
   "execution_count": 131,
   "metadata": {},
   "outputs": [
    {
     "name": "stderr",
     "output_type": "stream",
     "text": [
      "Warning message:\n",
      "\"Removed 5 rows containing missing values (geom_bar).\"Warning message:\n",
      "\"Removed 5 rows containing missing values (geom_bar).\""
     ]
    },
    {
     "data": {
      "image/png": "[encoded data removed]"
     },
     "metadata": {},
     "output_type": "display_data"
    }
   ],
   "source": [
    "options(repr.plot.width=8,repr.plot.height=4)\n",
    "xmax = max(dfMLE$day)\n",
    "\n",
    "dfMLE %>%\n",
    "    ggplot(aes(x=day)) +\n",
    "        geom_bar(aes(y=i,fill=\"red\"),stat=\"identity\",position=position_dodge(1)) +\n",
    "        geom_ribbon(data=result,aes(ymin=c025_i,ymax=c975_i),fill=\"blue\",alpha=.5) +\n",
    "        geom_line(data=result,aes(y=median_i),size=.7,color=\"blue\") +\n",
    "        coord_cartesian(xlim=c(0,maxDay)) +\n",
    "        guides(fill=F) +\n",
    "        labs(y=\"incidence by onset of symptoms\",x=\"days since index case\") +\n",
    "        theme_bw() +\n",
    "        theme(axis.text.x = element_text(angle = 45, hjust = .5, vjust=0.5),\n",
    "              strip.text.x = element_blank(),\n",
    "              panel.grid.minor.x = element_blank(),\n",
    "              strip.background = element_rect(colour=\"white\", fill=\"white\"),\n",
    "              legend.position=c(.2,.87),\n",
    "              plot.margin = unit(c(.5,1,.5,.5),\"lines\"),\n",
    "              legend.direction=\"horizontal\") -> plt_onset\n",
    "\n",
    "dfMLE %>%\n",
    "    ggplot(aes(x=day,fill=\"red\")) +\n",
    "        geom_bar(aes(y=c),stat=\"identity\",position=position_dodge(1)) +\n",
    "        geom_ribbon(data=result,aes(ymin=c025_c,ymax=c975_c),fill=\"blue\",alpha=.5) +\n",
    "        geom_line(data=result,aes(y=median_c),size=.7,color=\"blue\") +\n",
    "        coord_cartesian(xlim=c(0,maxDay)) +\n",
    "        guides(fill=F) +\n",
    "        labs(y=\"incidence by day of confirmation\",x=\"days since index case\") +\n",
    "        theme_bw() +\n",
    "        theme(axis.text.x = element_text(angle = 45, hjust = .5, vjust=0.5),\n",
    "              strip.text.x = element_blank(),\n",
    "              panel.grid.minor.x = element_blank(),\n",
    "              strip.background = element_rect(colour=\"white\", fill=\"white\"),\n",
    "              legend.position=c(.2,.87),\n",
    "              plot.margin = unit(c(.5,1,.5,.5),\"lines\"),\n",
    "              legend.direction=\"horizontal\") -> plt_confirmation\n",
    "\n",
    "p = grid.arrange(ggplotGrob(plt_onset), ggplotGrob(plt_confirmation), \n",
    "                 widths=c(1,1), heights=c(1), nrow=1, ncol=2)"
   ]
  },
  {
   "cell_type": "markdown",
   "metadata": {},
   "source": [
    "# Performing the analysis for all available epicurves"
   ]
  },
  {
   "cell_type": "code",
   "execution_count": 133,
   "metadata": {},
   "outputs": [
    {
     "name": "stderr",
     "output_type": "stream",
     "text": [
      "May07\n"
     ]
    },
    {
     "name": "stdout",
     "output_type": "stream",
     "text": [
      "    mean_h    var_h   par1_h  par2_h        K       R2       R3     loglk\n",
      "1 4.188808 3.932184 2.233352 4.72945 106.8651 1.208452 1.006189 -388.4918\n",
      "       AIC   rmse_i   rmse_c\n",
      "1 786.9837 1.444368 1.817581\n"
     ]
    },
    {
     "name": "stderr",
     "output_type": "stream",
     "text": [
      "May03\n"
     ]
    },
    {
     "name": "stdout",
     "output_type": "stream",
     "text": [
      "    mean_h    var_h par1_h   par2_h        K       R2        R3    loglk\n",
      "1 4.256681 3.904619 2.2827 4.805234 105.9881 1.211313 0.9713265 -372.948\n",
      "       AIC   rmse_i   rmse_c\n",
      "1 755.8961 1.483565 1.851855\n"
     ]
    },
    {
     "name": "stderr",
     "output_type": "stream",
     "text": [
      "Apr29\n"
     ]
    },
    {
     "name": "stdout",
     "output_type": "stream",
     "text": [
      "    mean_h    var_h   par1_h   par2_h        K       R2        R3     loglk\n",
      "1 4.134011 3.326785 2.415988 4.662799 88.15343 1.394332 0.3404667 -304.2928\n",
      "       AIC   rmse_i   rmse_c\n",
      "1 618.5856 1.322711 1.595797\n"
     ]
    },
    {
     "name": "stderr",
     "output_type": "stream",
     "text": [
      "Apr25\n"
     ]
    },
    {
     "name": "stdout",
     "output_type": "stream",
     "text": [
      "    mean_h    var_h   par1_h   par2_h        K      R2        R3     loglk\n",
      "1 4.113223 2.740391 2.677215 4.626645 88.48431 1.35074 0.3857624 -279.9106\n",
      "       AIC   rmse_i  rmse_c\n",
      "1 569.8213 1.327416 1.62549\n"
     ]
    },
    {
     "name": "stderr",
     "output_type": "stream",
     "text": [
      "Apr21\n"
     ]
    },
    {
     "name": "stdout",
     "output_type": "stream",
     "text": [
      "    mean_h    var_h   par1_h   par2_h        K      R2     loglk      AIC\n",
      "1 4.170666 2.821014 2.675333 4.691367 74.07156 1.40762 -244.8963 497.7926\n",
      "    rmse_i   rmse_c\n",
      "1 1.237728 1.635791\n"
     ]
    },
    {
     "name": "stderr",
     "output_type": "stream",
     "text": [
      "Apr17\n"
     ]
    },
    {
     "name": "stdout",
     "output_type": "stream",
     "text": [
      "    mean_h    var_h   par1_h   par2_h        K       R2     loglk      AIC\n",
      "1 4.139312 2.854171 2.635619 4.658345 69.53227 1.235932 -216.5043 441.0085\n",
      "    rmse_i   rmse_c\n",
      "1 1.386478 1.577228\n"
     ]
    },
    {
     "name": "stderr",
     "output_type": "stream",
     "text": [
      "Apr13\n"
     ]
    },
    {
     "name": "stdout",
     "output_type": "stream",
     "text": [
      "    mean_h    var_h   par1_h   par2_h        K        R2     loglk      AIC\n",
      "1 4.034125 3.038345 2.473014 4.547877 57.62557 0.7940415 -169.0011 346.0022\n",
      "    rmse_i   rmse_c\n",
      "1 1.324904 1.424916\n"
     ]
    },
    {
     "name": "stderr",
     "output_type": "stream",
     "text": [
      "Apr09\n"
     ]
    },
    {
     "name": "stdout",
     "output_type": "stream",
     "text": [
      "    mean_h    var_h  par1_h   par2_h        K     loglk     AIC   rmse_i\n",
      "1 4.260009 3.723151 2.34618 4.807342 34.76968 -124.4105 254.821 1.094393\n",
      "    rmse_c\n",
      "1 1.318751\n"
     ]
    },
    {
     "name": "stderr",
     "output_type": "stream",
     "text": [
      "Apr05\n"
     ]
    },
    {
     "name": "stdout",
     "output_type": "stream",
     "text": [
      "    mean_h   var_h   par1_h  par2_h        K     loglk      AIC    rmse_i\n",
      "1 4.211082 3.80494 2.288208 4.75364 28.44927 -93.60308 193.2062 0.8486471\n",
      "    rmse_c\n",
      "1 1.365003\n"
     ]
    },
    {
     "name": "stderr",
     "output_type": "stream",
     "text": [
      "Apr01\n"
     ]
    },
    {
     "name": "stdout",
     "output_type": "stream",
     "text": [
      "    mean_h    var_h   par1_h   par2_h        K     loglk      AIC   rmse_i\n",
      "1 3.893677 3.109383 2.346589 4.393932 17.43019 -51.35994 108.7199 1.143207\n",
      "    rmse_c\n",
      "1 1.076107\n"
     ]
    }
   ],
   "source": [
    "final = NULL\n",
    "pars_final = NULL\n",
    "fourth_generation = TRUE\n",
    "third_generation = TRUE\n",
    "\n",
    "for (current_epicurve in rev(unique(df$epicurve))) { \n",
    "    message(current_epicurve)\n",
    "    # initial parameter values used in optim function\n",
    "    pars = c(2,4,50,1,.5)\n",
    "    \n",
    "    df %>% \n",
    "        filter(epicurve==current_epicurve) %>% \n",
    "        select(-epicurve) -> df_current\n",
    "\n",
    "    Df = data.frame(day=0:(unclass(as.Date('2018'%&%current_epicurve,\"%Y%b%d\"))-unclass(as.Date('2018-03-17'))))\n",
    "\n",
    "    df_current %>% \n",
    "        filter(day_onset>0) %>% #removing index case\n",
    "        group_by(day_onset) %>%\n",
    "        count %>%\n",
    "        rename(day=day_onset) %>%\n",
    "        right_join(Df,by=\"day\") %>%\n",
    "        mutate(n=ifelse(is.na(n),0,n)) %>%\n",
    "        rename(i=n) -> Df\n",
    "\n",
    "    df_current %>%\n",
    "        filter(day_onset>0) %>% #removing index case\n",
    "        group_by(day_confirmation) %>%\n",
    "        count %>%\n",
    "        rename(day=day_confirmation) %>%\n",
    "        right_join(Df,by=\"day\") %>%\n",
    "        mutate(n=ifelse(is.na(n),0,n)) %>%\n",
    "        rename(c=n) %>%\n",
    "        select(day,i,c) %>%\n",
    "        arrange(day) -> Df\n",
    "    \n",
    "    if (fourth_generation) {\n",
    "        options(warn=-1)\n",
    "        sol = optim(pars,loglk_four_generations,method=\"L-BFGS-B\",control=list(fnscale=-1),lower=rep(0,5),\n",
    "                    hessian=TRUE)\n",
    "        options(warn=0)\n",
    "\n",
    "        pars = sol$par }\n",
    "    \n",
    "    if (pars[length(pars)]==0) fourth_generation = FALSE\n",
    "    \n",
    "    if (!fourth_generation) {\n",
    "        options(warn=-1)\n",
    "        sol = optim(pars[1:4],loglk_three_generations,method=\"L-BFGS-B\",control=list(fnscale=-1),lower=rep(0,4),\n",
    "                    hessian=TRUE)\n",
    "        options(warn=0)\n",
    "\n",
    "        pars = sol$par }\n",
    "\n",
    "    if (pars[length(pars)]==0) third_generation = FALSE\n",
    "\n",
    "    if (!third_generation) { \n",
    "        options(warn=-1)\n",
    "        sol = optim(pars[1:3],loglk_two_generations,method=\"L-BFGS-B\",control=list(fnscale=-1),lower=rep(0,3),\n",
    "                    hessian=TRUE)\n",
    "        options(warn=0) \n",
    "\n",
    "        pars = sol$par }\n",
    "    \n",
    "    # Weibull distribution mean and variance\n",
    "    pars_h = c(pars[2]*gamma(1+1/pars[1]),pars[2]^2*(gamma(1+2/pars[1])-(gamma(1+1/pars[1]))^2))\n",
    "    \n",
    "    # Maximum likelihood estimates (MLE)\n",
    "    dfMLE = getPrediction(pars,maxDay) %>% rename(`MLE_i`=`lambda_i`,`MLE_c`=`lambda_c`)\n",
    "    \n",
    "    # RMSE\n",
    "    getPrediction(pars,maxDay) %>%\n",
    "        na.omit %>%\n",
    "        mutate(epsilon_i = (lambda_i-i), epsilon_c = (lambda_c-c)) %>%\n",
    "        summarize(rmse_i = sqrt(sum(epsilon_i^2)/n()),rmse_c = sqrt(sum(epsilon_c^2)/n())) %>% as.numeric -> rmse\n",
    "    \n",
    "    npars = length(pars)\n",
    "    output = data.frame(t(c(pars_h,pars,sol$value,2*(npars-sol$value),rmse)))\n",
    "    clmn_nms = c(\"mean_h\",\"var_h\",\"par1_h\",\"par2_h\",\"K\")\n",
    "    if (third_generation) clmn_nms = c(clmn_nms,\"R2\")\n",
    "    if (fourth_generation) clmn_nms = c(clmn_nms,\"R3\")\n",
    "    clmn_nms = c(clmn_nms,\"loglk\",\"AIC\",\"rmse_i\",\"rmse_c\")\n",
    "    colnames(output) = clmn_nms\n",
    "\n",
    "    print(output) \n",
    "    \n",
    "    output %>%\n",
    "        gather(parameter,estimate) %>%\n",
    "        mutate(epicurve=current_epicurve) %>%\n",
    "        rbind(pars_final) -> pars_final\n",
    "    \n",
    "    sample = 1e3\n",
    "    hess_sam = MASS::mvrnorm(n=sample, mu=sol$par, \n",
    "                         Sigma=solve(-sol$hessian),\n",
    "                         tol=1e-06, empirical=FALSE, EISPACK=FALSE)\n",
    "    hess_sam %>% as.data.frame -> df_hess\n",
    "\n",
    "    clmn_nms = c(\"h1\",\"h2\",\"K\")\n",
    "    if (length(sol$par)>3) clmn_nms = c(clmn_nms,\"R2\")\n",
    "    if (length(sol$par)>4) clmn_nms = c(clmn_nms,\"R3\")\n",
    "    colnames(df_hess) = clmn_nms\n",
    "    \n",
    "    data.frame(\n",
    "        h1=filter(df_hess,h1 > quantile(h1, 0.025) & h1 < quantile(h1, 0.975))$h1,\n",
    "        h2=filter(df_hess,h2 > quantile(h2, 0.025) & h2 < quantile(h2, 0.975))$h2,\n",
    "        K=filter(df_hess,K > quantile(K, 0.025) & K < quantile(K, 0.975))$K\n",
    "    ) -> df_perturb\n",
    "\n",
    "    if(length(sol$par)>3) \n",
    "        df_perturb %<>% cbind(data.frame(R2=filter(df_hess,R2 > quantile(R2, 0.025) & R2 < quantile(R2, 0.975))$R2))\n",
    "    if(length(sol$par)>4) \n",
    "        df_perturb %<>% cbind(data.frame(R3=filter(df_hess,R3 > quantile(R3, 0.025) & R3 < quantile(R3, 0.975))$R3))\n",
    "    \n",
    "    res = NULL\n",
    "    for (i in 1:nrow(df_perturb)) {\n",
    "        res = rbind(res,getPrediction(df_perturb[i,] %>% as.numeric,maxDay) %>% select(day,contains(\"lambda\")))\n",
    "    }\n",
    "    \n",
    "    res %>% \n",
    "    group_by(day) %>%\n",
    "    summarize(c025_i=quantile(lambda_i,0.025),median_i=median(lambda_i),c975_i=quantile(lambda_i,0.975),\n",
    "              c025_c=quantile(lambda_c,0.025),median_c=median(lambda_c),c975_c=quantile(lambda_c,0.975)) -> result\n",
    "    \n",
    "    result %>% \n",
    "        mutate(epicurve=current_epicurve) %>%\n",
    "        left_join(Df,by=\"day\") %>%\n",
    "        left_join(dfMLE %>% select(one_of(\"day\",\"MLE_i\",\"MLE_c\")),by=\"day\") %>%\n",
    "        rbind(final) -> final\n",
    "}"
   ]
  },
  {
   "cell_type": "markdown",
   "metadata": {},
   "source": [
    "# Output that is further used to generate Table 1"
   ]
  },
  {
   "cell_type": "code",
   "execution_count": 134,
   "metadata": {},
   "outputs": [
    {
     "data": {
      "text/html": [
       "<table>\n",
       "<thead><tr><th scope=col>epicurve</th><th scope=col>mean_h</th><th scope=col>var_h</th><th scope=col>par1_h</th><th scope=col>par2_h</th><th scope=col>K</th><th scope=col>loglk</th><th scope=col>AIC</th><th scope=col>rmse_i</th><th scope=col>rmse_c</th></tr></thead>\n",
       "<tbody>\n",
       "\t<tr><td>Apr01     </td><td>3.893677  </td><td>3.109383  </td><td>2.346589  </td><td>4.393932  </td><td> 17.43019 </td><td> -51.35994</td><td>108.7199  </td><td>1.1432066 </td><td>1.076107  </td></tr>\n",
       "\t<tr><td>Apr05     </td><td>4.211082  </td><td>3.804940  </td><td>2.288208  </td><td>4.753640  </td><td> 28.44927 </td><td> -93.60308</td><td>193.2062  </td><td>0.8486471 </td><td>1.365003  </td></tr>\n",
       "\t<tr><td>Apr09     </td><td>4.260009  </td><td>3.723151  </td><td>2.346180  </td><td>4.807342  </td><td> 34.76968 </td><td>-124.41048</td><td>254.8210  </td><td>1.0943927 </td><td>1.318751  </td></tr>\n",
       "\t<tr><td>Apr13     </td><td>4.034125  </td><td>3.038345  </td><td>2.473014  </td><td>4.547877  </td><td> 57.62557 </td><td>-169.00110</td><td>346.0022  </td><td>1.3249035 </td><td>1.424916  </td></tr>\n",
       "\t<tr><td>Apr17     </td><td>4.139312  </td><td>2.854171  </td><td>2.635619  </td><td>4.658345  </td><td> 69.53227 </td><td>-216.50426</td><td>441.0085  </td><td>1.3864776 </td><td>1.577228  </td></tr>\n",
       "\t<tr><td>Apr21     </td><td>4.170666  </td><td>2.821014  </td><td>2.675333  </td><td>4.691367  </td><td> 74.07156 </td><td>-244.89629</td><td>497.7926  </td><td>1.2377283 </td><td>1.635791  </td></tr>\n",
       "\t<tr><td>Apr25     </td><td>4.113223  </td><td>2.740391  </td><td>2.677215  </td><td>4.626645  </td><td> 88.48431 </td><td>-279.91064</td><td>569.8213  </td><td>1.3274160 </td><td>1.625490  </td></tr>\n",
       "\t<tr><td>Apr29     </td><td>4.134011  </td><td>3.326785  </td><td>2.415988  </td><td>4.662799  </td><td> 88.15343 </td><td>-304.29278</td><td>618.5856  </td><td>1.3227114 </td><td>1.595797  </td></tr>\n",
       "\t<tr><td>May03     </td><td>4.256681  </td><td>3.904619  </td><td>2.282700  </td><td>4.805234  </td><td>105.98810 </td><td>-372.94805</td><td>755.8961  </td><td>1.4835655 </td><td>1.851855  </td></tr>\n",
       "\t<tr><td>May07     </td><td>4.188808  </td><td>3.932184  </td><td>2.233352  </td><td>4.729450  </td><td>106.86515 </td><td>-388.49184</td><td>786.9837  </td><td>1.4443683 </td><td>1.817581  </td></tr>\n",
       "</tbody>\n",
       "</table>\n"
      ],
      "text/latex": [
       "\\begin{tabular}{r|llllllllll}\n",
       " epicurve & mean\\_h & var\\_h & par1\\_h & par2\\_h & K & loglk & AIC & rmse\\_i & rmse\\_c\\\\\n",
       "\\hline\n",
       "\t Apr01      & 3.893677   & 3.109383   & 2.346589   & 4.393932   &  17.43019  &  -51.35994 & 108.7199   & 1.1432066  & 1.076107  \\\\\n",
       "\t Apr05      & 4.211082   & 3.804940   & 2.288208   & 4.753640   &  28.44927  &  -93.60308 & 193.2062   & 0.8486471  & 1.365003  \\\\\n",
       "\t Apr09      & 4.260009   & 3.723151   & 2.346180   & 4.807342   &  34.76968  & -124.41048 & 254.8210   & 1.0943927  & 1.318751  \\\\\n",
       "\t Apr13      & 4.034125   & 3.038345   & 2.473014   & 4.547877   &  57.62557  & -169.00110 & 346.0022   & 1.3249035  & 1.424916  \\\\\n",
       "\t Apr17      & 4.139312   & 2.854171   & 2.635619   & 4.658345   &  69.53227  & -216.50426 & 441.0085   & 1.3864776  & 1.577228  \\\\\n",
       "\t Apr21      & 4.170666   & 2.821014   & 2.675333   & 4.691367   &  74.07156  & -244.89629 & 497.7926   & 1.2377283  & 1.635791  \\\\\n",
       "\t Apr25      & 4.113223   & 2.740391   & 2.677215   & 4.626645   &  88.48431  & -279.91064 & 569.8213   & 1.3274160  & 1.625490  \\\\\n",
       "\t Apr29      & 4.134011   & 3.326785   & 2.415988   & 4.662799   &  88.15343  & -304.29278 & 618.5856   & 1.3227114  & 1.595797  \\\\\n",
       "\t May03      & 4.256681   & 3.904619   & 2.282700   & 4.805234   & 105.98810  & -372.94805 & 755.8961   & 1.4835655  & 1.851855  \\\\\n",
       "\t May07      & 4.188808   & 3.932184   & 2.233352   & 4.729450   & 106.86515  & -388.49184 & 786.9837   & 1.4443683  & 1.817581  \\\\\n",
       "\\end{tabular}\n"
      ],
      "text/markdown": [
       "\n",
       "epicurve | mean_h | var_h | par1_h | par2_h | K | loglk | AIC | rmse_i | rmse_c | \n",
       "|---|---|---|---|---|---|---|---|---|---|\n",
       "| Apr01      | 3.893677   | 3.109383   | 2.346589   | 4.393932   |  17.43019  |  -51.35994 | 108.7199   | 1.1432066  | 1.076107   | \n",
       "| Apr05      | 4.211082   | 3.804940   | 2.288208   | 4.753640   |  28.44927  |  -93.60308 | 193.2062   | 0.8486471  | 1.365003   | \n",
       "| Apr09      | 4.260009   | 3.723151   | 2.346180   | 4.807342   |  34.76968  | -124.41048 | 254.8210   | 1.0943927  | 1.318751   | \n",
       "| Apr13      | 4.034125   | 3.038345   | 2.473014   | 4.547877   |  57.62557  | -169.00110 | 346.0022   | 1.3249035  | 1.424916   | \n",
       "| Apr17      | 4.139312   | 2.854171   | 2.635619   | 4.658345   |  69.53227  | -216.50426 | 441.0085   | 1.3864776  | 1.577228   | \n",
       "| Apr21      | 4.170666   | 2.821014   | 2.675333   | 4.691367   |  74.07156  | -244.89629 | 497.7926   | 1.2377283  | 1.635791   | \n",
       "| Apr25      | 4.113223   | 2.740391   | 2.677215   | 4.626645   |  88.48431  | -279.91064 | 569.8213   | 1.3274160  | 1.625490   | \n",
       "| Apr29      | 4.134011   | 3.326785   | 2.415988   | 4.662799   |  88.15343  | -304.29278 | 618.5856   | 1.3227114  | 1.595797   | \n",
       "| May03      | 4.256681   | 3.904619   | 2.282700   | 4.805234   | 105.98810  | -372.94805 | 755.8961   | 1.4835655  | 1.851855   | \n",
       "| May07      | 4.188808   | 3.932184   | 2.233352   | 4.729450   | 106.86515  | -388.49184 | 786.9837   | 1.4443683  | 1.817581   | \n",
       "\n",
       "\n"
      ],
      "text/plain": [
       "   epicurve mean_h   var_h    par1_h   par2_h   K         loglk      AIC     \n",
       "1  Apr01    3.893677 3.109383 2.346589 4.393932  17.43019  -51.35994 108.7199\n",
       "2  Apr05    4.211082 3.804940 2.288208 4.753640  28.44927  -93.60308 193.2062\n",
       "3  Apr09    4.260009 3.723151 2.346180 4.807342  34.76968 -124.41048 254.8210\n",
       "4  Apr13    4.034125 3.038345 2.473014 4.547877  57.62557 -169.00110 346.0022\n",
       "5  Apr17    4.139312 2.854171 2.635619 4.658345  69.53227 -216.50426 441.0085\n",
       "6  Apr21    4.170666 2.821014 2.675333 4.691367  74.07156 -244.89629 497.7926\n",
       "7  Apr25    4.113223 2.740391 2.677215 4.626645  88.48431 -279.91064 569.8213\n",
       "8  Apr29    4.134011 3.326785 2.415988 4.662799  88.15343 -304.29278 618.5856\n",
       "9  May03    4.256681 3.904619 2.282700 4.805234 105.98810 -372.94805 755.8961\n",
       "10 May07    4.188808 3.932184 2.233352 4.729450 106.86515 -388.49184 786.9837\n",
       "   rmse_i    rmse_c  \n",
       "1  1.1432066 1.076107\n",
       "2  0.8486471 1.365003\n",
       "3  1.0943927 1.318751\n",
       "4  1.3249035 1.424916\n",
       "5  1.3864776 1.577228\n",
       "6  1.2377283 1.635791\n",
       "7  1.3274160 1.625490\n",
       "8  1.3227114 1.595797\n",
       "9  1.4835655 1.851855\n",
       "10 1.4443683 1.817581"
      ]
     },
     "metadata": {},
     "output_type": "display_data"
    }
   ],
   "source": [
    "pars_final %>% \n",
    "    spread(parameter,estimate) %>% \n",
    "    select(epicurve,mean_h,var_h,par1_h,par2_h,K,loglk,AIC,rmse_i,rmse_c)"
   ]
  },
  {
   "cell_type": "markdown",
   "metadata": {},
   "source": [
    "# Generating Figure 2"
   ]
  },
  {
   "cell_type": "code",
   "execution_count": 135,
   "metadata": {},
   "outputs": [
    {
     "data": {
      "text/html": [
       "'May07'"
      ],
      "text/latex": [
       "'May07'"
      ],
      "text/markdown": [
       "'May07'"
      ],
      "text/plain": [
       "[1] \"May07\""
      ]
     },
     "metadata": {},
     "output_type": "display_data"
    },
    {
     "name": "stderr",
     "output_type": "stream",
     "text": [
      "Warning message:\n",
      "\"Removed 5 rows containing missing values (geom_bar).\"Warning message:\n",
      "\"Removed 5 rows containing missing values (geom_bar).\""
     ]
    },
    {
     "data": {
      "image/png": "[encoded data removed]"
     },
     "metadata": {},
     "output_type": "display_data"
    }
   ],
   "source": [
    "options(repr.plot.width=6,repr.plot.height=8)\n",
    "final %<>% mutate(date = as.Date('2018-03-17')+day)\n",
    "\n",
    "(background_epicurve = rev(all_epicurves)[1])\n",
    "\n",
    "final %>%\n",
    "    ggplot(aes(x=date,group=epicurve,color=epicurve,fill=epicurve)) +\n",
    "        geom_bar(data=filter(final,epicurve==background_epicurve),\n",
    "                 aes(y=i),fill=\"black\",color=\"black\",stat=\"identity\",\n",
    "                 position=position_dodge(1),alpha=.25,size=.15) +\n",
    "        geom_ribbon(aes(ymin=c025_i,ymax=c975_i),alpha=.6,size=0) +\n",
    "        geom_line(aes(y=MLE_i),size=.8) +\n",
    "        geom_vline(xintercept=filter(final,epicurve==background_epicurve) %>% na.omit %>% { max(.$date) },\n",
    "                   size=.45, linetype=\"dashed\") +\n",
    "        coord_cartesian(ylim=c(0,7)) +\n",
    "        scale_color_brewer(palette=\"Spectral\",direction=-1) +\n",
    "        scale_fill_brewer(palette=\"Spectral\",direction=-1) +\n",
    "        labs(y=\"Count\", x=\"Date (day-month)\",\n",
    "             title=\"Number of cases by date of illness onset\",\n",
    "             color=\"Epicurve\", fill=\"Epicurve\") +\n",
    "        scale_x_date(labels = date_format(\"%d-%b\")) +\n",
    "        theme_bw() +\n",
    "        theme(\n",
    "              axis.text.x = element_text(angle = 45, hjust = .5, vjust=0.5),\n",
    "              strip.text.x = element_blank(),\n",
    "              panel.grid.minor.x = element_blank(),\n",
    "              plot.title = element_text(size=11, hjust = 0.5, face=\"bold\"),\n",
    "              strip.background = element_rect(colour=\"white\", fill=\"white\"),\n",
    "              plot.margin = unit(c(.5,1,.5,.5),\"lines\")) -> plt_onset\n",
    "\n",
    "final %>%\n",
    "    ggplot(aes(x=date,group=epicurve,color=epicurve,fill=epicurve)) +\n",
    "        geom_bar(data=filter(final,epicurve==background_epicurve),\n",
    "                 aes(y=c),fill=\"black\",color=\"black\",stat=\"identity\",\n",
    "                 position=position_dodge(1),alpha=.25,size=.15) +\n",
    "        geom_ribbon(aes(ymin=c025_c,ymax=c975_c),alpha=.6,size=0) +\n",
    "        geom_line(aes(y=MLE_c),size=.8) +\n",
    "        geom_vline(xintercept=filter(final,epicurve==background_epicurve) %>% na.omit %>% { max(.$date) },\n",
    "                   size=.45, linetype=\"dashed\") +\n",
    "        scale_color_brewer(palette=\"Spectral\",direction=-1) +\n",
    "        scale_fill_brewer(palette=\"Spectral\",direction=-1) +\n",
    "        scale_x_date(labels = date_format(\"%d-%b\")) +\n",
    "        labs(y=\"Count\", x=\"Date (day-month)\",\n",
    "             title=\"Number of cases by date of laboratory confirmation\",\n",
    "             color=\"Epicurve\", fill=\"Epicurve\") +\n",
    "        theme_bw() + \n",
    "        theme(axis.text.x = element_text(angle = 45, hjust = .5, vjust=0.5),\n",
    "              strip.text.x = element_blank(),\n",
    "              panel.grid.minor.x = element_blank(),\n",
    "              plot.title = element_text(size=11, hjust = 0.5, face=\"bold\"),\n",
    "              strip.background = element_rect(colour=\"white\", fill=\"white\"),\n",
    "              plot.margin = unit(c(.5,1,.5,.5),\"lines\")) -> plt_confirmation\n",
    "\n",
    "grid.arrange(ggplotGrob(plt_onset), ggplotGrob(plt_confirmation), widths=c(1), heights=c(1,1), nrow=2, ncol=1)"
   ]
  },
  {
   "cell_type": "code",
   "execution_count": null,
   "metadata": {},
   "outputs": [],
   "source": []
  }
 ],
 "metadata": {
  "kernelspec": {
   "display_name": "R",
   "language": "R",
   "name": "ir"
  },
  "language_info": {
   "codemirror_mode": "r",
   "file_extension": ".r",
   "mimetype": "text/x-r-source",
   "name": "R",
   "pygments_lexer": "r",
   "version": "3.4.4"
  }
 },
 "nbformat": 4,
 "nbformat_minor": 2
}
